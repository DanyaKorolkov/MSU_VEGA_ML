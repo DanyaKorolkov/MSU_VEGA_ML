{
  "nbformat": 4,
  "nbformat_minor": 0,
  "metadata": {
    "_change_revision": 36,
    "_is_fork": false,
    "colab": {
      "provenance": [],
      "toc_visible": true
    },
    "kernelspec": {
      "display_name": "Python 3",
      "language": "python",
      "name": "python3"
    },
    "language_info": {
      "codemirror_mode": {
        "name": "ipython",
        "version": 3
      },
      "file_extension": ".py",
      "mimetype": "text/x-python",
      "name": "python",
      "nbconvert_exporter": "python",
      "pygments_lexer": "ipython3",
      "version": "3.7.4"
    }
  },
  "cells": [
    {
      "cell_type": "markdown",
      "metadata": {
        "id": "sgk4h1REpC4-"
      },
      "source": [
        "# Домашнее задание №1\n"
      ]
    },
    {
      "cell_type": "markdown",
      "metadata": {
        "id": "y8YOc8hhpC5E"
      },
      "source": [
        "# Про Python\n",
        "\n",
        "**Python** - язык программирования общего назначения, т.е. на нем можно написать все, что угодно.\n",
        "\n",
        "1) Open-source, т.е. он свободно и бесплатно доступен <br>\n",
        "2) Много библиотек, т.е. кода, для работы со специфическими задачами.\n",
        "\n",
        "**Python** - это свободный интерпретируемый объектно-ориентированный расширяемый встраиваемый язык программирования очень высокого уровня (Г.Россум, Ф.Л.Дж.Дрейк, Д.С.Откидач \"Язык программирования Python\").\n",
        "\n",
        "Python - это язык, который могут читать и \"понимать\" разные программные средства.\n",
        "\n",
        "----------------------------"
      ]
    },
    {
      "cell_type": "markdown",
      "metadata": {
        "id": "sNKtjGokpC5G"
      },
      "source": [
        "# Где мы сейчас\n",
        "\n",
        "Мы находимся в **Jupyter Notebook**. Это интерактивная среда, в которой можно не только писать код, а создавать полноценный аналитический документ с кодом, комментариями, графиками, формулами.\n",
        "\n",
        "Файл, в котором мы работаем сейчас, называется **ноутбуком**. Его стандартное расширение .ipynb, читать и запускать его можно через Jupyter Notebook. Но его можно скачать в виде html-страницы или pdf-документа.\n",
        "\n",
        "Google Colab - инструмент для онлайн просмотр, редактирования, шеринга Джупитер-ноутбуков. Другим преимуществом google colab является бесплатный доступ к видеокартам (GPU), которые нужны для тренировки больших моделей машинного обучения (в частности нейросетей). Для пользования Google Colab вам нужен аккаунт гугла.\n",
        "\n",
        "Вы можете продолжить работу в Колабе, или скачать ноутбук и работать локально (перед этим установив Jupyter Notebook)."
      ]
    },
    {
      "cell_type": "markdown",
      "metadata": {
        "id": "h476OldmpC5M"
      },
      "source": [
        "# Anaconda Navigator\n",
        "\n",
        "Это сборка инструментов для анализа данных на Python, она содержит в том числе  Jupyter Notebook, библиотеки для Python и другие инструменты.\n",
        "\n",
        "Среди наиболее популярных библиотек:\n",
        " - <a href=\"http://numpy.org\">Numpy</a> - это один из основных пакетов для научных вычислений. Он содержит функциональные средства для работы с многомерными массивами и высокоуровневыми математическими функциями.\n",
        " - <a href=\"http://numpy.org\">SciPy</a> - научные вычисления. Методы оптимизации, интегрирования, модули обработки сигналов и изображений, статистика, линейная алгебра, сплайны, кластеризация и многое другое.\n",
        " -  <a href=\"http://pandas.pydata.org/\">Pandas</a> - библиотека для обработки и анализа данных. Предназначена для данных разной природы - матричных, панельных данных, временных рядов. Претендует на звание самого мощного и гибкого средства для анализа данных с открытым исходным кодом.\n",
        " - <a href=\"http://scikit-learn.org/stable/\">Scikit-learn</a> - реализация очень многих методов машинного обучения и интеллекуального анализа данных (data mining) с отличной документацией.\n",
        " - <a href=\"http://http://matplotlib.org/\">matplotlib</a> - библиотека для визаулизации данных, в основном двухмерная графика."
      ]
    },
    {
      "cell_type": "markdown",
      "metadata": {
        "id": "c_x4DoEOpC5j"
      },
      "source": [
        "# Как устроен Jupyter Notebook\n",
        "\n",
        "- Любой ноутбук состоит из ячеек. Даже текущий текст написан в ячейке.<br>\n",
        "\n",
        "## Создание ячейки.\n",
        "- Чтобы создать новую ячейку, можно воспользоваться одной из следующих опций: <br>\n",
        "    1) воспользоваться кнопкой \"+\" на верхней панели управления;<br>\n",
        "    \n",
        "    2) с клавиатуры нажать на букву \"B\", и появится новая ячейка после текущей активной; <br>\n",
        "    3) с клавиатуры нажать на букву \"A\", и появится новая ячейка перед текущей активной. <br>\n",
        "\n",
        "## Изменение типа ячейки\n",
        "- Ячейки бывают двух типов: <br>\n",
        "    1) Кодовая<br>\n",
        "    2) Текстовая <br> <br>\n",
        "- Смена типа ячейки осуществляется через верхнюю панель управления, необходимо нажать на ячейку и выбрать ее тип\n",
        "\n",
        "## Редактирование ячейки\n",
        "\n",
        "- Ячейка, которая не активна, серого цвета\n",
        "- Ячейка активируется одним нажатием курсора и становится синего цвета\n",
        "- Ячейка переходит в режим редактирования двойным нажатием курсора и становится зеленого цвета\n",
        "\n",
        "*(в Google Colab цвета могут быть другими, но логика та же самая)*\n",
        "\n",
        "## Запуск ячейки с кодом\n",
        "- Ячейка с кодом, которая еще не была ни разу запущена - слева в квадратных скобках [] пусто.\n",
        "\n",
        "- В последних версиях Jupyter Notebook при приближении к ячейке слева появляется кнопка проигрывания, которая запускает ячейку.\n",
        "\n",
        "- Запустить код можно также из панельной строки. Запускается код ячейки, которая была выбрана!\n",
        "\n",
        "- Если ячейка успешно запущена, то слева в квадратных скобках появляется '*'. После выполнения ячейки в квадратных скобках появится число - это номер выполненной ячейки.\n",
        "\n",
        "## Прерывание работы\n",
        "\n",
        "Иногда требуется искусственно остановить работу ячейки.\n",
        "\n",
        "- Можно нажать кнопку стоп при работе активной ячейки. Знак СТОП вверху.\n",
        "- Можно воспользоваться опцией в меню Kernel - Interrupt\n",
        "- Можно радикально \"перезагрузить\" ноутбук в меню Kernel - Restart and Clear Output"
      ]
    },
    {
      "cell_type": "markdown",
      "metadata": {
        "id": "j3QTWysjpC5l"
      },
      "source": [
        "# Часть 1 - Основы Python (10 баллов)\n",
        "\n",
        "Для прикладных целей важно овладеть несколькими аспектами:\n",
        "\n",
        "- Стандартные функции языка\n",
        "- Переменные и типы данных\n",
        "- Основные конструкции\n",
        "- Написание пользовательских функций\n",
        "- Загрузка и использование библиотек"
      ]
    },
    {
      "cell_type": "markdown",
      "metadata": {
        "id": "RWWB65GupC5m"
      },
      "source": [
        "## Стандартные функции языка\n",
        "\n",
        "Функции - это маленькие программки, которые умеют выполнять какую-то операцию <br />\n",
        "Функции <b>вызываются</b>, после имени функции следуют круглые скобки, в которых указываются <b>аргументы</b> (над каким объектом будет выполнена операция) и <b>параметры </b> (с какими условиями)"
      ]
    },
    {
      "cell_type": "markdown",
      "metadata": {
        "id": "56KzUTOIpC5n"
      },
      "source": [
        "### print()\n",
        "Функция для вывода содержимого на экран. <br>\n",
        "**Обязательно**: передать хотя бы какой-то объект, который нужно напечатать.\n",
        "\n",
        "Ее полный синтаксис:\n",
        "\n",
        "print(*objects, sep=' ', end='\\n', file=sys.stdout, flush=False)¶\n",
        "- objects: один или несколько объектов для вывода, перечисленные через запятую\n",
        "- sep: разделитель между несколькими объектами; стандартно установлен пробел\n",
        "- end: окончание строки; стандартно установлен перевод на новую строчку '\\n'"
      ]
    },
    {
      "cell_type": "code",
      "metadata": {
        "id": "yecT45hLpC5r"
      },
      "source": [
        "print(5)"
      ],
      "execution_count": null,
      "outputs": []
    },
    {
      "cell_type": "code",
      "metadata": {
        "id": "f8nFcsebpC5v"
      },
      "source": [
        "print(5, 6, 7, 8)"
      ],
      "execution_count": null,
      "outputs": []
    },
    {
      "cell_type": "code",
      "metadata": {
        "id": "iTQrb3P3pC5w"
      },
      "source": [
        "print(5, 6, 7, 8, sep='_')"
      ],
      "execution_count": null,
      "outputs": []
    },
    {
      "cell_type": "code",
      "metadata": {
        "id": "3NA4YyVBpC5x"
      },
      "source": [
        "print('October')"
      ],
      "execution_count": null,
      "outputs": []
    },
    {
      "cell_type": "markdown",
      "metadata": {
        "id": "dgZO7wuRpC5x"
      },
      "source": [
        "#### Задача 1\n",
        "\n",
        "Выведите на экран фразу \"Hello, world!\""
      ]
    },
    {
      "cell_type": "code",
      "metadata": {
        "id": "Vcd8AonupC5z",
        "colab": {
          "base_uri": "https://localhost:8080/"
        },
        "outputId": "a6741ea2-58ee-42eb-f723-57f33a9180c1"
      },
      "source": [
        "print('Hello, world!')"
      ],
      "execution_count": null,
      "outputs": [
        {
          "output_type": "stream",
          "name": "stdout",
          "text": [
            "Hello, world!\n"
          ]
        }
      ]
    },
    {
      "cell_type": "markdown",
      "metadata": {
        "id": "TL5_CCXgpC51"
      },
      "source": [
        "### input()\n",
        "Функция для ввода данных в программу с клавиатуры. <br>\n",
        "Обязательных аргументов нет. Можно передавать строчку, которая будет выведена перед ячейкой ввода."
      ]
    },
    {
      "cell_type": "code",
      "metadata": {
        "id": "EoefzcNWpC52",
        "colab": {
          "base_uri": "https://localhost:8080/"
        },
        "outputId": "72c3be3c-e847-409f-c047-ed0e2c6723a6"
      },
      "source": [
        "name = input()\n",
        "print(name)"
      ],
      "execution_count": null,
      "outputs": [
        {
          "output_type": "stream",
          "name": "stdout",
          "text": [
            "r\n",
            "r\n"
          ]
        }
      ]
    },
    {
      "cell_type": "markdown",
      "metadata": {
        "id": "n630tg3SpC53"
      },
      "source": [
        "А здесь небольшое преобразование позволит вывести перед ячейкой ввода нужный текст"
      ]
    },
    {
      "cell_type": "code",
      "metadata": {
        "id": "l-uXAda7pC55",
        "colab": {
          "base_uri": "https://localhost:8080/"
        },
        "outputId": "87561610-aabe-4875-ba0a-29c7c4321a0e"
      },
      "source": [
        "name = input('Введите ваше имя: ')\n",
        "print(name)"
      ],
      "execution_count": null,
      "outputs": [
        {
          "output_type": "stream",
          "name": "stdout",
          "text": [
            "Введите ваше имя: you\n",
            "you\n"
          ]
        }
      ]
    },
    {
      "cell_type": "markdown",
      "metadata": {
        "id": "M6M3sDgdpC58"
      },
      "source": [
        "### Арифметические операции\n",
        "- Сложение: +\n",
        "- Вычитание: -\n",
        "- Умножение: *\n",
        "- Деление: /\n",
        "- Возведение в степень: **\n",
        "- Целочисленное деление: //\n",
        "- Остаток от деления: %"
      ]
    },
    {
      "cell_type": "code",
      "metadata": {
        "id": "xXMV843IpC5-",
        "colab": {
          "base_uri": "https://localhost:8080/"
        },
        "outputId": "7b8509b7-4030-4c3b-ec25-ff4b7a0889d3"
      },
      "source": [
        "print('Работаем с числами', 5, 'и', 2)\n",
        "print(5 + 2)\n",
        "print(5 - 2)\n",
        "print(5*2)\n",
        "print(5 / 2)\n",
        "print( 5 // 2)\n",
        "print('Результат остатка от деления:', 5 % 2)\n",
        "print('Результат возведения в степени:', 5**2)"
      ],
      "execution_count": null,
      "outputs": [
        {
          "output_type": "stream",
          "name": "stdout",
          "text": [
            "Работаем с числами 5 и 2\n",
            "7\n",
            "3\n",
            "10\n",
            "2.5\n",
            "2\n",
            "Результат остатка от деления: 1\n",
            "Результат возведения в степени: 25\n"
          ]
        }
      ]
    },
    {
      "cell_type": "markdown",
      "metadata": {
        "id": "jABnWuZ1pC6J"
      },
      "source": [
        "### Переменные и типы переменных\n",
        "\n",
        "Результаты операций и манипуляций иногда нужно сохранять, поэтому мы определяем переменные - именованные объекты, которым присваиваем значения."
      ]
    },
    {
      "cell_type": "code",
      "metadata": {
        "id": "5XTZBtovpC6J"
      },
      "source": [
        "savings_2017 = 2000\n",
        "savings_2016 = 1800\n",
        "increase = ((2000 - 1800) / 1800)*100"
      ],
      "execution_count": null,
      "outputs": []
    },
    {
      "cell_type": "code",
      "metadata": {
        "id": "MTn__npepC6K",
        "colab": {
          "base_uri": "https://localhost:8080/"
        },
        "outputId": "73d9216d-7a0a-4728-a466-4be341af2dbd"
      },
      "source": [
        "#Вывести на печать % роста накоплений\n",
        "print(round(increase), '%', sep='')"
      ],
      "execution_count": null,
      "outputs": [
        {
          "output_type": "stream",
          "name": "stdout",
          "text": [
            "11%\n"
          ]
        }
      ]
    },
    {
      "cell_type": "markdown",
      "metadata": {
        "id": "C9jdri85pC6K"
      },
      "source": [
        "#### Задача 2\n",
        "\n",
        "Представим, что у нас в активе $100, которые можно инвестировать с 10%-ным ежегодным доходом. <br>\n",
        "Сколько денег мы заработаем через 7 лет?\n",
        "\n",
        "- Создайте переменную savings со значением 100\n",
        "- Создайте переменную rate, которая отвечает за ежегодный рост\n",
        "- Сохраните результат вычисления в переменную result\n",
        "- Выведите на печать результаты"
      ]
    },
    {
      "cell_type": "markdown",
      "metadata": {
        "id": "8aJWc61spC6L"
      },
      "source": [
        "Функция **type** позволяет определить, какого типа переменная нам дана или какого типа переменную мы записали."
      ]
    },
    {
      "cell_type": "code",
      "metadata": {
        "id": "uc8M37uhpC6M",
        "colab": {
          "base_uri": "https://localhost:8080/"
        },
        "outputId": "9126e752-2757-4877-8e96-5b6d9c95b617"
      },
      "source": [
        "print(type(savings_2017))\n",
        "print(type(increase))"
      ],
      "execution_count": null,
      "outputs": [
        {
          "output_type": "stream",
          "name": "stdout",
          "text": [
            "<class 'int'>\n",
            "<class 'float'>\n"
          ]
        }
      ]
    },
    {
      "cell_type": "code",
      "metadata": {
        "id": "D5n1O6RhpC6N",
        "colab": {
          "base_uri": "https://localhost:8080/"
        },
        "outputId": "6ebac961-d5fc-4782-b4cc-38567481ae05"
      },
      "source": [
        "text = 'Monatery Savings in 2017'\n",
        "print(type(text))"
      ],
      "execution_count": null,
      "outputs": [
        {
          "output_type": "stream",
          "name": "stdout",
          "text": [
            "<class 'str'>\n"
          ]
        }
      ]
    },
    {
      "cell_type": "code",
      "metadata": {
        "id": "lQ_-Q4P4pC6i",
        "colab": {
          "base_uri": "https://localhost:8080/"
        },
        "outputId": "c551f634-9164-49dc-8725-6f1c523c01c1"
      },
      "source": [
        "x = False\n",
        "print(type(x))"
      ],
      "execution_count": null,
      "outputs": [
        {
          "output_type": "stream",
          "name": "stdout",
          "text": [
            "<class 'bool'>\n"
          ]
        }
      ]
    },
    {
      "cell_type": "markdown",
      "metadata": {
        "id": "jV-BBjaepC6i"
      },
      "source": [
        "Если нужно поменять тип переменной, то полезны функции:\n",
        "\n",
        "- int() - возвращает целочисленную переменную\n",
        "- float() - возвращает нецелочисленную переменную\n",
        "- bool() - возвращает булеву переменную\n",
        "- str() - возвращает строковую переменную"
      ]
    },
    {
      "cell_type": "code",
      "metadata": {
        "id": "VlrDw9fppC6j"
      },
      "source": [
        "savings = 100\n",
        "rate    = 0.1"
      ],
      "execution_count": null,
      "outputs": []
    },
    {
      "cell_type": "code",
      "metadata": {
        "id": "gk-AXiQepC6j",
        "colab": {
          "base_uri": "https://localhost:8080/"
        },
        "outputId": "abefa509-dec7-4640-b6aa-c9eceb525924"
      },
      "source": [
        "result = savings * (1 + rate)**7\n",
        "print(f'{result = }')"
      ],
      "execution_count": null,
      "outputs": [
        {
          "output_type": "stream",
          "name": "stdout",
          "text": [
            "result = 194.87171000000012\n"
          ]
        }
      ]
    },
    {
      "cell_type": "markdown",
      "metadata": {
        "id": "KHpF7nAIpC6l"
      },
      "source": [
        "#### Задача 3\n",
        "\n",
        "Поправьте строчку кода так, чтобы она работала:"
      ]
    },
    {
      "cell_type": "code",
      "metadata": {
        "id": "vaUq73yLpC6m",
        "colab": {
          "base_uri": "https://localhost:8080/"
        },
        "outputId": "0e908604-afb6-42ac-f9db-db6ae7b2e75d"
      },
      "source": [
        "print(\"I started with $\" + str(savings_2016) + \" and now have $\" + str(savings_2017) + \". Not good!\")"
      ],
      "execution_count": null,
      "outputs": [
        {
          "output_type": "stream",
          "name": "stdout",
          "text": [
            "I started with $1800 and now have $2000. Not good!\n"
          ]
        }
      ]
    },
    {
      "cell_type": "markdown",
      "metadata": {
        "id": "GjiCxniOpC6n"
      },
      "source": [
        "### Листы\n",
        "\n",
        "Четыре рассмотренных типа данных устроены так, что в одной переменной записано одно значение:\n",
        "- int: целое число\n",
        "- float: число с дробной частью\n",
        "- str: текст\n",
        "- bool: логическая переменная\n",
        "\n",
        "Например, если мы хотим зафиксировать накопления членов семьи, мы можем создать ряд переменных и вписать туда информацию"
      ]
    },
    {
      "cell_type": "code",
      "metadata": {
        "id": "6-WSE7aRpC6t"
      },
      "source": [
        "savings1 = 500\n",
        "savings2 = 1000\n",
        "savings3 = 746\n",
        "savings4 = 456"
      ],
      "execution_count": null,
      "outputs": []
    },
    {
      "cell_type": "markdown",
      "metadata": {
        "id": "-vxkWGjDpC6v"
      },
      "source": [
        "Но это не очень удобно, мы можем записать всю информацию в одной переменной:"
      ]
    },
    {
      "cell_type": "code",
      "metadata": {
        "id": "2bnGCiIWpC6w"
      },
      "source": [
        "savings_family = [500, 1000, 746, 2000]"
      ],
      "execution_count": null,
      "outputs": []
    },
    {
      "cell_type": "markdown",
      "metadata": {
        "id": "8_xC76KOpC6w"
      },
      "source": [
        "Эта конструкция называется листом и является отдельным типом данных."
      ]
    },
    {
      "cell_type": "code",
      "metadata": {
        "id": "-4PykLappC6y"
      },
      "source": [
        "savings_family = ['mom', 500,'dad', 1000, 'brother', 746, 'me', 2000]"
      ],
      "execution_count": null,
      "outputs": []
    },
    {
      "cell_type": "markdown",
      "metadata": {
        "id": "Einf5zrzpC6z"
      },
      "source": [
        "А здесь - лист листов :)"
      ]
    },
    {
      "cell_type": "code",
      "metadata": {
        "id": "XNGvC7R-pC68"
      },
      "source": [
        "savings_family = [['mom', 500], ['dad', 1000], ['brother', 746], ['me', 2000]]"
      ],
      "execution_count": null,
      "outputs": []
    },
    {
      "cell_type": "code",
      "metadata": {
        "id": "Te0KpGsjpC6_",
        "colab": {
          "base_uri": "https://localhost:8080/"
        },
        "outputId": "c2573b2b-78bf-4f58-c0f3-fb3d2657355a"
      },
      "source": [
        "s = 0\n",
        "for member in savings_family:\n",
        "    s = s + member[1]\n",
        "print(s)"
      ],
      "execution_count": null,
      "outputs": [
        {
          "output_type": "stream",
          "name": "stdout",
          "text": [
            "4246\n"
          ]
        }
      ]
    },
    {
      "cell_type": "code",
      "metadata": {
        "id": "zcTEaThKpC7A",
        "colab": {
          "base_uri": "https://localhost:8080/"
        },
        "outputId": "f87e4417-2010-4159-be21-f7aa27b59915"
      },
      "source": [
        "print(savings_family)"
      ],
      "execution_count": null,
      "outputs": [
        {
          "output_type": "stream",
          "name": "stdout",
          "text": [
            "[['mom', 500], ['dad', 1000], ['brother', 746], ['me', 2000]]\n"
          ]
        }
      ]
    },
    {
      "cell_type": "markdown",
      "metadata": {
        "id": "CtSgszFIpC7B"
      },
      "source": [
        "#### Задача 4\n",
        "\n",
        "Создайте лист home, в котором записан название и метраж комнат в доме. Распечатайте лист."
      ]
    },
    {
      "cell_type": "code",
      "source": [
        "home = [['kitchen', 15], ['living_room', 20], ['bedroom', 18]]\n",
        "print(home)"
      ],
      "metadata": {
        "id": "9dfk7K356KV1",
        "colab": {
          "base_uri": "https://localhost:8080/"
        },
        "outputId": "b3df0968-bf4d-4406-bb99-79d7415ebee1"
      },
      "execution_count": null,
      "outputs": [
        {
          "output_type": "stream",
          "name": "stdout",
          "text": [
            "[['kitchen', 15], ['living_room', 20], ['bedroom', 18]]\n"
          ]
        }
      ]
    },
    {
      "cell_type": "markdown",
      "metadata": {
        "id": "9XRLox_KpC7B"
      },
      "source": [
        "К элементам листа можно обращаться по индексу:"
      ]
    },
    {
      "cell_type": "markdown",
      "metadata": {
        "id": "8r91uceBpC7B"
      },
      "source": [
        "Есть много методов (т.е. функций, которые присущи только листам) для работы с листами:\n",
        "\n",
        "Методы\n",
        "- list.append(x)\tДобавляет элемент в конец списка\n",
        "- list.extend(L)\tРасширяет список list, добавляя в конец все элементы списка L\n",
        "- list.insert(i, x)\tВставляет на i-ый элемент значение x\n",
        "- list.remove(x)\tУдаляет первый элемент в списке, имеющий значение x. ValueError, если такого элемента не существует\n",
        "- list.pop([i])\tУдаляет i-ый элемент и возвращает его. Если индекс не указан, удаляется последний элемент\n",
        "- list.index(x, [start [, end]])\tВозвращает положение первого элемента со значением x (при этом поиск ведется от start до end)\n",
        "- list.count(x)\tВозвращает количество элементов со значением x\n",
        "- list.sort([key=функция])\tСортирует список на основе функции\n",
        "- list.reverse()\tРазворачивает список\n",
        "- list.copy()\tПоверхностная копия списка\n",
        "- list.clear()\tОчищает список"
      ]
    },
    {
      "cell_type": "code",
      "metadata": {
        "id": "12mV1RlFpC7C",
        "colab": {
          "base_uri": "https://localhost:8080/"
        },
        "outputId": "4d75d23c-82d7-4241-c2be-28798185e1c4"
      },
      "source": [
        "#удаляем запись про последнего члена семьи\n",
        "savings_family.pop()\n",
        "print(savings_family)"
      ],
      "execution_count": null,
      "outputs": [
        {
          "output_type": "stream",
          "name": "stdout",
          "text": [
            "[['mom', 500], ['dad', 1000], ['brother', 746]]\n"
          ]
        }
      ]
    },
    {
      "cell_type": "code",
      "metadata": {
        "id": "PUoz0p9XpC7C"
      },
      "source": [
        "#а теперь добавим\n",
        "savings_family.append(['me', 2000])"
      ],
      "execution_count": null,
      "outputs": []
    },
    {
      "cell_type": "code",
      "metadata": {
        "id": "vMK9KatlpC7D"
      },
      "source": [
        "#Создайте список из двух списков, в котором хранится информация о сбережениях дяди в 4000 и о сбережениях тети в 10000\n",
        "savings_relatives = [['uncle', 4000], ['aunt', 10000]]"
      ],
      "execution_count": null,
      "outputs": []
    },
    {
      "cell_type": "code",
      "metadata": {
        "id": "MxK88btQpC7D",
        "colab": {
          "base_uri": "https://localhost:8080/"
        },
        "outputId": "2b0f25ad-5ba7-4c32-a100-c77c462d340d"
      },
      "source": [
        "savings_family.extend(savings_relatives)\n",
        "print(savings_family)"
      ],
      "execution_count": null,
      "outputs": [
        {
          "output_type": "stream",
          "name": "stdout",
          "text": [
            "[['mom', 500], ['dad', 1000], ['brother', 746], ['me', 2000], ['uncle', 4000], ['aunt', 10000]]\n"
          ]
        }
      ]
    },
    {
      "cell_type": "markdown",
      "metadata": {
        "id": "FVqGlXqBpC7E"
      },
      "source": [
        "#### Задача 5\n",
        "\n",
        "Посчитайте сумму сбережений всей семьи"
      ]
    },
    {
      "cell_type": "code",
      "metadata": {
        "id": "qE-HCPBlpC7E",
        "colab": {
          "base_uri": "https://localhost:8080/"
        },
        "outputId": "3ba78134-1d11-4e6b-ceaf-e23df4d9645c"
      },
      "source": [
        "s = 0\n",
        "for member in savings_family:\n",
        "    s += member[1]\n",
        "    print(member)\n",
        "\n",
        "print(f'\\n{s = }')"
      ],
      "execution_count": null,
      "outputs": [
        {
          "output_type": "stream",
          "name": "stdout",
          "text": [
            "['mom', 500]\n",
            "['dad', 1000]\n",
            "['brother', 746]\n",
            "['me', 2000]\n",
            "['uncle', 4000]\n",
            "['aunt', 10000]\n",
            "\n",
            "s = 18246\n"
          ]
        }
      ]
    },
    {
      "cell_type": "markdown",
      "metadata": {
        "id": "EfkORdVapC7E"
      },
      "source": [
        "## Основные конструкции языка\n",
        "\n",
        "### Логические выражения\n",
        "\n",
        "По аналогии с арифметическими выражениями существуют логические выражения, которые могут быть истинными или ложными. Простое логическое выражение имеет вид <br />\n",
        "\n",
        "<арифметическое выражение> <знак сравнения> <арифметическое выражение>. <br />\n",
        "\n",
        "Например, если у нас есть переменные x и y с какими-то значениями, то логическое выражение <br /> x + y < 3y <br /> в качестве первого арифметического выражения имеет x + y, в качестве знака сравнения < (меньше), а второе арифметическое выражение в нём 3y.\n",
        "\n",
        "<center>\n",
        "    <table>\n",
        "        <tr>\n",
        "            <th>Логическое выражение </th>\n",
        "            <th> Значение </th>\n",
        "        </tr>\n",
        "        <tr><td>&lt;</td><td> Меньше</td></tr>\n",
        "        <tr><td>&gt;</td><td> Больше</td></tr>\n",
        "        <tr><td>&lt;=</td><td> Меньше или равно</td></tr>\n",
        "        <tr><td>&gt;=</td><td> Больше или равно</td></tr>\n",
        "        <tr><td>==</td><td> Равно </td></tr>\n",
        "        <tr><td>!=</td><td> Не равно</td></tr>\n",
        "    </table>\n",
        "</center>"
      ]
    },
    {
      "cell_type": "code",
      "metadata": {
        "id": "-FYx5e4lpC7F",
        "colab": {
          "base_uri": "https://localhost:8080/"
        },
        "outputId": "01618749-3e14-4365-d6d0-d5edc6a0cbaf"
      },
      "source": [
        "x = 1 > 2\n",
        "print(type(x))\n",
        "print(x)\n",
        "print(int(x))"
      ],
      "execution_count": null,
      "outputs": [
        {
          "output_type": "stream",
          "name": "stdout",
          "text": [
            "<class 'bool'>\n",
            "False\n",
            "0\n"
          ]
        }
      ]
    },
    {
      "cell_type": "markdown",
      "metadata": {
        "id": "wlmTYNWbpC7F"
      },
      "source": [
        "Чтобы записать сложное логическое выражение, часто бывает необходимо воспользоваться логическими связками \"и\", \"или\" и \"не\". В Питоне они обозначаются как and, or и not соответственно. Операции and и or являеются бинарными, т.е. должны быть записаны между операндами, например x < 3 or y > 2. Операция not - унарная и должна быть записана перед единственным своим операндом."
      ]
    },
    {
      "cell_type": "code",
      "metadata": {
        "id": "FG5kUzTEpC7G",
        "colab": {
          "base_uri": "https://localhost:8080/"
        },
        "outputId": "c0433b7f-1705-4f36-fdbd-e07da72ce3ce"
      },
      "source": [
        "x = int(input())\n",
        "y = int(input())\n",
        "z = int(input())\n",
        "print(x == y)\n",
        "print(x > y and y < z)"
      ],
      "execution_count": null,
      "outputs": [
        {
          "output_type": "stream",
          "name": "stdout",
          "text": [
            "1\n",
            "2\n",
            "3\n",
            "False\n",
            "False\n"
          ]
        }
      ]
    },
    {
      "cell_type": "markdown",
      "metadata": {
        "id": "iVRGUb-rpC7H"
      },
      "source": [
        "#### Задача 6\n",
        "\n",
        "Сравните, больше ли x 10. Результат распечатайте"
      ]
    },
    {
      "cell_type": "code",
      "metadata": {
        "id": "zglUADILpC7K",
        "colab": {
          "base_uri": "https://localhost:8080/"
        },
        "outputId": "8e8688de-f69b-4baf-ecf9-109d9e8ae515"
      },
      "source": [
        "x = 7\n",
        "\n",
        "print(x > 10)"
      ],
      "execution_count": null,
      "outputs": [
        {
          "output_type": "stream",
          "name": "stdout",
          "text": [
            "False\n"
          ]
        }
      ]
    },
    {
      "cell_type": "markdown",
      "metadata": {
        "id": "LcFyP8bQpC7N"
      },
      "source": [
        "\n",
        "### Условный оператор"
      ]
    },
    {
      "cell_type": "markdown",
      "metadata": {
        "id": "feBYuyDmpC7O"
      },
      "source": [
        "Наиболее частое применение логические выражения находят в условных операторах.\n",
        "\n",
        "Синтаксис в питоне: <br />\n",
        "**if** условие1:<br />\n",
        "&emsp; команды<br />\n",
        "**elif** условие2:<br />\n",
        "&emsp; команды<br />\n",
        "**elif** условие3:<br />\n",
        "&emsp; команды<br />\n",
        "**else**: <br />\n",
        "&emsp; команды<br />"
      ]
    },
    {
      "cell_type": "code",
      "metadata": {
        "id": "c2ybFonjpC7O",
        "colab": {
          "base_uri": "https://localhost:8080/"
        },
        "outputId": "d9251cd1-e517-4dcf-d02e-84aa97bc21ce"
      },
      "source": [
        "x = 5\n",
        "y = 7\n",
        "if x > y:\n",
        "    print('X больше Y')\n",
        "    print(x - y)\n",
        "else:\n",
        "    print(' ')\n",
        "    print('Y не меньше, чем X')"
      ],
      "execution_count": null,
      "outputs": [
        {
          "output_type": "stream",
          "name": "stdout",
          "text": [
            " \n",
            "Y не меньше, чем X\n"
          ]
        }
      ]
    },
    {
      "cell_type": "code",
      "metadata": {
        "id": "-SQ66kljpC7O",
        "colab": {
          "base_uri": "https://localhost:8080/"
        },
        "outputId": "8db188f5-fb9d-4884-c41e-46ace6731ea4"
      },
      "source": [
        "x = int(input())\n",
        "y = int(input())\n",
        "if x > y:\n",
        "    print('X больше Y')\n",
        "    print(x - y)\n",
        "elif y > x:\n",
        "    print('Y больше X')\n",
        "    print(y - x)\n",
        "else:\n",
        "    print('X равно Y')"
      ],
      "execution_count": null,
      "outputs": [
        {
          "output_type": "stream",
          "name": "stdout",
          "text": [
            "1\n",
            "2\n",
            "Y больше X\n",
            "1\n"
          ]
        }
      ]
    },
    {
      "cell_type": "markdown",
      "metadata": {
        "id": "26xqjDqGpC7P"
      },
      "source": [
        "#### Задача 7-8\n",
        "\n",
        "1) Дана площадь кухни. Если она превышает 15 кв.м, то должна появиться строчка \"Кухня большая!\", в противном случае - \"Кухня маленькая\""
      ]
    },
    {
      "cell_type": "code",
      "metadata": {
        "id": "uGqzxyQYpC7P",
        "colab": {
          "base_uri": "https://localhost:8080/"
        },
        "outputId": "58ae8221-b4d0-4e6a-989c-ade33d3890e8"
      },
      "source": [
        "room = \"kit\"\n",
        "area = 14.0\n",
        "\n",
        "if area > 15:\n",
        "    print('Кухня большая!')\n",
        "else:\n",
        "    print('Кухня маленькая')"
      ],
      "execution_count": null,
      "outputs": [
        {
          "output_type": "stream",
          "name": "stdout",
          "text": [
            "Кухня маленькая\n"
          ]
        }
      ]
    },
    {
      "cell_type": "markdown",
      "metadata": {
        "id": "sYV6ktczpC7R"
      },
      "source": [
        "2) Дано натуральное число. Требуется определить, является ли год с данным номером високосным. Если год является високосным, то выведите YES, иначе выведите NO. Напомним, что в соответствии с григорианским календарем, год является високосным, если его номер кратен 4, но не кратен 100, а также если он кратен 400."
      ]
    },
    {
      "cell_type": "code",
      "metadata": {
        "id": "5RbrJCFApC7S",
        "colab": {
          "base_uri": "https://localhost:8080/"
        },
        "outputId": "72da643b-63f8-4a63-8a49-703c308035fa"
      },
      "source": [
        "n = int(input())\n",
        "if (n%4 == 0 and n%100 != 0) or (n%400 == 0):\n",
        "    print('YES')\n",
        "\n",
        "else:\n",
        "    print('NO')"
      ],
      "execution_count": null,
      "outputs": [
        {
          "output_type": "stream",
          "name": "stdout",
          "text": [
            "800\n",
            "YES\n"
          ]
        }
      ]
    },
    {
      "cell_type": "markdown",
      "metadata": {
        "id": "a410kDfapC7T"
      },
      "source": [
        "### Цикл while\n",
        "\n",
        "Как только строчка кода выполнилась, она \"забывается\", т.е. чтобы повторить это действие, нужно явно прописать еще раз. Для многократного повторения одних и тех же действий используются циклические конструкции.\n",
        "\n",
        "While переводится как \"пока\" и позволяет выполнять команды, до тех пор, пока условие верно. После окончания выполнения блока команд, относящихся к while, управление возвращается на строку с условием и, если оно выполнено, то выполнение блока команд повторяется, а если не выполнено, то продолжается выполнение команд, записанных после while.\n",
        "\n",
        "Важно случайно не сделать бесконечный цикл!\n",
        "\n",
        "**while** условие1:<br />\n",
        "&emsp; команды<br />\n",
        "\n",
        "Все команды пишутся с отступом. ."
      ]
    },
    {
      "cell_type": "code",
      "metadata": {
        "scrolled": true,
        "id": "Tqrt88zkpC7U"
      },
      "source": [
        "# нажать на стоп, чтобы прекратить воспроизведение\n",
        "temperature = 5\n",
        "while temperature > 0:\n",
        "    print('The weather is OK.')\n",
        "    #temperature = temperature - 1"
      ],
      "execution_count": null,
      "outputs": []
    },
    {
      "cell_type": "markdown",
      "metadata": {
        "id": "W1yy7-GgpC7V"
      },
      "source": [
        "\n",
        "### Цикл for"
      ]
    },
    {
      "cell_type": "markdown",
      "metadata": {
        "id": "2OQLVxVxpC7V"
      },
      "source": [
        "#### Функция range(n)\n",
        "Создается объект класса range, внутри которого содержится арифметическая прогрессия в заданных диапазонах и с определенным шагом\n",
        "\n",
        "Ее синтаксис:\n",
        "- range(start, stop[, step])"
      ]
    },
    {
      "cell_type": "code",
      "metadata": {
        "id": "bVVCBfIdpC7W",
        "colab": {
          "base_uri": "https://localhost:8080/"
        },
        "outputId": "b0d74248-e15c-48f4-808a-7e5b9a5c69a5"
      },
      "source": [
        "print(range(5))\n",
        "print(list(range(5)))\n",
        "print(list(range(2, 7)))\n",
        "print(list(range(2, 6, 2)))"
      ],
      "execution_count": null,
      "outputs": [
        {
          "output_type": "stream",
          "name": "stdout",
          "text": [
            "range(0, 5)\n",
            "[0, 1, 2, 3, 4]\n",
            "[2, 3, 4, 5, 6]\n",
            "[2, 4]\n"
          ]
        }
      ]
    },
    {
      "cell_type": "markdown",
      "metadata": {
        "id": "ytXFAy2_pC7W"
      },
      "source": [
        "## Цикл for\n",
        "Цикл for позволяет поочередно перебрать элементы из чего-нибудь итерируемого.\n",
        "\n",
        "Ее синтаксис: <br />\n",
        "**for** i **in** диапазон изменений i:<br />\n",
        "&emsp; команды\n",
        "\n",
        "Все команды пишутся с отступом"
      ]
    },
    {
      "cell_type": "code",
      "metadata": {
        "id": "7bzaCeoBpC7W",
        "colab": {
          "base_uri": "https://localhost:8080/"
        },
        "outputId": "e25ea0a3-3cbf-4fe7-d9fd-9f31a0d737b6"
      },
      "source": [
        "n = 5\n",
        "for i in range(n + 1):\n",
        "    print(i**2)"
      ],
      "execution_count": null,
      "outputs": [
        {
          "output_type": "stream",
          "name": "stdout",
          "text": [
            "0\n",
            "1\n",
            "4\n",
            "9\n",
            "16\n",
            "25\n"
          ]
        }
      ]
    },
    {
      "cell_type": "code",
      "metadata": {
        "id": "fLkxHq0mpC7W",
        "colab": {
          "base_uri": "https://localhost:8080/"
        },
        "outputId": "c1a1eebb-ec16-4ab7-938e-0e6f469343e8"
      },
      "source": [
        "for color in ['red', 'green', 'yellow']:\n",
        "    print(color, 'apple')"
      ],
      "execution_count": null,
      "outputs": [
        {
          "output_type": "stream",
          "name": "stdout",
          "text": [
            "red apple\n",
            "green apple\n",
            "yellow apple\n"
          ]
        }
      ]
    },
    {
      "cell_type": "markdown",
      "metadata": {
        "id": "fNzfILWDpC7Y"
      },
      "source": [
        "#### Задача 9\n",
        "\n",
        "Выведите сумму сбережений всех членов семьи из листа savings_family в цикле for"
      ]
    },
    {
      "cell_type": "code",
      "metadata": {
        "id": "BmwtVio4pC7Z",
        "colab": {
          "base_uri": "https://localhost:8080/"
        },
        "outputId": "be0a480f-729a-4a70-ab2e-6157f8f4471a"
      },
      "source": [
        "for member in savings_family:\n",
        "  print(member[0], ':', member[1])"
      ],
      "execution_count": null,
      "outputs": [
        {
          "output_type": "stream",
          "name": "stdout",
          "text": [
            "mom : 500\n",
            "dad : 1000\n",
            "brother : 746\n",
            "me : 2000\n",
            "uncle : 4000\n",
            "aunt : 10000\n"
          ]
        }
      ]
    },
    {
      "cell_type": "markdown",
      "metadata": {
        "id": "Zy1o6gUepC7q"
      },
      "source": [
        "## Написание функций\n",
        "\n",
        "Если какие-то операции надо повторять из раза в раз и нет готовых функций, то можно создать свою.\n",
        "\n",
        "Синтаксис: <br />\n",
        "**def** название функции([список аргументов]):<br />\n",
        "&emsp; команды<br />\n",
        "&emsp; **return** результат выполнения функции<br />\n",
        "\n",
        "Все команды пишутся с отступом.\n",
        "\n",
        "Функция должна быть записана в любом месте до ее первого вызова."
      ]
    },
    {
      "cell_type": "code",
      "metadata": {
        "id": "sjjrB5ILpC7v",
        "colab": {
          "base_uri": "https://localhost:8080/"
        },
        "outputId": "0f069d29-ab19-404f-f65b-b4b418803148"
      },
      "source": [
        "def power(number, p):\n",
        "    result = number**p\n",
        "    return result\n",
        "\n",
        "number = int(input())\n",
        "p = int(input())\n",
        "print(power(number, p))"
      ],
      "execution_count": null,
      "outputs": [
        {
          "output_type": "stream",
          "name": "stdout",
          "text": [
            "6\n",
            "3\n",
            "216\n"
          ]
        }
      ]
    },
    {
      "cell_type": "code",
      "metadata": {
        "id": "MHAdQic9pC7x",
        "colab": {
          "base_uri": "https://localhost:8080/"
        },
        "outputId": "6b271975-4035-41aa-b88b-5d8f85425ee4"
      },
      "source": [
        "6**5"
      ],
      "execution_count": null,
      "outputs": [
        {
          "output_type": "execute_result",
          "data": {
            "text/plain": [
              "7776"
            ]
          },
          "metadata": {},
          "execution_count": 55
        }
      ]
    },
    {
      "cell_type": "markdown",
      "metadata": {
        "id": "AzPaTh9epC7z"
      },
      "source": [
        "#### Задача 10\n",
        "\n",
        "Напишите функцию, которая считает площадь треугольника по трем сторонам. Стороны вводятся вне функции. <br />\n",
        "Подсказка: используйте формулу Герона\n",
        "$$ S = \\sqrt{p(p-a)(p-b)(p-c)} $$\n",
        "$$ p = \\frac{a + b + c}{2}$$\n",
        "**Образец**\n",
        "\n",
        "Входные данные:<br />\n",
        "3\n",
        "4\n",
        "5\n",
        "\n",
        "Вывод программы: <br />\n",
        "6"
      ]
    },
    {
      "cell_type": "code",
      "metadata": {
        "id": "I8VCzUDgpC70"
      },
      "source": [
        "def square_triangle(a, b, c):\n",
        "    p = (a + b + c) / 2\n",
        "    S = (p * (p - a) * (p - b) * (p - c))**(1/2)\n",
        "    return S"
      ],
      "execution_count": null,
      "outputs": []
    },
    {
      "cell_type": "code",
      "metadata": {
        "id": "hHU-AZCdpC70",
        "colab": {
          "base_uri": "https://localhost:8080/"
        },
        "outputId": "368083ba-0b4f-4c9d-91bb-7a5e7a97ceaa"
      },
      "source": [
        "a = int(input())\n",
        "b = int(input())\n",
        "c = int(input())\n",
        "print(square_triangle(a, b, c))"
      ],
      "execution_count": null,
      "outputs": [
        {
          "output_type": "stream",
          "name": "stdout",
          "text": [
            "1\n",
            "1\n",
            "1\n",
            "0.4330127018922193\n"
          ]
        }
      ]
    },
    {
      "cell_type": "markdown",
      "metadata": {
        "id": "CYj2eD2epC71"
      },
      "source": [
        "# ЧАСТЬ 2. Работа с Pandas - эксплоративный анализ данных (5 баллов)\n",
        "\n",
        "Наша цель на сегодня: **учиться \"видеть\" данные**.\n",
        "\n",
        "В классе мы будем учиться по датасету **про вина** (приближаем пятницу как можем).\n",
        "Что мы будем делать с винами?\n",
        "\n",
        "Один человек, который собрал данные, предлагает следующее:\n",
        "\n",
        "*After watching Somm (a documentary on master sommeliers) I wondered how I could create a predictive model to identify wines through blind tasting like a master sommelier would. The first step in this journey was gathering some data to train a model. I plan to use deep learning to predict the wine variety using words in the description/review. The model still won't be able to taste the wine, but theoretically it could identify the wine based on a description that a sommelier could give. If anyone has any ideas on how to accomplish this, please post them!*\n",
        "\n",
        "Мы в будущем тоже захотим оценить, а сможем ли по описанию вин узнать их качество и побыть сомелье, основанными на искусственном интеллекте. **Хорошее ли вино? Какую оценку ему поставить? Какую цену?**\n",
        "\n",
        "\n",
        "**!Но до этого нам надо познакомиться с данными - вдруг нам дали какую-то кучку мусора, из которого заказчик хочет прекрасное!**.\n",
        "\n",
        "Можно, конечно, знакомиться с данными в эксель. Но не на курсе DS, даже для новичков :)\n",
        "\n",
        "Помогать будет нам python, а особенно - библиотека pandas"
      ]
    },
    {
      "cell_type": "markdown",
      "metadata": {
        "id": "R2m3TdgzpC74"
      },
      "source": [
        "## Pandas. Загрузка библиотек\n",
        "\n",
        " -  <a href=\"http://pandas.pydata.org/\">Pandas</a> - библиотека для обработки и анализа данных. Предназначена для данных разной природы - матричных, панельных данных, временных рядов. Претендует на звание самого мощного и гибкого средства для анализа данных с открытым исходным кодом.\n",
        "\n",
        "\n",
        "Чтобы использовать (любую) библиотеку, нужно подгрузить ее в наш рабочий документ. <br>\n",
        "Команда устроена так:\n",
        "\n",
        "\n",
        "**import** название библиотеки\n",
        "\n",
        "\n",
        "Для дальнейшего использования название библиотеки могут сократить, но тогда в загрузке указывают ее псевдоним\n",
        "\n",
        "\n",
        "**import** название библиотеки **as** псевдоним\n"
      ]
    },
    {
      "cell_type": "code",
      "metadata": {
        "id": "62TQZ6AxpC75"
      },
      "source": [
        "import pandas as pd"
      ],
      "execution_count": null,
      "outputs": []
    },
    {
      "cell_type": "markdown",
      "metadata": {
        "id": "2S-7D8wNpC8B"
      },
      "source": [
        "В пандас есть две структуры данных:\n",
        "- Series: одномерный массив с именованными индексами (чаще всего, данные одного типа)\n",
        "- DataFrame: двухмерный массив, имеет табличную структуру, легко изменяется по размерам, может содержать в себе данные разных типов\n",
        "\n",
        "Оба типа можно создавать вручную с помощью функций из самой библиотеки:\n",
        "- pandas.Series(data=None, index=None, dtype=None)\n",
        "- pandas.DataFrame(data=None, index=None, columns=None, dtype=None)\n",
        "\n",
        "- **data** - данные, которые надо записать в структуру\n",
        "- **index** - индексы строк\n",
        "- **columns** - названия столбцов\n",
        "- **dtype** - тип данных\n",
        "\n",
        "Кроме data, остальные параметры опциональны\n"
      ]
    },
    {
      "cell_type": "markdown",
      "metadata": {
        "id": "JEk9kZ36pC8F"
      },
      "source": [
        "Мы, конечно, можем сами создавать датафреймы!\n",
        "\n",
        "\n",
        "Давайте разберемся, что здесь что и запишем в известную нам конструкцию - листы."
      ]
    },
    {
      "cell_type": "code",
      "metadata": {
        "id": "FYNQDTHNpC8G"
      },
      "source": [
        "columns = ['country', 'province', 'region_1', 'region_2']\n",
        "index = [0, 1, 10, 100]\n",
        "data = [['Italy', 'Sicily & Sardinia', 'Etna', 'NaN'],\n",
        "        ['Portugal', 'Douro', 'NaN', 'NaN'],\n",
        "       ['US', 'California', 'Napa Valley', 'Napa'],\n",
        "       ['US', 'New York', 'Finger Lakes', 'Finger Lakes']]"
      ],
      "execution_count": null,
      "outputs": []
    },
    {
      "cell_type": "markdown",
      "metadata": {
        "id": "0qXnpvh-pC8G"
      },
      "source": [
        "А теперь соберем в датафрейм"
      ]
    },
    {
      "cell_type": "code",
      "metadata": {
        "scrolled": true,
        "id": "ZQ4bgpxdpC8H",
        "colab": {
          "base_uri": "https://localhost:8080/",
          "height": 170
        },
        "outputId": "a3a71c94-a6ae-4be5-d981-5336215239f4"
      },
      "source": [
        "df = pd.DataFrame(data, columns = columns, index = index)\n",
        "df"
      ],
      "execution_count": null,
      "outputs": [
        {
          "output_type": "execute_result",
          "data": {
            "text/plain": [
              "      country           province      region_1      region_2\n",
              "0       Italy  Sicily & Sardinia          Etna           NaN\n",
              "1    Portugal              Douro           NaN           NaN\n",
              "10         US         California   Napa Valley          Napa\n",
              "100        US           New York  Finger Lakes  Finger Lakes"
            ],
            "text/html": [
              "\n",
              "  <div id=\"df-8a0e2577-ce83-4c4f-b0f8-e9d315f9bfd0\">\n",
              "    <div class=\"colab-df-container\">\n",
              "      <div>\n",
              "<style scoped>\n",
              "    .dataframe tbody tr th:only-of-type {\n",
              "        vertical-align: middle;\n",
              "    }\n",
              "\n",
              "    .dataframe tbody tr th {\n",
              "        vertical-align: top;\n",
              "    }\n",
              "\n",
              "    .dataframe thead th {\n",
              "        text-align: right;\n",
              "    }\n",
              "</style>\n",
              "<table border=\"1\" class=\"dataframe\">\n",
              "  <thead>\n",
              "    <tr style=\"text-align: right;\">\n",
              "      <th></th>\n",
              "      <th>country</th>\n",
              "      <th>province</th>\n",
              "      <th>region_1</th>\n",
              "      <th>region_2</th>\n",
              "    </tr>\n",
              "  </thead>\n",
              "  <tbody>\n",
              "    <tr>\n",
              "      <th>0</th>\n",
              "      <td>Italy</td>\n",
              "      <td>Sicily &amp; Sardinia</td>\n",
              "      <td>Etna</td>\n",
              "      <td>NaN</td>\n",
              "    </tr>\n",
              "    <tr>\n",
              "      <th>1</th>\n",
              "      <td>Portugal</td>\n",
              "      <td>Douro</td>\n",
              "      <td>NaN</td>\n",
              "      <td>NaN</td>\n",
              "    </tr>\n",
              "    <tr>\n",
              "      <th>10</th>\n",
              "      <td>US</td>\n",
              "      <td>California</td>\n",
              "      <td>Napa Valley</td>\n",
              "      <td>Napa</td>\n",
              "    </tr>\n",
              "    <tr>\n",
              "      <th>100</th>\n",
              "      <td>US</td>\n",
              "      <td>New York</td>\n",
              "      <td>Finger Lakes</td>\n",
              "      <td>Finger Lakes</td>\n",
              "    </tr>\n",
              "  </tbody>\n",
              "</table>\n",
              "</div>\n",
              "      <button class=\"colab-df-convert\" onclick=\"convertToInteractive('df-8a0e2577-ce83-4c4f-b0f8-e9d315f9bfd0')\"\n",
              "              title=\"Convert this dataframe to an interactive table.\"\n",
              "              style=\"display:none;\">\n",
              "        \n",
              "  <svg xmlns=\"http://www.w3.org/2000/svg\" height=\"24px\"viewBox=\"0 0 24 24\"\n",
              "       width=\"24px\">\n",
              "    <path d=\"M0 0h24v24H0V0z\" fill=\"none\"/>\n",
              "    <path d=\"M18.56 5.44l.94 2.06.94-2.06 2.06-.94-2.06-.94-.94-2.06-.94 2.06-2.06.94zm-11 1L8.5 8.5l.94-2.06 2.06-.94-2.06-.94L8.5 2.5l-.94 2.06-2.06.94zm10 10l.94 2.06.94-2.06 2.06-.94-2.06-.94-.94-2.06-.94 2.06-2.06.94z\"/><path d=\"M17.41 7.96l-1.37-1.37c-.4-.4-.92-.59-1.43-.59-.52 0-1.04.2-1.43.59L10.3 9.45l-7.72 7.72c-.78.78-.78 2.05 0 2.83L4 21.41c.39.39.9.59 1.41.59.51 0 1.02-.2 1.41-.59l7.78-7.78 2.81-2.81c.8-.78.8-2.07 0-2.86zM5.41 20L4 18.59l7.72-7.72 1.47 1.35L5.41 20z\"/>\n",
              "  </svg>\n",
              "      </button>\n",
              "      \n",
              "  <style>\n",
              "    .colab-df-container {\n",
              "      display:flex;\n",
              "      flex-wrap:wrap;\n",
              "      gap: 12px;\n",
              "    }\n",
              "\n",
              "    .colab-df-convert {\n",
              "      background-color: #E8F0FE;\n",
              "      border: none;\n",
              "      border-radius: 50%;\n",
              "      cursor: pointer;\n",
              "      display: none;\n",
              "      fill: #1967D2;\n",
              "      height: 32px;\n",
              "      padding: 0 0 0 0;\n",
              "      width: 32px;\n",
              "    }\n",
              "\n",
              "    .colab-df-convert:hover {\n",
              "      background-color: #E2EBFA;\n",
              "      box-shadow: 0px 1px 2px rgba(60, 64, 67, 0.3), 0px 1px 3px 1px rgba(60, 64, 67, 0.15);\n",
              "      fill: #174EA6;\n",
              "    }\n",
              "\n",
              "    [theme=dark] .colab-df-convert {\n",
              "      background-color: #3B4455;\n",
              "      fill: #D2E3FC;\n",
              "    }\n",
              "\n",
              "    [theme=dark] .colab-df-convert:hover {\n",
              "      background-color: #434B5C;\n",
              "      box-shadow: 0px 1px 3px 1px rgba(0, 0, 0, 0.15);\n",
              "      filter: drop-shadow(0px 1px 2px rgba(0, 0, 0, 0.3));\n",
              "      fill: #FFFFFF;\n",
              "    }\n",
              "  </style>\n",
              "\n",
              "      <script>\n",
              "        const buttonEl =\n",
              "          document.querySelector('#df-8a0e2577-ce83-4c4f-b0f8-e9d315f9bfd0 button.colab-df-convert');\n",
              "        buttonEl.style.display =\n",
              "          google.colab.kernel.accessAllowed ? 'block' : 'none';\n",
              "\n",
              "        async function convertToInteractive(key) {\n",
              "          const element = document.querySelector('#df-8a0e2577-ce83-4c4f-b0f8-e9d315f9bfd0');\n",
              "          const dataTable =\n",
              "            await google.colab.kernel.invokeFunction('convertToInteractive',\n",
              "                                                     [key], {});\n",
              "          if (!dataTable) return;\n",
              "\n",
              "          const docLinkHtml = 'Like what you see? Visit the ' +\n",
              "            '<a target=\"_blank\" href=https://colab.research.google.com/notebooks/data_table.ipynb>data table notebook</a>'\n",
              "            + ' to learn more about interactive tables.';\n",
              "          element.innerHTML = '';\n",
              "          dataTable['output_type'] = 'display_data';\n",
              "          await google.colab.output.renderOutput(dataTable, element);\n",
              "          const docLink = document.createElement('div');\n",
              "          docLink.innerHTML = docLinkHtml;\n",
              "          element.appendChild(docLink);\n",
              "        }\n",
              "      </script>\n",
              "    </div>\n",
              "  </div>\n",
              "  "
            ]
          },
          "metadata": {},
          "execution_count": 60
        }
      ]
    },
    {
      "cell_type": "markdown",
      "metadata": {
        "id": "_GgVLa6mpC8I"
      },
      "source": [
        "### Загрузка и запись данных\n",
        "\n",
        "Правда в том, что мы не будем так жестоко к себе и вручную вбивать данные не будем. А будем загружать из файла.\n",
        "\n",
        "\n",
        "- Функции типа **pd.read_формат** и **pd.to_формат**\n",
        "считывают и записывают данные соответственно. Например, табличку Excel можно считать с помощью команды `pd.read_excel`.  <br /> Полный список можно найти в документации:\n",
        "http://pandas.pydata.org/pandas-docs/stable/io.html\n",
        "\n",
        "Я лично перестала пользоваться экселем даже для беглого смотра данных, потому что на моем ноутбуке файлы больше 50Мб представляют сложности для чтения, а я просматриваю гигабайтные файлы. Pandas грузит их в худшем случае минуту-полторы.\n",
        "\n",
        "Научимся считывать данные в формате csv (comma separated value) функцией:\n",
        "\n",
        "- <a href=\"http://pandas.pydata.org/pandas-docs/stable/generated/pandas.read_csv.html#pandas.read_csv\"> pd.read_csv()</a>:\n",
        "\n",
        "Аргументов у нее очень много, критически важные:\n",
        " - **filepath_or_buffer** - текстовая строка с названием (адресом) файла\n",
        " - **sep** - разделитель между данными\n",
        " - **header** - номер строки, в которой в файле указаны названия столбцов, None, если нет\n",
        " - **names** - список с названиями колонок\n",
        " - **index_col** - или номер столбца, или список,  или ничего - колонка, из которой надо взять названия строк\n"
      ]
    },
    {
      "cell_type": "markdown",
      "metadata": {
        "id": "VUDYvqK3pC8I"
      },
      "source": [
        "У вас он должен был скачаться под именем: 'dpo_1-2_winemag-data_first150k.csv', поэтому на первом месте вы вписываете ровно вот это название."
      ]
    },
    {
      "cell_type": "code",
      "metadata": {
        "id": "n4KcmSuApC8M"
      },
      "source": [
        "%%capture\n",
        "\n",
        "#с помощью команды Linux wget скачиваем таблицу с Дропбокса\n",
        "#на виндоусе так сделать не получится, поэтому просто перейдите по ссылке, и скачайте таблицу в папку с ноутбуком\n",
        "\n",
        "!wget https://www.dropbox.com/s/5ycld62k09iavd7/dpo_1-2_winemag-data_first150k.csv"
      ],
      "execution_count": null,
      "outputs": []
    },
    {
      "cell_type": "code",
      "metadata": {
        "id": "oFAgmJf7pC8P"
      },
      "source": [
        "data = pd.read_csv('dpo_1-2_winemag-data_first150k.csv')"
      ],
      "execution_count": null,
      "outputs": []
    },
    {
      "cell_type": "markdown",
      "metadata": {
        "id": "lV8h8xSTpC8Q"
      },
      "source": [
        "\n",
        "### Смотрим, что загрузилось"
      ]
    },
    {
      "cell_type": "code",
      "metadata": {
        "id": "ypb5QE_EpC8Q",
        "colab": {
          "base_uri": "https://localhost:8080/",
          "height": 343
        },
        "outputId": "ade2ebed-5cb4-4429-9090-85f67a2bedb4"
      },
      "source": [
        "data.head(5)"
      ],
      "execution_count": null,
      "outputs": [
        {
          "output_type": "execute_result",
          "data": {
            "text/plain": [
              "   Unnamed: 0 country                                        description  \\\n",
              "0           0      US  This tremendous 100% varietal wine hails from ...   \n",
              "1           1   Spain  Ripe aromas of fig, blackberry and cassis are ...   \n",
              "2           2      US  Mac Watson honors the memory of a wine once ma...   \n",
              "3           3      US  This spent 20 months in 30% new French oak, an...   \n",
              "4           4  France  This is the top wine from La Bégude, named aft...   \n",
              "\n",
              "                            designation  points  price        province  \\\n",
              "0                     Martha's Vineyard      96  235.0      California   \n",
              "1  Carodorum Selección Especial Reserva      96  110.0  Northern Spain   \n",
              "2         Special Selected Late Harvest      96   90.0      California   \n",
              "3                               Reserve      96   65.0          Oregon   \n",
              "4                            La Brûlade      95   66.0        Provence   \n",
              "\n",
              "            region_1           region_2             variety  \\\n",
              "0        Napa Valley               Napa  Cabernet Sauvignon   \n",
              "1               Toro                NaN       Tinta de Toro   \n",
              "2     Knights Valley             Sonoma     Sauvignon Blanc   \n",
              "3  Willamette Valley  Willamette Valley          Pinot Noir   \n",
              "4             Bandol                NaN  Provence red blend   \n",
              "\n",
              "                    winery  \n",
              "0                    Heitz  \n",
              "1  Bodega Carmen Rodríguez  \n",
              "2                 Macauley  \n",
              "3                    Ponzi  \n",
              "4     Domaine de la Bégude  "
            ],
            "text/html": [
              "\n",
              "  <div id=\"df-61d4fb86-2c2f-44a8-83f6-bd0bdd1d8de7\">\n",
              "    <div class=\"colab-df-container\">\n",
              "      <div>\n",
              "<style scoped>\n",
              "    .dataframe tbody tr th:only-of-type {\n",
              "        vertical-align: middle;\n",
              "    }\n",
              "\n",
              "    .dataframe tbody tr th {\n",
              "        vertical-align: top;\n",
              "    }\n",
              "\n",
              "    .dataframe thead th {\n",
              "        text-align: right;\n",
              "    }\n",
              "</style>\n",
              "<table border=\"1\" class=\"dataframe\">\n",
              "  <thead>\n",
              "    <tr style=\"text-align: right;\">\n",
              "      <th></th>\n",
              "      <th>Unnamed: 0</th>\n",
              "      <th>country</th>\n",
              "      <th>description</th>\n",
              "      <th>designation</th>\n",
              "      <th>points</th>\n",
              "      <th>price</th>\n",
              "      <th>province</th>\n",
              "      <th>region_1</th>\n",
              "      <th>region_2</th>\n",
              "      <th>variety</th>\n",
              "      <th>winery</th>\n",
              "    </tr>\n",
              "  </thead>\n",
              "  <tbody>\n",
              "    <tr>\n",
              "      <th>0</th>\n",
              "      <td>0</td>\n",
              "      <td>US</td>\n",
              "      <td>This tremendous 100% varietal wine hails from ...</td>\n",
              "      <td>Martha's Vineyard</td>\n",
              "      <td>96</td>\n",
              "      <td>235.0</td>\n",
              "      <td>California</td>\n",
              "      <td>Napa Valley</td>\n",
              "      <td>Napa</td>\n",
              "      <td>Cabernet Sauvignon</td>\n",
              "      <td>Heitz</td>\n",
              "    </tr>\n",
              "    <tr>\n",
              "      <th>1</th>\n",
              "      <td>1</td>\n",
              "      <td>Spain</td>\n",
              "      <td>Ripe aromas of fig, blackberry and cassis are ...</td>\n",
              "      <td>Carodorum Selección Especial Reserva</td>\n",
              "      <td>96</td>\n",
              "      <td>110.0</td>\n",
              "      <td>Northern Spain</td>\n",
              "      <td>Toro</td>\n",
              "      <td>NaN</td>\n",
              "      <td>Tinta de Toro</td>\n",
              "      <td>Bodega Carmen Rodríguez</td>\n",
              "    </tr>\n",
              "    <tr>\n",
              "      <th>2</th>\n",
              "      <td>2</td>\n",
              "      <td>US</td>\n",
              "      <td>Mac Watson honors the memory of a wine once ma...</td>\n",
              "      <td>Special Selected Late Harvest</td>\n",
              "      <td>96</td>\n",
              "      <td>90.0</td>\n",
              "      <td>California</td>\n",
              "      <td>Knights Valley</td>\n",
              "      <td>Sonoma</td>\n",
              "      <td>Sauvignon Blanc</td>\n",
              "      <td>Macauley</td>\n",
              "    </tr>\n",
              "    <tr>\n",
              "      <th>3</th>\n",
              "      <td>3</td>\n",
              "      <td>US</td>\n",
              "      <td>This spent 20 months in 30% new French oak, an...</td>\n",
              "      <td>Reserve</td>\n",
              "      <td>96</td>\n",
              "      <td>65.0</td>\n",
              "      <td>Oregon</td>\n",
              "      <td>Willamette Valley</td>\n",
              "      <td>Willamette Valley</td>\n",
              "      <td>Pinot Noir</td>\n",
              "      <td>Ponzi</td>\n",
              "    </tr>\n",
              "    <tr>\n",
              "      <th>4</th>\n",
              "      <td>4</td>\n",
              "      <td>France</td>\n",
              "      <td>This is the top wine from La Bégude, named aft...</td>\n",
              "      <td>La Brûlade</td>\n",
              "      <td>95</td>\n",
              "      <td>66.0</td>\n",
              "      <td>Provence</td>\n",
              "      <td>Bandol</td>\n",
              "      <td>NaN</td>\n",
              "      <td>Provence red blend</td>\n",
              "      <td>Domaine de la Bégude</td>\n",
              "    </tr>\n",
              "  </tbody>\n",
              "</table>\n",
              "</div>\n",
              "      <button class=\"colab-df-convert\" onclick=\"convertToInteractive('df-61d4fb86-2c2f-44a8-83f6-bd0bdd1d8de7')\"\n",
              "              title=\"Convert this dataframe to an interactive table.\"\n",
              "              style=\"display:none;\">\n",
              "        \n",
              "  <svg xmlns=\"http://www.w3.org/2000/svg\" height=\"24px\"viewBox=\"0 0 24 24\"\n",
              "       width=\"24px\">\n",
              "    <path d=\"M0 0h24v24H0V0z\" fill=\"none\"/>\n",
              "    <path d=\"M18.56 5.44l.94 2.06.94-2.06 2.06-.94-2.06-.94-.94-2.06-.94 2.06-2.06.94zm-11 1L8.5 8.5l.94-2.06 2.06-.94-2.06-.94L8.5 2.5l-.94 2.06-2.06.94zm10 10l.94 2.06.94-2.06 2.06-.94-2.06-.94-.94-2.06-.94 2.06-2.06.94z\"/><path d=\"M17.41 7.96l-1.37-1.37c-.4-.4-.92-.59-1.43-.59-.52 0-1.04.2-1.43.59L10.3 9.45l-7.72 7.72c-.78.78-.78 2.05 0 2.83L4 21.41c.39.39.9.59 1.41.59.51 0 1.02-.2 1.41-.59l7.78-7.78 2.81-2.81c.8-.78.8-2.07 0-2.86zM5.41 20L4 18.59l7.72-7.72 1.47 1.35L5.41 20z\"/>\n",
              "  </svg>\n",
              "      </button>\n",
              "      \n",
              "  <style>\n",
              "    .colab-df-container {\n",
              "      display:flex;\n",
              "      flex-wrap:wrap;\n",
              "      gap: 12px;\n",
              "    }\n",
              "\n",
              "    .colab-df-convert {\n",
              "      background-color: #E8F0FE;\n",
              "      border: none;\n",
              "      border-radius: 50%;\n",
              "      cursor: pointer;\n",
              "      display: none;\n",
              "      fill: #1967D2;\n",
              "      height: 32px;\n",
              "      padding: 0 0 0 0;\n",
              "      width: 32px;\n",
              "    }\n",
              "\n",
              "    .colab-df-convert:hover {\n",
              "      background-color: #E2EBFA;\n",
              "      box-shadow: 0px 1px 2px rgba(60, 64, 67, 0.3), 0px 1px 3px 1px rgba(60, 64, 67, 0.15);\n",
              "      fill: #174EA6;\n",
              "    }\n",
              "\n",
              "    [theme=dark] .colab-df-convert {\n",
              "      background-color: #3B4455;\n",
              "      fill: #D2E3FC;\n",
              "    }\n",
              "\n",
              "    [theme=dark] .colab-df-convert:hover {\n",
              "      background-color: #434B5C;\n",
              "      box-shadow: 0px 1px 3px 1px rgba(0, 0, 0, 0.15);\n",
              "      filter: drop-shadow(0px 1px 2px rgba(0, 0, 0, 0.3));\n",
              "      fill: #FFFFFF;\n",
              "    }\n",
              "  </style>\n",
              "\n",
              "      <script>\n",
              "        const buttonEl =\n",
              "          document.querySelector('#df-61d4fb86-2c2f-44a8-83f6-bd0bdd1d8de7 button.colab-df-convert');\n",
              "        buttonEl.style.display =\n",
              "          google.colab.kernel.accessAllowed ? 'block' : 'none';\n",
              "\n",
              "        async function convertToInteractive(key) {\n",
              "          const element = document.querySelector('#df-61d4fb86-2c2f-44a8-83f6-bd0bdd1d8de7');\n",
              "          const dataTable =\n",
              "            await google.colab.kernel.invokeFunction('convertToInteractive',\n",
              "                                                     [key], {});\n",
              "          if (!dataTable) return;\n",
              "\n",
              "          const docLinkHtml = 'Like what you see? Visit the ' +\n",
              "            '<a target=\"_blank\" href=https://colab.research.google.com/notebooks/data_table.ipynb>data table notebook</a>'\n",
              "            + ' to learn more about interactive tables.';\n",
              "          element.innerHTML = '';\n",
              "          dataTable['output_type'] = 'display_data';\n",
              "          await google.colab.output.renderOutput(dataTable, element);\n",
              "          const docLink = document.createElement('div');\n",
              "          docLink.innerHTML = docLinkHtml;\n",
              "          element.appendChild(docLink);\n",
              "        }\n",
              "      </script>\n",
              "    </div>\n",
              "  </div>\n",
              "  "
            ]
          },
          "metadata": {},
          "execution_count": 63
        }
      ]
    },
    {
      "cell_type": "markdown",
      "metadata": {
        "id": "V11n9bkvpC8R"
      },
      "source": [
        "Что-то не то с первым столбцом, немного поправим"
      ]
    },
    {
      "cell_type": "code",
      "metadata": {
        "id": "tlFKUwxrpC8S"
      },
      "source": [
        "data = pd.read_csv('dpo_1-2_winemag-data_first150k.csv', index_col = 0)"
      ],
      "execution_count": null,
      "outputs": []
    },
    {
      "cell_type": "code",
      "metadata": {
        "scrolled": true,
        "id": "lfOi9FUOpC8S",
        "colab": {
          "base_uri": "https://localhost:8080/",
          "height": 232
        },
        "outputId": "949965b2-12be-47b1-81f8-3a8769316216"
      },
      "source": [
        "data.head(3)"
      ],
      "execution_count": null,
      "outputs": [
        {
          "output_type": "execute_result",
          "data": {
            "text/plain": [
              "  country                                        description  \\\n",
              "0      US  This tremendous 100% varietal wine hails from ...   \n",
              "1   Spain  Ripe aromas of fig, blackberry and cassis are ...   \n",
              "2      US  Mac Watson honors the memory of a wine once ma...   \n",
              "\n",
              "                            designation  points  price        province  \\\n",
              "0                     Martha's Vineyard      96  235.0      California   \n",
              "1  Carodorum Selección Especial Reserva      96  110.0  Northern Spain   \n",
              "2         Special Selected Late Harvest      96   90.0      California   \n",
              "\n",
              "         region_1 region_2             variety                   winery  \n",
              "0     Napa Valley     Napa  Cabernet Sauvignon                    Heitz  \n",
              "1            Toro      NaN       Tinta de Toro  Bodega Carmen Rodríguez  \n",
              "2  Knights Valley   Sonoma     Sauvignon Blanc                 Macauley  "
            ],
            "text/html": [
              "\n",
              "  <div id=\"df-022eb31f-cb86-4c26-8791-f9f7d215f41c\">\n",
              "    <div class=\"colab-df-container\">\n",
              "      <div>\n",
              "<style scoped>\n",
              "    .dataframe tbody tr th:only-of-type {\n",
              "        vertical-align: middle;\n",
              "    }\n",
              "\n",
              "    .dataframe tbody tr th {\n",
              "        vertical-align: top;\n",
              "    }\n",
              "\n",
              "    .dataframe thead th {\n",
              "        text-align: right;\n",
              "    }\n",
              "</style>\n",
              "<table border=\"1\" class=\"dataframe\">\n",
              "  <thead>\n",
              "    <tr style=\"text-align: right;\">\n",
              "      <th></th>\n",
              "      <th>country</th>\n",
              "      <th>description</th>\n",
              "      <th>designation</th>\n",
              "      <th>points</th>\n",
              "      <th>price</th>\n",
              "      <th>province</th>\n",
              "      <th>region_1</th>\n",
              "      <th>region_2</th>\n",
              "      <th>variety</th>\n",
              "      <th>winery</th>\n",
              "    </tr>\n",
              "  </thead>\n",
              "  <tbody>\n",
              "    <tr>\n",
              "      <th>0</th>\n",
              "      <td>US</td>\n",
              "      <td>This tremendous 100% varietal wine hails from ...</td>\n",
              "      <td>Martha's Vineyard</td>\n",
              "      <td>96</td>\n",
              "      <td>235.0</td>\n",
              "      <td>California</td>\n",
              "      <td>Napa Valley</td>\n",
              "      <td>Napa</td>\n",
              "      <td>Cabernet Sauvignon</td>\n",
              "      <td>Heitz</td>\n",
              "    </tr>\n",
              "    <tr>\n",
              "      <th>1</th>\n",
              "      <td>Spain</td>\n",
              "      <td>Ripe aromas of fig, blackberry and cassis are ...</td>\n",
              "      <td>Carodorum Selección Especial Reserva</td>\n",
              "      <td>96</td>\n",
              "      <td>110.0</td>\n",
              "      <td>Northern Spain</td>\n",
              "      <td>Toro</td>\n",
              "      <td>NaN</td>\n",
              "      <td>Tinta de Toro</td>\n",
              "      <td>Bodega Carmen Rodríguez</td>\n",
              "    </tr>\n",
              "    <tr>\n",
              "      <th>2</th>\n",
              "      <td>US</td>\n",
              "      <td>Mac Watson honors the memory of a wine once ma...</td>\n",
              "      <td>Special Selected Late Harvest</td>\n",
              "      <td>96</td>\n",
              "      <td>90.0</td>\n",
              "      <td>California</td>\n",
              "      <td>Knights Valley</td>\n",
              "      <td>Sonoma</td>\n",
              "      <td>Sauvignon Blanc</td>\n",
              "      <td>Macauley</td>\n",
              "    </tr>\n",
              "  </tbody>\n",
              "</table>\n",
              "</div>\n",
              "      <button class=\"colab-df-convert\" onclick=\"convertToInteractive('df-022eb31f-cb86-4c26-8791-f9f7d215f41c')\"\n",
              "              title=\"Convert this dataframe to an interactive table.\"\n",
              "              style=\"display:none;\">\n",
              "        \n",
              "  <svg xmlns=\"http://www.w3.org/2000/svg\" height=\"24px\"viewBox=\"0 0 24 24\"\n",
              "       width=\"24px\">\n",
              "    <path d=\"M0 0h24v24H0V0z\" fill=\"none\"/>\n",
              "    <path d=\"M18.56 5.44l.94 2.06.94-2.06 2.06-.94-2.06-.94-.94-2.06-.94 2.06-2.06.94zm-11 1L8.5 8.5l.94-2.06 2.06-.94-2.06-.94L8.5 2.5l-.94 2.06-2.06.94zm10 10l.94 2.06.94-2.06 2.06-.94-2.06-.94-.94-2.06-.94 2.06-2.06.94z\"/><path d=\"M17.41 7.96l-1.37-1.37c-.4-.4-.92-.59-1.43-.59-.52 0-1.04.2-1.43.59L10.3 9.45l-7.72 7.72c-.78.78-.78 2.05 0 2.83L4 21.41c.39.39.9.59 1.41.59.51 0 1.02-.2 1.41-.59l7.78-7.78 2.81-2.81c.8-.78.8-2.07 0-2.86zM5.41 20L4 18.59l7.72-7.72 1.47 1.35L5.41 20z\"/>\n",
              "  </svg>\n",
              "      </button>\n",
              "      \n",
              "  <style>\n",
              "    .colab-df-container {\n",
              "      display:flex;\n",
              "      flex-wrap:wrap;\n",
              "      gap: 12px;\n",
              "    }\n",
              "\n",
              "    .colab-df-convert {\n",
              "      background-color: #E8F0FE;\n",
              "      border: none;\n",
              "      border-radius: 50%;\n",
              "      cursor: pointer;\n",
              "      display: none;\n",
              "      fill: #1967D2;\n",
              "      height: 32px;\n",
              "      padding: 0 0 0 0;\n",
              "      width: 32px;\n",
              "    }\n",
              "\n",
              "    .colab-df-convert:hover {\n",
              "      background-color: #E2EBFA;\n",
              "      box-shadow: 0px 1px 2px rgba(60, 64, 67, 0.3), 0px 1px 3px 1px rgba(60, 64, 67, 0.15);\n",
              "      fill: #174EA6;\n",
              "    }\n",
              "\n",
              "    [theme=dark] .colab-df-convert {\n",
              "      background-color: #3B4455;\n",
              "      fill: #D2E3FC;\n",
              "    }\n",
              "\n",
              "    [theme=dark] .colab-df-convert:hover {\n",
              "      background-color: #434B5C;\n",
              "      box-shadow: 0px 1px 3px 1px rgba(0, 0, 0, 0.15);\n",
              "      filter: drop-shadow(0px 1px 2px rgba(0, 0, 0, 0.3));\n",
              "      fill: #FFFFFF;\n",
              "    }\n",
              "  </style>\n",
              "\n",
              "      <script>\n",
              "        const buttonEl =\n",
              "          document.querySelector('#df-022eb31f-cb86-4c26-8791-f9f7d215f41c button.colab-df-convert');\n",
              "        buttonEl.style.display =\n",
              "          google.colab.kernel.accessAllowed ? 'block' : 'none';\n",
              "\n",
              "        async function convertToInteractive(key) {\n",
              "          const element = document.querySelector('#df-022eb31f-cb86-4c26-8791-f9f7d215f41c');\n",
              "          const dataTable =\n",
              "            await google.colab.kernel.invokeFunction('convertToInteractive',\n",
              "                                                     [key], {});\n",
              "          if (!dataTable) return;\n",
              "\n",
              "          const docLinkHtml = 'Like what you see? Visit the ' +\n",
              "            '<a target=\"_blank\" href=https://colab.research.google.com/notebooks/data_table.ipynb>data table notebook</a>'\n",
              "            + ' to learn more about interactive tables.';\n",
              "          element.innerHTML = '';\n",
              "          dataTable['output_type'] = 'display_data';\n",
              "          await google.colab.output.renderOutput(dataTable, element);\n",
              "          const docLink = document.createElement('div');\n",
              "          docLink.innerHTML = docLinkHtml;\n",
              "          element.appendChild(docLink);\n",
              "        }\n",
              "      </script>\n",
              "    </div>\n",
              "  </div>\n",
              "  "
            ]
          },
          "metadata": {},
          "execution_count": 65
        }
      ]
    },
    {
      "cell_type": "markdown",
      "metadata": {
        "id": "7r5XSUE-pC8V"
      },
      "source": [
        "### Смотрим, что загрузилось:\n",
        "\n",
        "- Посчитаем, сколько записей\n",
        "- Посмотрим, какого типа данные\n",
        "- Проверим, есть ли пропуски"
      ]
    },
    {
      "cell_type": "markdown",
      "metadata": {
        "id": "TOl3daYfpC8W"
      },
      "source": [
        "Посчитаем, сколько записей в данных.\n",
        "\n",
        "- Помогает метод **count()**. Это значит, что к любому датафрейму стучимся в гости с этим методом:"
      ]
    },
    {
      "cell_type": "code",
      "metadata": {
        "scrolled": true,
        "id": "XXoHffCjpC8X",
        "colab": {
          "base_uri": "https://localhost:8080/"
        },
        "outputId": "29c4b5dc-fcdf-442e-bdbf-280a8203579e"
      },
      "source": [
        "data.count()"
      ],
      "execution_count": null,
      "outputs": [
        {
          "output_type": "execute_result",
          "data": {
            "text/plain": [
              "country        150925\n",
              "description    150930\n",
              "designation    105195\n",
              "points         150930\n",
              "price          137235\n",
              "province       150925\n",
              "region_1       125870\n",
              "region_2        60953\n",
              "variety        150930\n",
              "winery         150930\n",
              "dtype: int64"
            ]
          },
          "metadata": {},
          "execution_count": 66
        }
      ]
    },
    {
      "cell_type": "markdown",
      "metadata": {
        "id": "CKK-uQh0pC8Y"
      },
      "source": [
        "- Метод info() заодно показывает, какого типа данные в столбцах"
      ]
    },
    {
      "cell_type": "code",
      "metadata": {
        "id": "Yp0CAoAWpC8Y",
        "colab": {
          "base_uri": "https://localhost:8080/"
        },
        "outputId": "4346e1db-7a35-404f-d7e3-a1f5f127fdcf"
      },
      "source": [
        "data.info()"
      ],
      "execution_count": null,
      "outputs": [
        {
          "output_type": "stream",
          "name": "stdout",
          "text": [
            "<class 'pandas.core.frame.DataFrame'>\n",
            "Int64Index: 150930 entries, 0 to 150929\n",
            "Data columns (total 10 columns):\n",
            " #   Column       Non-Null Count   Dtype  \n",
            "---  ------       --------------   -----  \n",
            " 0   country      150925 non-null  object \n",
            " 1   description  150930 non-null  object \n",
            " 2   designation  105195 non-null  object \n",
            " 3   points       150930 non-null  int64  \n",
            " 4   price        137235 non-null  float64\n",
            " 5   province     150925 non-null  object \n",
            " 6   region_1     125870 non-null  object \n",
            " 7   region_2     60953 non-null   object \n",
            " 8   variety      150930 non-null  object \n",
            " 9   winery       150930 non-null  object \n",
            "dtypes: float64(1), int64(1), object(8)\n",
            "memory usage: 12.7+ MB\n"
          ]
        }
      ]
    },
    {
      "cell_type": "code",
      "metadata": {
        "id": "jE5rjur4pC8Z",
        "colab": {
          "base_uri": "https://localhost:8080/"
        },
        "outputId": "3a81d730-869b-406a-e5d2-4c40733f618c"
      },
      "source": [
        "data.dtypes"
      ],
      "execution_count": null,
      "outputs": [
        {
          "output_type": "execute_result",
          "data": {
            "text/plain": [
              "country         object\n",
              "description     object\n",
              "designation     object\n",
              "points           int64\n",
              "price          float64\n",
              "province        object\n",
              "region_1        object\n",
              "region_2        object\n",
              "variety         object\n",
              "winery          object\n",
              "dtype: object"
            ]
          },
          "metadata": {},
          "execution_count": 68
        }
      ]
    },
    {
      "cell_type": "markdown",
      "metadata": {
        "id": "ogc_W9EjpC8b"
      },
      "source": [
        "Начнем проверять на пропуски!\n",
        "\n",
        "- .isnull() - выдает табличку, где False - ячейка заполнена, True - ячейка пуста :( Ближайшая родня - isna()"
      ]
    },
    {
      "cell_type": "code",
      "metadata": {
        "id": "mBzuDykwpC8d",
        "colab": {
          "base_uri": "https://localhost:8080/",
          "height": 411
        },
        "outputId": "646b123a-8b5e-4f04-a806-5bf1c40adc64"
      },
      "source": [
        "data.isnull()"
      ],
      "execution_count": null,
      "outputs": [
        {
          "output_type": "execute_result",
          "data": {
            "text/plain": [
              "        country  description  designation  points  price  province  region_1  \\\n",
              "0         False        False        False   False  False     False     False   \n",
              "1         False        False        False   False  False     False     False   \n",
              "2         False        False        False   False  False     False     False   \n",
              "3         False        False        False   False  False     False     False   \n",
              "4         False        False        False   False  False     False     False   \n",
              "...         ...          ...          ...     ...    ...       ...       ...   \n",
              "150925    False        False         True   False  False     False     False   \n",
              "150926    False        False        False   False  False     False     False   \n",
              "150927    False        False        False   False  False     False     False   \n",
              "150928    False        False        False   False  False     False     False   \n",
              "150929    False        False         True   False  False     False     False   \n",
              "\n",
              "        region_2  variety  winery  \n",
              "0          False    False   False  \n",
              "1           True    False   False  \n",
              "2          False    False   False  \n",
              "3          False    False   False  \n",
              "4           True    False   False  \n",
              "...          ...      ...     ...  \n",
              "150925      True    False   False  \n",
              "150926      True    False   False  \n",
              "150927      True    False   False  \n",
              "150928      True    False   False  \n",
              "150929      True    False   False  \n",
              "\n",
              "[150930 rows x 10 columns]"
            ],
            "text/html": [
              "\n",
              "  <div id=\"df-6de36c79-b7db-497a-99fa-c073219fe49a\">\n",
              "    <div class=\"colab-df-container\">\n",
              "      <div>\n",
              "<style scoped>\n",
              "    .dataframe tbody tr th:only-of-type {\n",
              "        vertical-align: middle;\n",
              "    }\n",
              "\n",
              "    .dataframe tbody tr th {\n",
              "        vertical-align: top;\n",
              "    }\n",
              "\n",
              "    .dataframe thead th {\n",
              "        text-align: right;\n",
              "    }\n",
              "</style>\n",
              "<table border=\"1\" class=\"dataframe\">\n",
              "  <thead>\n",
              "    <tr style=\"text-align: right;\">\n",
              "      <th></th>\n",
              "      <th>country</th>\n",
              "      <th>description</th>\n",
              "      <th>designation</th>\n",
              "      <th>points</th>\n",
              "      <th>price</th>\n",
              "      <th>province</th>\n",
              "      <th>region_1</th>\n",
              "      <th>region_2</th>\n",
              "      <th>variety</th>\n",
              "      <th>winery</th>\n",
              "    </tr>\n",
              "  </thead>\n",
              "  <tbody>\n",
              "    <tr>\n",
              "      <th>0</th>\n",
              "      <td>False</td>\n",
              "      <td>False</td>\n",
              "      <td>False</td>\n",
              "      <td>False</td>\n",
              "      <td>False</td>\n",
              "      <td>False</td>\n",
              "      <td>False</td>\n",
              "      <td>False</td>\n",
              "      <td>False</td>\n",
              "      <td>False</td>\n",
              "    </tr>\n",
              "    <tr>\n",
              "      <th>1</th>\n",
              "      <td>False</td>\n",
              "      <td>False</td>\n",
              "      <td>False</td>\n",
              "      <td>False</td>\n",
              "      <td>False</td>\n",
              "      <td>False</td>\n",
              "      <td>False</td>\n",
              "      <td>True</td>\n",
              "      <td>False</td>\n",
              "      <td>False</td>\n",
              "    </tr>\n",
              "    <tr>\n",
              "      <th>2</th>\n",
              "      <td>False</td>\n",
              "      <td>False</td>\n",
              "      <td>False</td>\n",
              "      <td>False</td>\n",
              "      <td>False</td>\n",
              "      <td>False</td>\n",
              "      <td>False</td>\n",
              "      <td>False</td>\n",
              "      <td>False</td>\n",
              "      <td>False</td>\n",
              "    </tr>\n",
              "    <tr>\n",
              "      <th>3</th>\n",
              "      <td>False</td>\n",
              "      <td>False</td>\n",
              "      <td>False</td>\n",
              "      <td>False</td>\n",
              "      <td>False</td>\n",
              "      <td>False</td>\n",
              "      <td>False</td>\n",
              "      <td>False</td>\n",
              "      <td>False</td>\n",
              "      <td>False</td>\n",
              "    </tr>\n",
              "    <tr>\n",
              "      <th>4</th>\n",
              "      <td>False</td>\n",
              "      <td>False</td>\n",
              "      <td>False</td>\n",
              "      <td>False</td>\n",
              "      <td>False</td>\n",
              "      <td>False</td>\n",
              "      <td>False</td>\n",
              "      <td>True</td>\n",
              "      <td>False</td>\n",
              "      <td>False</td>\n",
              "    </tr>\n",
              "    <tr>\n",
              "      <th>...</th>\n",
              "      <td>...</td>\n",
              "      <td>...</td>\n",
              "      <td>...</td>\n",
              "      <td>...</td>\n",
              "      <td>...</td>\n",
              "      <td>...</td>\n",
              "      <td>...</td>\n",
              "      <td>...</td>\n",
              "      <td>...</td>\n",
              "      <td>...</td>\n",
              "    </tr>\n",
              "    <tr>\n",
              "      <th>150925</th>\n",
              "      <td>False</td>\n",
              "      <td>False</td>\n",
              "      <td>True</td>\n",
              "      <td>False</td>\n",
              "      <td>False</td>\n",
              "      <td>False</td>\n",
              "      <td>False</td>\n",
              "      <td>True</td>\n",
              "      <td>False</td>\n",
              "      <td>False</td>\n",
              "    </tr>\n",
              "    <tr>\n",
              "      <th>150926</th>\n",
              "      <td>False</td>\n",
              "      <td>False</td>\n",
              "      <td>False</td>\n",
              "      <td>False</td>\n",
              "      <td>False</td>\n",
              "      <td>False</td>\n",
              "      <td>False</td>\n",
              "      <td>True</td>\n",
              "      <td>False</td>\n",
              "      <td>False</td>\n",
              "    </tr>\n",
              "    <tr>\n",
              "      <th>150927</th>\n",
              "      <td>False</td>\n",
              "      <td>False</td>\n",
              "      <td>False</td>\n",
              "      <td>False</td>\n",
              "      <td>False</td>\n",
              "      <td>False</td>\n",
              "      <td>False</td>\n",
              "      <td>True</td>\n",
              "      <td>False</td>\n",
              "      <td>False</td>\n",
              "    </tr>\n",
              "    <tr>\n",
              "      <th>150928</th>\n",
              "      <td>False</td>\n",
              "      <td>False</td>\n",
              "      <td>False</td>\n",
              "      <td>False</td>\n",
              "      <td>False</td>\n",
              "      <td>False</td>\n",
              "      <td>False</td>\n",
              "      <td>True</td>\n",
              "      <td>False</td>\n",
              "      <td>False</td>\n",
              "    </tr>\n",
              "    <tr>\n",
              "      <th>150929</th>\n",
              "      <td>False</td>\n",
              "      <td>False</td>\n",
              "      <td>True</td>\n",
              "      <td>False</td>\n",
              "      <td>False</td>\n",
              "      <td>False</td>\n",
              "      <td>False</td>\n",
              "      <td>True</td>\n",
              "      <td>False</td>\n",
              "      <td>False</td>\n",
              "    </tr>\n",
              "  </tbody>\n",
              "</table>\n",
              "<p>150930 rows × 10 columns</p>\n",
              "</div>\n",
              "      <button class=\"colab-df-convert\" onclick=\"convertToInteractive('df-6de36c79-b7db-497a-99fa-c073219fe49a')\"\n",
              "              title=\"Convert this dataframe to an interactive table.\"\n",
              "              style=\"display:none;\">\n",
              "        \n",
              "  <svg xmlns=\"http://www.w3.org/2000/svg\" height=\"24px\"viewBox=\"0 0 24 24\"\n",
              "       width=\"24px\">\n",
              "    <path d=\"M0 0h24v24H0V0z\" fill=\"none\"/>\n",
              "    <path d=\"M18.56 5.44l.94 2.06.94-2.06 2.06-.94-2.06-.94-.94-2.06-.94 2.06-2.06.94zm-11 1L8.5 8.5l.94-2.06 2.06-.94-2.06-.94L8.5 2.5l-.94 2.06-2.06.94zm10 10l.94 2.06.94-2.06 2.06-.94-2.06-.94-.94-2.06-.94 2.06-2.06.94z\"/><path d=\"M17.41 7.96l-1.37-1.37c-.4-.4-.92-.59-1.43-.59-.52 0-1.04.2-1.43.59L10.3 9.45l-7.72 7.72c-.78.78-.78 2.05 0 2.83L4 21.41c.39.39.9.59 1.41.59.51 0 1.02-.2 1.41-.59l7.78-7.78 2.81-2.81c.8-.78.8-2.07 0-2.86zM5.41 20L4 18.59l7.72-7.72 1.47 1.35L5.41 20z\"/>\n",
              "  </svg>\n",
              "      </button>\n",
              "      \n",
              "  <style>\n",
              "    .colab-df-container {\n",
              "      display:flex;\n",
              "      flex-wrap:wrap;\n",
              "      gap: 12px;\n",
              "    }\n",
              "\n",
              "    .colab-df-convert {\n",
              "      background-color: #E8F0FE;\n",
              "      border: none;\n",
              "      border-radius: 50%;\n",
              "      cursor: pointer;\n",
              "      display: none;\n",
              "      fill: #1967D2;\n",
              "      height: 32px;\n",
              "      padding: 0 0 0 0;\n",
              "      width: 32px;\n",
              "    }\n",
              "\n",
              "    .colab-df-convert:hover {\n",
              "      background-color: #E2EBFA;\n",
              "      box-shadow: 0px 1px 2px rgba(60, 64, 67, 0.3), 0px 1px 3px 1px rgba(60, 64, 67, 0.15);\n",
              "      fill: #174EA6;\n",
              "    }\n",
              "\n",
              "    [theme=dark] .colab-df-convert {\n",
              "      background-color: #3B4455;\n",
              "      fill: #D2E3FC;\n",
              "    }\n",
              "\n",
              "    [theme=dark] .colab-df-convert:hover {\n",
              "      background-color: #434B5C;\n",
              "      box-shadow: 0px 1px 3px 1px rgba(0, 0, 0, 0.15);\n",
              "      filter: drop-shadow(0px 1px 2px rgba(0, 0, 0, 0.3));\n",
              "      fill: #FFFFFF;\n",
              "    }\n",
              "  </style>\n",
              "\n",
              "      <script>\n",
              "        const buttonEl =\n",
              "          document.querySelector('#df-6de36c79-b7db-497a-99fa-c073219fe49a button.colab-df-convert');\n",
              "        buttonEl.style.display =\n",
              "          google.colab.kernel.accessAllowed ? 'block' : 'none';\n",
              "\n",
              "        async function convertToInteractive(key) {\n",
              "          const element = document.querySelector('#df-6de36c79-b7db-497a-99fa-c073219fe49a');\n",
              "          const dataTable =\n",
              "            await google.colab.kernel.invokeFunction('convertToInteractive',\n",
              "                                                     [key], {});\n",
              "          if (!dataTable) return;\n",
              "\n",
              "          const docLinkHtml = 'Like what you see? Visit the ' +\n",
              "            '<a target=\"_blank\" href=https://colab.research.google.com/notebooks/data_table.ipynb>data table notebook</a>'\n",
              "            + ' to learn more about interactive tables.';\n",
              "          element.innerHTML = '';\n",
              "          dataTable['output_type'] = 'display_data';\n",
              "          await google.colab.output.renderOutput(dataTable, element);\n",
              "          const docLink = document.createElement('div');\n",
              "          docLink.innerHTML = docLinkHtml;\n",
              "          element.appendChild(docLink);\n",
              "        }\n",
              "      </script>\n",
              "    </div>\n",
              "  </div>\n",
              "  "
            ]
          },
          "metadata": {},
          "execution_count": 69
        }
      ]
    },
    {
      "cell_type": "markdown",
      "metadata": {
        "id": "wMrDKgwjpC8e"
      },
      "source": [
        "Немного опережу события и покажу, как оценить масштаб бедствия визуально.\n",
        "\n",
        "`seaborn` - еще одна библиотека для визуализации, надстройка над `matplotlib` иногда с помощью нее получается строить более красивые графики.\n"
      ]
    },
    {
      "cell_type": "code",
      "metadata": {
        "id": "CEx60FYupC8f",
        "colab": {
          "base_uri": "https://localhost:8080/",
          "height": 700
        },
        "outputId": "bea077d7-0f2b-41db-98fa-586b2a771c59"
      },
      "source": [
        "import matplotlib.pyplot as plt\n",
        "import seaborn as sns\n",
        "%matplotlib inline\n",
        "\n",
        "fig, ax = plt.subplots(figsize=(20,12))\n",
        "sns_heatmap = sns.heatmap(data.isnull(), yticklabels=False, cbar=False, cmap='viridis')\n",
        "plt.show()"
      ],
      "execution_count": null,
      "outputs": [
        {
          "output_type": "display_data",
          "data": {
            "text/plain": [
              "<Figure size 1440x864 with 1 Axes>"
            ],
            "image/png": "[encoded data removed]"
          },
          "metadata": {
            "needs_background": "light"
          }
        }
      ]
    },
    {
      "cell_type": "markdown",
      "metadata": {
        "id": "kOahCQ5_pC8h"
      },
      "source": [
        "Что с ним делать?\n",
        "\n",
        "Выбора не очень много: <br>\n",
        "\n",
        "1) Удалять:\n",
        "- dropna(axis=0, how='any'): axis = 0 - удаляем построчно, axis = 1 выкидываем столбец; how ='any' - выкидываем, если есть хотя бы одна ячейка пустая. how = 'all' - выкидываем, если есть полностью пустая строка или столбец\n",
        "\n",
        "2) Вставлять информацию самим:\n",
        "- fillna() - это отдельное искусство, как заполнять.\n",
        "\n",
        "\n",
        "Пока не будем трогать данные."
      ]
    },
    {
      "cell_type": "markdown",
      "metadata": {
        "id": "9it-_U23pC8h"
      },
      "source": [
        "### Описательные статистики\n",
        "\n",
        "Теперь посмотрим, а что содержательно у нас есть на руках.\n",
        "\n",
        "Глазами просматривать не будем, а попросим посчитать основные описательные статистики. Причем сразу все :)\n",
        "\n",
        "- describe() - метод, который возвращает табличку с описательными статистиками. В таком виде считает все для числовых столбцов"
      ]
    },
    {
      "cell_type": "code",
      "metadata": {
        "scrolled": true,
        "id": "hboFWGMtpC8i",
        "colab": {
          "base_uri": "https://localhost:8080/",
          "height": 291
        },
        "outputId": "f7647500-0a53-48f3-812c-53a69ca91206"
      },
      "source": [
        "data.describe()"
      ],
      "execution_count": null,
      "outputs": [
        {
          "output_type": "execute_result",
          "data": {
            "text/plain": [
              "              points          price\n",
              "count  150930.000000  137235.000000\n",
              "mean       87.888418      33.131482\n",
              "std         3.222392      36.322536\n",
              "min        80.000000       4.000000\n",
              "25%        86.000000      16.000000\n",
              "50%        88.000000      24.000000\n",
              "75%        90.000000      40.000000\n",
              "max       100.000000    2300.000000"
            ],
            "text/html": [
              "\n",
              "  <div id=\"df-82b5c74d-0bd0-4bf1-b076-8c433f3c3a7d\">\n",
              "    <div class=\"colab-df-container\">\n",
              "      <div>\n",
              "<style scoped>\n",
              "    .dataframe tbody tr th:only-of-type {\n",
              "        vertical-align: middle;\n",
              "    }\n",
              "\n",
              "    .dataframe tbody tr th {\n",
              "        vertical-align: top;\n",
              "    }\n",
              "\n",
              "    .dataframe thead th {\n",
              "        text-align: right;\n",
              "    }\n",
              "</style>\n",
              "<table border=\"1\" class=\"dataframe\">\n",
              "  <thead>\n",
              "    <tr style=\"text-align: right;\">\n",
              "      <th></th>\n",
              "      <th>points</th>\n",
              "      <th>price</th>\n",
              "    </tr>\n",
              "  </thead>\n",
              "  <tbody>\n",
              "    <tr>\n",
              "      <th>count</th>\n",
              "      <td>150930.000000</td>\n",
              "      <td>137235.000000</td>\n",
              "    </tr>\n",
              "    <tr>\n",
              "      <th>mean</th>\n",
              "      <td>87.888418</td>\n",
              "      <td>33.131482</td>\n",
              "    </tr>\n",
              "    <tr>\n",
              "      <th>std</th>\n",
              "      <td>3.222392</td>\n",
              "      <td>36.322536</td>\n",
              "    </tr>\n",
              "    <tr>\n",
              "      <th>min</th>\n",
              "      <td>80.000000</td>\n",
              "      <td>4.000000</td>\n",
              "    </tr>\n",
              "    <tr>\n",
              "      <th>25%</th>\n",
              "      <td>86.000000</td>\n",
              "      <td>16.000000</td>\n",
              "    </tr>\n",
              "    <tr>\n",
              "      <th>50%</th>\n",
              "      <td>88.000000</td>\n",
              "      <td>24.000000</td>\n",
              "    </tr>\n",
              "    <tr>\n",
              "      <th>75%</th>\n",
              "      <td>90.000000</td>\n",
              "      <td>40.000000</td>\n",
              "    </tr>\n",
              "    <tr>\n",
              "      <th>max</th>\n",
              "      <td>100.000000</td>\n",
              "      <td>2300.000000</td>\n",
              "    </tr>\n",
              "  </tbody>\n",
              "</table>\n",
              "</div>\n",
              "      <button class=\"colab-df-convert\" onclick=\"convertToInteractive('df-82b5c74d-0bd0-4bf1-b076-8c433f3c3a7d')\"\n",
              "              title=\"Convert this dataframe to an interactive table.\"\n",
              "              style=\"display:none;\">\n",
              "        \n",
              "  <svg xmlns=\"http://www.w3.org/2000/svg\" height=\"24px\"viewBox=\"0 0 24 24\"\n",
              "       width=\"24px\">\n",
              "    <path d=\"M0 0h24v24H0V0z\" fill=\"none\"/>\n",
              "    <path d=\"M18.56 5.44l.94 2.06.94-2.06 2.06-.94-2.06-.94-.94-2.06-.94 2.06-2.06.94zm-11 1L8.5 8.5l.94-2.06 2.06-.94-2.06-.94L8.5 2.5l-.94 2.06-2.06.94zm10 10l.94 2.06.94-2.06 2.06-.94-2.06-.94-.94-2.06-.94 2.06-2.06.94z\"/><path d=\"M17.41 7.96l-1.37-1.37c-.4-.4-.92-.59-1.43-.59-.52 0-1.04.2-1.43.59L10.3 9.45l-7.72 7.72c-.78.78-.78 2.05 0 2.83L4 21.41c.39.39.9.59 1.41.59.51 0 1.02-.2 1.41-.59l7.78-7.78 2.81-2.81c.8-.78.8-2.07 0-2.86zM5.41 20L4 18.59l7.72-7.72 1.47 1.35L5.41 20z\"/>\n",
              "  </svg>\n",
              "      </button>\n",
              "      \n",
              "  <style>\n",
              "    .colab-df-container {\n",
              "      display:flex;\n",
              "      flex-wrap:wrap;\n",
              "      gap: 12px;\n",
              "    }\n",
              "\n",
              "    .colab-df-convert {\n",
              "      background-color: #E8F0FE;\n",
              "      border: none;\n",
              "      border-radius: 50%;\n",
              "      cursor: pointer;\n",
              "      display: none;\n",
              "      fill: #1967D2;\n",
              "      height: 32px;\n",
              "      padding: 0 0 0 0;\n",
              "      width: 32px;\n",
              "    }\n",
              "\n",
              "    .colab-df-convert:hover {\n",
              "      background-color: #E2EBFA;\n",
              "      box-shadow: 0px 1px 2px rgba(60, 64, 67, 0.3), 0px 1px 3px 1px rgba(60, 64, 67, 0.15);\n",
              "      fill: #174EA6;\n",
              "    }\n",
              "\n",
              "    [theme=dark] .colab-df-convert {\n",
              "      background-color: #3B4455;\n",
              "      fill: #D2E3FC;\n",
              "    }\n",
              "\n",
              "    [theme=dark] .colab-df-convert:hover {\n",
              "      background-color: #434B5C;\n",
              "      box-shadow: 0px 1px 3px 1px rgba(0, 0, 0, 0.15);\n",
              "      filter: drop-shadow(0px 1px 2px rgba(0, 0, 0, 0.3));\n",
              "      fill: #FFFFFF;\n",
              "    }\n",
              "  </style>\n",
              "\n",
              "      <script>\n",
              "        const buttonEl =\n",
              "          document.querySelector('#df-82b5c74d-0bd0-4bf1-b076-8c433f3c3a7d button.colab-df-convert');\n",
              "        buttonEl.style.display =\n",
              "          google.colab.kernel.accessAllowed ? 'block' : 'none';\n",
              "\n",
              "        async function convertToInteractive(key) {\n",
              "          const element = document.querySelector('#df-82b5c74d-0bd0-4bf1-b076-8c433f3c3a7d');\n",
              "          const dataTable =\n",
              "            await google.colab.kernel.invokeFunction('convertToInteractive',\n",
              "                                                     [key], {});\n",
              "          if (!dataTable) return;\n",
              "\n",
              "          const docLinkHtml = 'Like what you see? Visit the ' +\n",
              "            '<a target=\"_blank\" href=https://colab.research.google.com/notebooks/data_table.ipynb>data table notebook</a>'\n",
              "            + ' to learn more about interactive tables.';\n",
              "          element.innerHTML = '';\n",
              "          dataTable['output_type'] = 'display_data';\n",
              "          await google.colab.output.renderOutput(dataTable, element);\n",
              "          const docLink = document.createElement('div');\n",
              "          docLink.innerHTML = docLinkHtml;\n",
              "          element.appendChild(docLink);\n",
              "        }\n",
              "      </script>\n",
              "    </div>\n",
              "  </div>\n",
              "  "
            ]
          },
          "metadata": {},
          "execution_count": 71
        }
      ]
    },
    {
      "cell_type": "markdown",
      "metadata": {
        "id": "cT_RYSdVpC8i"
      },
      "source": [
        "Немножко магии, и для нечисловых данные тоже будут свои описательные статистики."
      ]
    },
    {
      "cell_type": "code",
      "metadata": {
        "scrolled": false,
        "id": "LVP_2R-OpC8j",
        "colab": {
          "base_uri": "https://localhost:8080/",
          "height": 170
        },
        "outputId": "1f6cdad3-abff-4fd4-ec09-ce4b121b1838"
      },
      "source": [
        "data.describe(include=['O'])"
      ],
      "execution_count": null,
      "outputs": [
        {
          "output_type": "execute_result",
          "data": {
            "text/plain": [
              "       country                                        description designation  \\\n",
              "count   150925                                             150930      105195   \n",
              "unique      48                                              97821       30621   \n",
              "top         US  A little bit funky and unsettled when you pop ...     Reserve   \n",
              "freq     62397                                                  6        2752   \n",
              "\n",
              "          province     region_1       region_2     variety           winery  \n",
              "count       150925       125870          60953      150930           150930  \n",
              "unique         455         1236             18         632            14810  \n",
              "top     California  Napa Valley  Central Coast  Chardonnay  Williams Selyem  \n",
              "freq         44508         6209          13057       14482              374  "
            ],
            "text/html": [
              "\n",
              "  <div id=\"df-dc72b3a4-2655-4311-b828-80a202072702\">\n",
              "    <div class=\"colab-df-container\">\n",
              "      <div>\n",
              "<style scoped>\n",
              "    .dataframe tbody tr th:only-of-type {\n",
              "        vertical-align: middle;\n",
              "    }\n",
              "\n",
              "    .dataframe tbody tr th {\n",
              "        vertical-align: top;\n",
              "    }\n",
              "\n",
              "    .dataframe thead th {\n",
              "        text-align: right;\n",
              "    }\n",
              "</style>\n",
              "<table border=\"1\" class=\"dataframe\">\n",
              "  <thead>\n",
              "    <tr style=\"text-align: right;\">\n",
              "      <th></th>\n",
              "      <th>country</th>\n",
              "      <th>description</th>\n",
              "      <th>designation</th>\n",
              "      <th>province</th>\n",
              "      <th>region_1</th>\n",
              "      <th>region_2</th>\n",
              "      <th>variety</th>\n",
              "      <th>winery</th>\n",
              "    </tr>\n",
              "  </thead>\n",
              "  <tbody>\n",
              "    <tr>\n",
              "      <th>count</th>\n",
              "      <td>150925</td>\n",
              "      <td>150930</td>\n",
              "      <td>105195</td>\n",
              "      <td>150925</td>\n",
              "      <td>125870</td>\n",
              "      <td>60953</td>\n",
              "      <td>150930</td>\n",
              "      <td>150930</td>\n",
              "    </tr>\n",
              "    <tr>\n",
              "      <th>unique</th>\n",
              "      <td>48</td>\n",
              "      <td>97821</td>\n",
              "      <td>30621</td>\n",
              "      <td>455</td>\n",
              "      <td>1236</td>\n",
              "      <td>18</td>\n",
              "      <td>632</td>\n",
              "      <td>14810</td>\n",
              "    </tr>\n",
              "    <tr>\n",
              "      <th>top</th>\n",
              "      <td>US</td>\n",
              "      <td>A little bit funky and unsettled when you pop ...</td>\n",
              "      <td>Reserve</td>\n",
              "      <td>California</td>\n",
              "      <td>Napa Valley</td>\n",
              "      <td>Central Coast</td>\n",
              "      <td>Chardonnay</td>\n",
              "      <td>Williams Selyem</td>\n",
              "    </tr>\n",
              "    <tr>\n",
              "      <th>freq</th>\n",
              "      <td>62397</td>\n",
              "      <td>6</td>\n",
              "      <td>2752</td>\n",
              "      <td>44508</td>\n",
              "      <td>6209</td>\n",
              "      <td>13057</td>\n",
              "      <td>14482</td>\n",
              "      <td>374</td>\n",
              "    </tr>\n",
              "  </tbody>\n",
              "</table>\n",
              "</div>\n",
              "      <button class=\"colab-df-convert\" onclick=\"convertToInteractive('df-dc72b3a4-2655-4311-b828-80a202072702')\"\n",
              "              title=\"Convert this dataframe to an interactive table.\"\n",
              "              style=\"display:none;\">\n",
              "        \n",
              "  <svg xmlns=\"http://www.w3.org/2000/svg\" height=\"24px\"viewBox=\"0 0 24 24\"\n",
              "       width=\"24px\">\n",
              "    <path d=\"M0 0h24v24H0V0z\" fill=\"none\"/>\n",
              "    <path d=\"M18.56 5.44l.94 2.06.94-2.06 2.06-.94-2.06-.94-.94-2.06-.94 2.06-2.06.94zm-11 1L8.5 8.5l.94-2.06 2.06-.94-2.06-.94L8.5 2.5l-.94 2.06-2.06.94zm10 10l.94 2.06.94-2.06 2.06-.94-2.06-.94-.94-2.06-.94 2.06-2.06.94z\"/><path d=\"M17.41 7.96l-1.37-1.37c-.4-.4-.92-.59-1.43-.59-.52 0-1.04.2-1.43.59L10.3 9.45l-7.72 7.72c-.78.78-.78 2.05 0 2.83L4 21.41c.39.39.9.59 1.41.59.51 0 1.02-.2 1.41-.59l7.78-7.78 2.81-2.81c.8-.78.8-2.07 0-2.86zM5.41 20L4 18.59l7.72-7.72 1.47 1.35L5.41 20z\"/>\n",
              "  </svg>\n",
              "      </button>\n",
              "      \n",
              "  <style>\n",
              "    .colab-df-container {\n",
              "      display:flex;\n",
              "      flex-wrap:wrap;\n",
              "      gap: 12px;\n",
              "    }\n",
              "\n",
              "    .colab-df-convert {\n",
              "      background-color: #E8F0FE;\n",
              "      border: none;\n",
              "      border-radius: 50%;\n",
              "      cursor: pointer;\n",
              "      display: none;\n",
              "      fill: #1967D2;\n",
              "      height: 32px;\n",
              "      padding: 0 0 0 0;\n",
              "      width: 32px;\n",
              "    }\n",
              "\n",
              "    .colab-df-convert:hover {\n",
              "      background-color: #E2EBFA;\n",
              "      box-shadow: 0px 1px 2px rgba(60, 64, 67, 0.3), 0px 1px 3px 1px rgba(60, 64, 67, 0.15);\n",
              "      fill: #174EA6;\n",
              "    }\n",
              "\n",
              "    [theme=dark] .colab-df-convert {\n",
              "      background-color: #3B4455;\n",
              "      fill: #D2E3FC;\n",
              "    }\n",
              "\n",
              "    [theme=dark] .colab-df-convert:hover {\n",
              "      background-color: #434B5C;\n",
              "      box-shadow: 0px 1px 3px 1px rgba(0, 0, 0, 0.15);\n",
              "      filter: drop-shadow(0px 1px 2px rgba(0, 0, 0, 0.3));\n",
              "      fill: #FFFFFF;\n",
              "    }\n",
              "  </style>\n",
              "\n",
              "      <script>\n",
              "        const buttonEl =\n",
              "          document.querySelector('#df-dc72b3a4-2655-4311-b828-80a202072702 button.colab-df-convert');\n",
              "        buttonEl.style.display =\n",
              "          google.colab.kernel.accessAllowed ? 'block' : 'none';\n",
              "\n",
              "        async function convertToInteractive(key) {\n",
              "          const element = document.querySelector('#df-dc72b3a4-2655-4311-b828-80a202072702');\n",
              "          const dataTable =\n",
              "            await google.colab.kernel.invokeFunction('convertToInteractive',\n",
              "                                                     [key], {});\n",
              "          if (!dataTable) return;\n",
              "\n",
              "          const docLinkHtml = 'Like what you see? Visit the ' +\n",
              "            '<a target=\"_blank\" href=https://colab.research.google.com/notebooks/data_table.ipynb>data table notebook</a>'\n",
              "            + ' to learn more about interactive tables.';\n",
              "          element.innerHTML = '';\n",
              "          dataTable['output_type'] = 'display_data';\n",
              "          await google.colab.output.renderOutput(dataTable, element);\n",
              "          const docLink = document.createElement('div');\n",
              "          docLink.innerHTML = docLinkHtml;\n",
              "          element.appendChild(docLink);\n",
              "        }\n",
              "      </script>\n",
              "    </div>\n",
              "  </div>\n",
              "  "
            ]
          },
          "metadata": {},
          "execution_count": 72
        }
      ]
    },
    {
      "cell_type": "markdown",
      "metadata": {
        "id": "n6Er50cXpC8j"
      },
      "source": [
        "Вообще, все можно считать для отдельных колонок.\n",
        "\n",
        "Но мы с вами не изучили, как отбирать колонки. Что ж, время действовать."
      ]
    },
    {
      "cell_type": "markdown",
      "metadata": {
        "id": "Y_cYh4IepC8n"
      },
      "source": [
        "### Срезы данных\n",
        "\n",
        "Допустим, нам не нужен датасет, а только определенные столбцы или строки или столбцы и строки.\n",
        "\n",
        "\n",
        "Как делать?\n",
        "Помним, что:\n",
        "- у столбцов есть названия\n",
        "- у строк есть названия\n",
        "- если нет названий, то они пронумерованы с нуля\n",
        "\n",
        "Основываясь на этой идее, мы начнем отбирать данные."
      ]
    },
    {
      "cell_type": "code",
      "metadata": {
        "id": "FVOXa7G6pC8o",
        "colab": {
          "base_uri": "https://localhost:8080/",
          "height": 78
        },
        "outputId": "58c232fa-0081-4d26-c9a5-db0373fd1305"
      },
      "source": [
        "data.head(1)"
      ],
      "execution_count": null,
      "outputs": [
        {
          "output_type": "execute_result",
          "data": {
            "text/plain": [
              "  country                                        description  \\\n",
              "0      US  This tremendous 100% varietal wine hails from ...   \n",
              "\n",
              "         designation  points  price    province     region_1 region_2  \\\n",
              "0  Martha's Vineyard      96  235.0  California  Napa Valley     Napa   \n",
              "\n",
              "              variety winery  \n",
              "0  Cabernet Sauvignon  Heitz  "
            ],
            "text/html": [
              "\n",
              "  <div id=\"df-b61f7493-d30f-4121-9fd7-e6e259975fc9\">\n",
              "    <div class=\"colab-df-container\">\n",
              "      <div>\n",
              "<style scoped>\n",
              "    .dataframe tbody tr th:only-of-type {\n",
              "        vertical-align: middle;\n",
              "    }\n",
              "\n",
              "    .dataframe tbody tr th {\n",
              "        vertical-align: top;\n",
              "    }\n",
              "\n",
              "    .dataframe thead th {\n",
              "        text-align: right;\n",
              "    }\n",
              "</style>\n",
              "<table border=\"1\" class=\"dataframe\">\n",
              "  <thead>\n",
              "    <tr style=\"text-align: right;\">\n",
              "      <th></th>\n",
              "      <th>country</th>\n",
              "      <th>description</th>\n",
              "      <th>designation</th>\n",
              "      <th>points</th>\n",
              "      <th>price</th>\n",
              "      <th>province</th>\n",
              "      <th>region_1</th>\n",
              "      <th>region_2</th>\n",
              "      <th>variety</th>\n",
              "      <th>winery</th>\n",
              "    </tr>\n",
              "  </thead>\n",
              "  <tbody>\n",
              "    <tr>\n",
              "      <th>0</th>\n",
              "      <td>US</td>\n",
              "      <td>This tremendous 100% varietal wine hails from ...</td>\n",
              "      <td>Martha's Vineyard</td>\n",
              "      <td>96</td>\n",
              "      <td>235.0</td>\n",
              "      <td>California</td>\n",
              "      <td>Napa Valley</td>\n",
              "      <td>Napa</td>\n",
              "      <td>Cabernet Sauvignon</td>\n",
              "      <td>Heitz</td>\n",
              "    </tr>\n",
              "  </tbody>\n",
              "</table>\n",
              "</div>\n",
              "      <button class=\"colab-df-convert\" onclick=\"convertToInteractive('df-b61f7493-d30f-4121-9fd7-e6e259975fc9')\"\n",
              "              title=\"Convert this dataframe to an interactive table.\"\n",
              "              style=\"display:none;\">\n",
              "        \n",
              "  <svg xmlns=\"http://www.w3.org/2000/svg\" height=\"24px\"viewBox=\"0 0 24 24\"\n",
              "       width=\"24px\">\n",
              "    <path d=\"M0 0h24v24H0V0z\" fill=\"none\"/>\n",
              "    <path d=\"M18.56 5.44l.94 2.06.94-2.06 2.06-.94-2.06-.94-.94-2.06-.94 2.06-2.06.94zm-11 1L8.5 8.5l.94-2.06 2.06-.94-2.06-.94L8.5 2.5l-.94 2.06-2.06.94zm10 10l.94 2.06.94-2.06 2.06-.94-2.06-.94-.94-2.06-.94 2.06-2.06.94z\"/><path d=\"M17.41 7.96l-1.37-1.37c-.4-.4-.92-.59-1.43-.59-.52 0-1.04.2-1.43.59L10.3 9.45l-7.72 7.72c-.78.78-.78 2.05 0 2.83L4 21.41c.39.39.9.59 1.41.59.51 0 1.02-.2 1.41-.59l7.78-7.78 2.81-2.81c.8-.78.8-2.07 0-2.86zM5.41 20L4 18.59l7.72-7.72 1.47 1.35L5.41 20z\"/>\n",
              "  </svg>\n",
              "      </button>\n",
              "      \n",
              "  <style>\n",
              "    .colab-df-container {\n",
              "      display:flex;\n",
              "      flex-wrap:wrap;\n",
              "      gap: 12px;\n",
              "    }\n",
              "\n",
              "    .colab-df-convert {\n",
              "      background-color: #E8F0FE;\n",
              "      border: none;\n",
              "      border-radius: 50%;\n",
              "      cursor: pointer;\n",
              "      display: none;\n",
              "      fill: #1967D2;\n",
              "      height: 32px;\n",
              "      padding: 0 0 0 0;\n",
              "      width: 32px;\n",
              "    }\n",
              "\n",
              "    .colab-df-convert:hover {\n",
              "      background-color: #E2EBFA;\n",
              "      box-shadow: 0px 1px 2px rgba(60, 64, 67, 0.3), 0px 1px 3px 1px rgba(60, 64, 67, 0.15);\n",
              "      fill: #174EA6;\n",
              "    }\n",
              "\n",
              "    [theme=dark] .colab-df-convert {\n",
              "      background-color: #3B4455;\n",
              "      fill: #D2E3FC;\n",
              "    }\n",
              "\n",
              "    [theme=dark] .colab-df-convert:hover {\n",
              "      background-color: #434B5C;\n",
              "      box-shadow: 0px 1px 3px 1px rgba(0, 0, 0, 0.15);\n",
              "      filter: drop-shadow(0px 1px 2px rgba(0, 0, 0, 0.3));\n",
              "      fill: #FFFFFF;\n",
              "    }\n",
              "  </style>\n",
              "\n",
              "      <script>\n",
              "        const buttonEl =\n",
              "          document.querySelector('#df-b61f7493-d30f-4121-9fd7-e6e259975fc9 button.colab-df-convert');\n",
              "        buttonEl.style.display =\n",
              "          google.colab.kernel.accessAllowed ? 'block' : 'none';\n",
              "\n",
              "        async function convertToInteractive(key) {\n",
              "          const element = document.querySelector('#df-b61f7493-d30f-4121-9fd7-e6e259975fc9');\n",
              "          const dataTable =\n",
              "            await google.colab.kernel.invokeFunction('convertToInteractive',\n",
              "                                                     [key], {});\n",
              "          if (!dataTable) return;\n",
              "\n",
              "          const docLinkHtml = 'Like what you see? Visit the ' +\n",
              "            '<a target=\"_blank\" href=https://colab.research.google.com/notebooks/data_table.ipynb>data table notebook</a>'\n",
              "            + ' to learn more about interactive tables.';\n",
              "          element.innerHTML = '';\n",
              "          dataTable['output_type'] = 'display_data';\n",
              "          await google.colab.output.renderOutput(dataTable, element);\n",
              "          const docLink = document.createElement('div');\n",
              "          docLink.innerHTML = docLinkHtml;\n",
              "          element.appendChild(docLink);\n",
              "        }\n",
              "      </script>\n",
              "    </div>\n",
              "  </div>\n",
              "  "
            ]
          },
          "metadata": {},
          "execution_count": 73
        }
      ]
    },
    {
      "cell_type": "markdown",
      "metadata": {
        "id": "FhgEpIdOpC8p"
      },
      "source": [
        "#### Отбираем по столбцам. Версия 1."
      ]
    },
    {
      "cell_type": "code",
      "metadata": {
        "id": "DHk0Yp5HpC8p",
        "colab": {
          "base_uri": "https://localhost:8080/"
        },
        "outputId": "e3e4307e-cb9d-48d7-a540-bc43fe497cdf"
      },
      "source": [
        "data['price']"
      ],
      "execution_count": null,
      "outputs": [
        {
          "output_type": "execute_result",
          "data": {
            "text/plain": [
              "0         235.0\n",
              "1         110.0\n",
              "2          90.0\n",
              "3          65.0\n",
              "4          66.0\n",
              "          ...  \n",
              "150925     20.0\n",
              "150926     27.0\n",
              "150927     20.0\n",
              "150928     52.0\n",
              "150929     15.0\n",
              "Name: price, Length: 150930, dtype: float64"
            ]
          },
          "metadata": {},
          "execution_count": 74
        }
      ]
    },
    {
      "cell_type": "code",
      "metadata": {
        "id": "-Z0KHEZ9pC8p",
        "colab": {
          "base_uri": "https://localhost:8080/",
          "height": 411
        },
        "outputId": "e4dbfd08-d54b-4af9-93cd-57ace314ee39"
      },
      "source": [
        "data[['price','country']]"
      ],
      "execution_count": null,
      "outputs": [
        {
          "output_type": "execute_result",
          "data": {
            "text/plain": [
              "        price country\n",
              "0       235.0      US\n",
              "1       110.0   Spain\n",
              "2        90.0      US\n",
              "3        65.0      US\n",
              "4        66.0  France\n",
              "...       ...     ...\n",
              "150925   20.0   Italy\n",
              "150926   27.0  France\n",
              "150927   20.0   Italy\n",
              "150928   52.0  France\n",
              "150929   15.0   Italy\n",
              "\n",
              "[150930 rows x 2 columns]"
            ],
            "text/html": [
              "\n",
              "  <div id=\"df-629244c3-4f8b-4c95-aa8d-acd9e84691b4\">\n",
              "    <div class=\"colab-df-container\">\n",
              "      <div>\n",
              "<style scoped>\n",
              "    .dataframe tbody tr th:only-of-type {\n",
              "        vertical-align: middle;\n",
              "    }\n",
              "\n",
              "    .dataframe tbody tr th {\n",
              "        vertical-align: top;\n",
              "    }\n",
              "\n",
              "    .dataframe thead th {\n",
              "        text-align: right;\n",
              "    }\n",
              "</style>\n",
              "<table border=\"1\" class=\"dataframe\">\n",
              "  <thead>\n",
              "    <tr style=\"text-align: right;\">\n",
              "      <th></th>\n",
              "      <th>price</th>\n",
              "      <th>country</th>\n",
              "    </tr>\n",
              "  </thead>\n",
              "  <tbody>\n",
              "    <tr>\n",
              "      <th>0</th>\n",
              "      <td>235.0</td>\n",
              "      <td>US</td>\n",
              "    </tr>\n",
              "    <tr>\n",
              "      <th>1</th>\n",
              "      <td>110.0</td>\n",
              "      <td>Spain</td>\n",
              "    </tr>\n",
              "    <tr>\n",
              "      <th>2</th>\n",
              "      <td>90.0</td>\n",
              "      <td>US</td>\n",
              "    </tr>\n",
              "    <tr>\n",
              "      <th>3</th>\n",
              "      <td>65.0</td>\n",
              "      <td>US</td>\n",
              "    </tr>\n",
              "    <tr>\n",
              "      <th>4</th>\n",
              "      <td>66.0</td>\n",
              "      <td>France</td>\n",
              "    </tr>\n",
              "    <tr>\n",
              "      <th>...</th>\n",
              "      <td>...</td>\n",
              "      <td>...</td>\n",
              "    </tr>\n",
              "    <tr>\n",
              "      <th>150925</th>\n",
              "      <td>20.0</td>\n",
              "      <td>Italy</td>\n",
              "    </tr>\n",
              "    <tr>\n",
              "      <th>150926</th>\n",
              "      <td>27.0</td>\n",
              "      <td>France</td>\n",
              "    </tr>\n",
              "    <tr>\n",
              "      <th>150927</th>\n",
              "      <td>20.0</td>\n",
              "      <td>Italy</td>\n",
              "    </tr>\n",
              "    <tr>\n",
              "      <th>150928</th>\n",
              "      <td>52.0</td>\n",
              "      <td>France</td>\n",
              "    </tr>\n",
              "    <tr>\n",
              "      <th>150929</th>\n",
              "      <td>15.0</td>\n",
              "      <td>Italy</td>\n",
              "    </tr>\n",
              "  </tbody>\n",
              "</table>\n",
              "<p>150930 rows × 2 columns</p>\n",
              "</div>\n",
              "      <button class=\"colab-df-convert\" onclick=\"convertToInteractive('df-629244c3-4f8b-4c95-aa8d-acd9e84691b4')\"\n",
              "              title=\"Convert this dataframe to an interactive table.\"\n",
              "              style=\"display:none;\">\n",
              "        \n",
              "  <svg xmlns=\"http://www.w3.org/2000/svg\" height=\"24px\"viewBox=\"0 0 24 24\"\n",
              "       width=\"24px\">\n",
              "    <path d=\"M0 0h24v24H0V0z\" fill=\"none\"/>\n",
              "    <path d=\"M18.56 5.44l.94 2.06.94-2.06 2.06-.94-2.06-.94-.94-2.06-.94 2.06-2.06.94zm-11 1L8.5 8.5l.94-2.06 2.06-.94-2.06-.94L8.5 2.5l-.94 2.06-2.06.94zm10 10l.94 2.06.94-2.06 2.06-.94-2.06-.94-.94-2.06-.94 2.06-2.06.94z\"/><path d=\"M17.41 7.96l-1.37-1.37c-.4-.4-.92-.59-1.43-.59-.52 0-1.04.2-1.43.59L10.3 9.45l-7.72 7.72c-.78.78-.78 2.05 0 2.83L4 21.41c.39.39.9.59 1.41.59.51 0 1.02-.2 1.41-.59l7.78-7.78 2.81-2.81c.8-.78.8-2.07 0-2.86zM5.41 20L4 18.59l7.72-7.72 1.47 1.35L5.41 20z\"/>\n",
              "  </svg>\n",
              "      </button>\n",
              "      \n",
              "  <style>\n",
              "    .colab-df-container {\n",
              "      display:flex;\n",
              "      flex-wrap:wrap;\n",
              "      gap: 12px;\n",
              "    }\n",
              "\n",
              "    .colab-df-convert {\n",
              "      background-color: #E8F0FE;\n",
              "      border: none;\n",
              "      border-radius: 50%;\n",
              "      cursor: pointer;\n",
              "      display: none;\n",
              "      fill: #1967D2;\n",
              "      height: 32px;\n",
              "      padding: 0 0 0 0;\n",
              "      width: 32px;\n",
              "    }\n",
              "\n",
              "    .colab-df-convert:hover {\n",
              "      background-color: #E2EBFA;\n",
              "      box-shadow: 0px 1px 2px rgba(60, 64, 67, 0.3), 0px 1px 3px 1px rgba(60, 64, 67, 0.15);\n",
              "      fill: #174EA6;\n",
              "    }\n",
              "\n",
              "    [theme=dark] .colab-df-convert {\n",
              "      background-color: #3B4455;\n",
              "      fill: #D2E3FC;\n",
              "    }\n",
              "\n",
              "    [theme=dark] .colab-df-convert:hover {\n",
              "      background-color: #434B5C;\n",
              "      box-shadow: 0px 1px 3px 1px rgba(0, 0, 0, 0.15);\n",
              "      filter: drop-shadow(0px 1px 2px rgba(0, 0, 0, 0.3));\n",
              "      fill: #FFFFFF;\n",
              "    }\n",
              "  </style>\n",
              "\n",
              "      <script>\n",
              "        const buttonEl =\n",
              "          document.querySelector('#df-629244c3-4f8b-4c95-aa8d-acd9e84691b4 button.colab-df-convert');\n",
              "        buttonEl.style.display =\n",
              "          google.colab.kernel.accessAllowed ? 'block' : 'none';\n",
              "\n",
              "        async function convertToInteractive(key) {\n",
              "          const element = document.querySelector('#df-629244c3-4f8b-4c95-aa8d-acd9e84691b4');\n",
              "          const dataTable =\n",
              "            await google.colab.kernel.invokeFunction('convertToInteractive',\n",
              "                                                     [key], {});\n",
              "          if (!dataTable) return;\n",
              "\n",
              "          const docLinkHtml = 'Like what you see? Visit the ' +\n",
              "            '<a target=\"_blank\" href=https://colab.research.google.com/notebooks/data_table.ipynb>data table notebook</a>'\n",
              "            + ' to learn more about interactive tables.';\n",
              "          element.innerHTML = '';\n",
              "          dataTable['output_type'] = 'display_data';\n",
              "          await google.colab.output.renderOutput(dataTable, element);\n",
              "          const docLink = document.createElement('div');\n",
              "          docLink.innerHTML = docLinkHtml;\n",
              "          element.appendChild(docLink);\n",
              "        }\n",
              "      </script>\n",
              "    </div>\n",
              "  </div>\n",
              "  "
            ]
          },
          "metadata": {},
          "execution_count": 75
        }
      ]
    },
    {
      "cell_type": "markdown",
      "metadata": {
        "id": "xHkGV-s5pC8q"
      },
      "source": [
        "#### Отбираем по  строкам. Версия 1.\n",
        "\n",
        "Были бы названия - вместо цифр подставили бы названия и все вышло бы также :)"
      ]
    },
    {
      "cell_type": "code",
      "metadata": {
        "id": "IXi0apecpC8q",
        "colab": {
          "base_uri": "https://localhost:8080/",
          "height": 78
        },
        "outputId": "c9575938-70d3-4326-bf3c-a171fbfa6b80"
      },
      "source": [
        "data[0:1]"
      ],
      "execution_count": null,
      "outputs": [
        {
          "output_type": "execute_result",
          "data": {
            "text/plain": [
              "  country                                        description  \\\n",
              "0      US  This tremendous 100% varietal wine hails from ...   \n",
              "\n",
              "         designation  points  price    province     region_1 region_2  \\\n",
              "0  Martha's Vineyard      96  235.0  California  Napa Valley     Napa   \n",
              "\n",
              "              variety winery  \n",
              "0  Cabernet Sauvignon  Heitz  "
            ],
            "text/html": [
              "\n",
              "  <div id=\"df-e8a103f6-e686-42e8-a28c-63753ae2567b\">\n",
              "    <div class=\"colab-df-container\">\n",
              "      <div>\n",
              "<style scoped>\n",
              "    .dataframe tbody tr th:only-of-type {\n",
              "        vertical-align: middle;\n",
              "    }\n",
              "\n",
              "    .dataframe tbody tr th {\n",
              "        vertical-align: top;\n",
              "    }\n",
              "\n",
              "    .dataframe thead th {\n",
              "        text-align: right;\n",
              "    }\n",
              "</style>\n",
              "<table border=\"1\" class=\"dataframe\">\n",
              "  <thead>\n",
              "    <tr style=\"text-align: right;\">\n",
              "      <th></th>\n",
              "      <th>country</th>\n",
              "      <th>description</th>\n",
              "      <th>designation</th>\n",
              "      <th>points</th>\n",
              "      <th>price</th>\n",
              "      <th>province</th>\n",
              "      <th>region_1</th>\n",
              "      <th>region_2</th>\n",
              "      <th>variety</th>\n",
              "      <th>winery</th>\n",
              "    </tr>\n",
              "  </thead>\n",
              "  <tbody>\n",
              "    <tr>\n",
              "      <th>0</th>\n",
              "      <td>US</td>\n",
              "      <td>This tremendous 100% varietal wine hails from ...</td>\n",
              "      <td>Martha's Vineyard</td>\n",
              "      <td>96</td>\n",
              "      <td>235.0</td>\n",
              "      <td>California</td>\n",
              "      <td>Napa Valley</td>\n",
              "      <td>Napa</td>\n",
              "      <td>Cabernet Sauvignon</td>\n",
              "      <td>Heitz</td>\n",
              "    </tr>\n",
              "  </tbody>\n",
              "</table>\n",
              "</div>\n",
              "      <button class=\"colab-df-convert\" onclick=\"convertToInteractive('df-e8a103f6-e686-42e8-a28c-63753ae2567b')\"\n",
              "              title=\"Convert this dataframe to an interactive table.\"\n",
              "              style=\"display:none;\">\n",
              "        \n",
              "  <svg xmlns=\"http://www.w3.org/2000/svg\" height=\"24px\"viewBox=\"0 0 24 24\"\n",
              "       width=\"24px\">\n",
              "    <path d=\"M0 0h24v24H0V0z\" fill=\"none\"/>\n",
              "    <path d=\"M18.56 5.44l.94 2.06.94-2.06 2.06-.94-2.06-.94-.94-2.06-.94 2.06-2.06.94zm-11 1L8.5 8.5l.94-2.06 2.06-.94-2.06-.94L8.5 2.5l-.94 2.06-2.06.94zm10 10l.94 2.06.94-2.06 2.06-.94-2.06-.94-.94-2.06-.94 2.06-2.06.94z\"/><path d=\"M17.41 7.96l-1.37-1.37c-.4-.4-.92-.59-1.43-.59-.52 0-1.04.2-1.43.59L10.3 9.45l-7.72 7.72c-.78.78-.78 2.05 0 2.83L4 21.41c.39.39.9.59 1.41.59.51 0 1.02-.2 1.41-.59l7.78-7.78 2.81-2.81c.8-.78.8-2.07 0-2.86zM5.41 20L4 18.59l7.72-7.72 1.47 1.35L5.41 20z\"/>\n",
              "  </svg>\n",
              "      </button>\n",
              "      \n",
              "  <style>\n",
              "    .colab-df-container {\n",
              "      display:flex;\n",
              "      flex-wrap:wrap;\n",
              "      gap: 12px;\n",
              "    }\n",
              "\n",
              "    .colab-df-convert {\n",
              "      background-color: #E8F0FE;\n",
              "      border: none;\n",
              "      border-radius: 50%;\n",
              "      cursor: pointer;\n",
              "      display: none;\n",
              "      fill: #1967D2;\n",
              "      height: 32px;\n",
              "      padding: 0 0 0 0;\n",
              "      width: 32px;\n",
              "    }\n",
              "\n",
              "    .colab-df-convert:hover {\n",
              "      background-color: #E2EBFA;\n",
              "      box-shadow: 0px 1px 2px rgba(60, 64, 67, 0.3), 0px 1px 3px 1px rgba(60, 64, 67, 0.15);\n",
              "      fill: #174EA6;\n",
              "    }\n",
              "\n",
              "    [theme=dark] .colab-df-convert {\n",
              "      background-color: #3B4455;\n",
              "      fill: #D2E3FC;\n",
              "    }\n",
              "\n",
              "    [theme=dark] .colab-df-convert:hover {\n",
              "      background-color: #434B5C;\n",
              "      box-shadow: 0px 1px 3px 1px rgba(0, 0, 0, 0.15);\n",
              "      filter: drop-shadow(0px 1px 2px rgba(0, 0, 0, 0.3));\n",
              "      fill: #FFFFFF;\n",
              "    }\n",
              "  </style>\n",
              "\n",
              "      <script>\n",
              "        const buttonEl =\n",
              "          document.querySelector('#df-e8a103f6-e686-42e8-a28c-63753ae2567b button.colab-df-convert');\n",
              "        buttonEl.style.display =\n",
              "          google.colab.kernel.accessAllowed ? 'block' : 'none';\n",
              "\n",
              "        async function convertToInteractive(key) {\n",
              "          const element = document.querySelector('#df-e8a103f6-e686-42e8-a28c-63753ae2567b');\n",
              "          const dataTable =\n",
              "            await google.colab.kernel.invokeFunction('convertToInteractive',\n",
              "                                                     [key], {});\n",
              "          if (!dataTable) return;\n",
              "\n",
              "          const docLinkHtml = 'Like what you see? Visit the ' +\n",
              "            '<a target=\"_blank\" href=https://colab.research.google.com/notebooks/data_table.ipynb>data table notebook</a>'\n",
              "            + ' to learn more about interactive tables.';\n",
              "          element.innerHTML = '';\n",
              "          dataTable['output_type'] = 'display_data';\n",
              "          await google.colab.output.renderOutput(dataTable, element);\n",
              "          const docLink = document.createElement('div');\n",
              "          docLink.innerHTML = docLinkHtml;\n",
              "          element.appendChild(docLink);\n",
              "        }\n",
              "      </script>\n",
              "    </div>\n",
              "  </div>\n",
              "  "
            ]
          },
          "metadata": {},
          "execution_count": 76
        }
      ]
    },
    {
      "cell_type": "code",
      "metadata": {
        "id": "7KsIBcGqpC8r",
        "colab": {
          "base_uri": "https://localhost:8080/",
          "height": 78
        },
        "outputId": "885b2a2a-be49-4559-b0e7-bd5ea94a1188"
      },
      "source": [
        "data[:1]"
      ],
      "execution_count": null,
      "outputs": [
        {
          "output_type": "execute_result",
          "data": {
            "text/plain": [
              "  country                                        description  \\\n",
              "0      US  This tremendous 100% varietal wine hails from ...   \n",
              "\n",
              "         designation  points  price    province     region_1 region_2  \\\n",
              "0  Martha's Vineyard      96  235.0  California  Napa Valley     Napa   \n",
              "\n",
              "              variety winery  \n",
              "0  Cabernet Sauvignon  Heitz  "
            ],
            "text/html": [
              "\n",
              "  <div id=\"df-c5ce2085-f45a-4a4b-8dae-2429bad0031f\">\n",
              "    <div class=\"colab-df-container\">\n",
              "      <div>\n",
              "<style scoped>\n",
              "    .dataframe tbody tr th:only-of-type {\n",
              "        vertical-align: middle;\n",
              "    }\n",
              "\n",
              "    .dataframe tbody tr th {\n",
              "        vertical-align: top;\n",
              "    }\n",
              "\n",
              "    .dataframe thead th {\n",
              "        text-align: right;\n",
              "    }\n",
              "</style>\n",
              "<table border=\"1\" class=\"dataframe\">\n",
              "  <thead>\n",
              "    <tr style=\"text-align: right;\">\n",
              "      <th></th>\n",
              "      <th>country</th>\n",
              "      <th>description</th>\n",
              "      <th>designation</th>\n",
              "      <th>points</th>\n",
              "      <th>price</th>\n",
              "      <th>province</th>\n",
              "      <th>region_1</th>\n",
              "      <th>region_2</th>\n",
              "      <th>variety</th>\n",
              "      <th>winery</th>\n",
              "    </tr>\n",
              "  </thead>\n",
              "  <tbody>\n",
              "    <tr>\n",
              "      <th>0</th>\n",
              "      <td>US</td>\n",
              "      <td>This tremendous 100% varietal wine hails from ...</td>\n",
              "      <td>Martha's Vineyard</td>\n",
              "      <td>96</td>\n",
              "      <td>235.0</td>\n",
              "      <td>California</td>\n",
              "      <td>Napa Valley</td>\n",
              "      <td>Napa</td>\n",
              "      <td>Cabernet Sauvignon</td>\n",
              "      <td>Heitz</td>\n",
              "    </tr>\n",
              "  </tbody>\n",
              "</table>\n",
              "</div>\n",
              "      <button class=\"colab-df-convert\" onclick=\"convertToInteractive('df-c5ce2085-f45a-4a4b-8dae-2429bad0031f')\"\n",
              "              title=\"Convert this dataframe to an interactive table.\"\n",
              "              style=\"display:none;\">\n",
              "        \n",
              "  <svg xmlns=\"http://www.w3.org/2000/svg\" height=\"24px\"viewBox=\"0 0 24 24\"\n",
              "       width=\"24px\">\n",
              "    <path d=\"M0 0h24v24H0V0z\" fill=\"none\"/>\n",
              "    <path d=\"M18.56 5.44l.94 2.06.94-2.06 2.06-.94-2.06-.94-.94-2.06-.94 2.06-2.06.94zm-11 1L8.5 8.5l.94-2.06 2.06-.94-2.06-.94L8.5 2.5l-.94 2.06-2.06.94zm10 10l.94 2.06.94-2.06 2.06-.94-2.06-.94-.94-2.06-.94 2.06-2.06.94z\"/><path d=\"M17.41 7.96l-1.37-1.37c-.4-.4-.92-.59-1.43-.59-.52 0-1.04.2-1.43.59L10.3 9.45l-7.72 7.72c-.78.78-.78 2.05 0 2.83L4 21.41c.39.39.9.59 1.41.59.51 0 1.02-.2 1.41-.59l7.78-7.78 2.81-2.81c.8-.78.8-2.07 0-2.86zM5.41 20L4 18.59l7.72-7.72 1.47 1.35L5.41 20z\"/>\n",
              "  </svg>\n",
              "      </button>\n",
              "      \n",
              "  <style>\n",
              "    .colab-df-container {\n",
              "      display:flex;\n",
              "      flex-wrap:wrap;\n",
              "      gap: 12px;\n",
              "    }\n",
              "\n",
              "    .colab-df-convert {\n",
              "      background-color: #E8F0FE;\n",
              "      border: none;\n",
              "      border-radius: 50%;\n",
              "      cursor: pointer;\n",
              "      display: none;\n",
              "      fill: #1967D2;\n",
              "      height: 32px;\n",
              "      padding: 0 0 0 0;\n",
              "      width: 32px;\n",
              "    }\n",
              "\n",
              "    .colab-df-convert:hover {\n",
              "      background-color: #E2EBFA;\n",
              "      box-shadow: 0px 1px 2px rgba(60, 64, 67, 0.3), 0px 1px 3px 1px rgba(60, 64, 67, 0.15);\n",
              "      fill: #174EA6;\n",
              "    }\n",
              "\n",
              "    [theme=dark] .colab-df-convert {\n",
              "      background-color: #3B4455;\n",
              "      fill: #D2E3FC;\n",
              "    }\n",
              "\n",
              "    [theme=dark] .colab-df-convert:hover {\n",
              "      background-color: #434B5C;\n",
              "      box-shadow: 0px 1px 3px 1px rgba(0, 0, 0, 0.15);\n",
              "      filter: drop-shadow(0px 1px 2px rgba(0, 0, 0, 0.3));\n",
              "      fill: #FFFFFF;\n",
              "    }\n",
              "  </style>\n",
              "\n",
              "      <script>\n",
              "        const buttonEl =\n",
              "          document.querySelector('#df-c5ce2085-f45a-4a4b-8dae-2429bad0031f button.colab-df-convert');\n",
              "        buttonEl.style.display =\n",
              "          google.colab.kernel.accessAllowed ? 'block' : 'none';\n",
              "\n",
              "        async function convertToInteractive(key) {\n",
              "          const element = document.querySelector('#df-c5ce2085-f45a-4a4b-8dae-2429bad0031f');\n",
              "          const dataTable =\n",
              "            await google.colab.kernel.invokeFunction('convertToInteractive',\n",
              "                                                     [key], {});\n",
              "          if (!dataTable) return;\n",
              "\n",
              "          const docLinkHtml = 'Like what you see? Visit the ' +\n",
              "            '<a target=\"_blank\" href=https://colab.research.google.com/notebooks/data_table.ipynb>data table notebook</a>'\n",
              "            + ' to learn more about interactive tables.';\n",
              "          element.innerHTML = '';\n",
              "          dataTable['output_type'] = 'display_data';\n",
              "          await google.colab.output.renderOutput(dataTable, element);\n",
              "          const docLink = document.createElement('div');\n",
              "          docLink.innerHTML = docLinkHtml;\n",
              "          element.appendChild(docLink);\n",
              "        }\n",
              "      </script>\n",
              "    </div>\n",
              "  </div>\n",
              "  "
            ]
          },
          "metadata": {},
          "execution_count": 77
        }
      ]
    },
    {
      "cell_type": "markdown",
      "metadata": {
        "id": "hOsoXGNbpC8r"
      },
      "source": [
        "#### Отбор по столбцам. Версия 2. Все еще по названиям"
      ]
    },
    {
      "cell_type": "code",
      "metadata": {
        "id": "h65FKHy5pC8s",
        "colab": {
          "base_uri": "https://localhost:8080/",
          "height": 411
        },
        "outputId": "2c085bf2-d685-416a-b997-c6ad4facb584"
      },
      "source": [
        "data.loc[:, ['price']]"
      ],
      "execution_count": null,
      "outputs": [
        {
          "output_type": "execute_result",
          "data": {
            "text/plain": [
              "        price\n",
              "0       235.0\n",
              "1       110.0\n",
              "2        90.0\n",
              "3        65.0\n",
              "4        66.0\n",
              "...       ...\n",
              "150925   20.0\n",
              "150926   27.0\n",
              "150927   20.0\n",
              "150928   52.0\n",
              "150929   15.0\n",
              "\n",
              "[150930 rows x 1 columns]"
            ],
            "text/html": [
              "\n",
              "  <div id=\"df-5b7cc1a8-8323-420b-81ab-5d503d0785c3\">\n",
              "    <div class=\"colab-df-container\">\n",
              "      <div>\n",
              "<style scoped>\n",
              "    .dataframe tbody tr th:only-of-type {\n",
              "        vertical-align: middle;\n",
              "    }\n",
              "\n",
              "    .dataframe tbody tr th {\n",
              "        vertical-align: top;\n",
              "    }\n",
              "\n",
              "    .dataframe thead th {\n",
              "        text-align: right;\n",
              "    }\n",
              "</style>\n",
              "<table border=\"1\" class=\"dataframe\">\n",
              "  <thead>\n",
              "    <tr style=\"text-align: right;\">\n",
              "      <th></th>\n",
              "      <th>price</th>\n",
              "    </tr>\n",
              "  </thead>\n",
              "  <tbody>\n",
              "    <tr>\n",
              "      <th>0</th>\n",
              "      <td>235.0</td>\n",
              "    </tr>\n",
              "    <tr>\n",
              "      <th>1</th>\n",
              "      <td>110.0</td>\n",
              "    </tr>\n",
              "    <tr>\n",
              "      <th>2</th>\n",
              "      <td>90.0</td>\n",
              "    </tr>\n",
              "    <tr>\n",
              "      <th>3</th>\n",
              "      <td>65.0</td>\n",
              "    </tr>\n",
              "    <tr>\n",
              "      <th>4</th>\n",
              "      <td>66.0</td>\n",
              "    </tr>\n",
              "    <tr>\n",
              "      <th>...</th>\n",
              "      <td>...</td>\n",
              "    </tr>\n",
              "    <tr>\n",
              "      <th>150925</th>\n",
              "      <td>20.0</td>\n",
              "    </tr>\n",
              "    <tr>\n",
              "      <th>150926</th>\n",
              "      <td>27.0</td>\n",
              "    </tr>\n",
              "    <tr>\n",
              "      <th>150927</th>\n",
              "      <td>20.0</td>\n",
              "    </tr>\n",
              "    <tr>\n",
              "      <th>150928</th>\n",
              "      <td>52.0</td>\n",
              "    </tr>\n",
              "    <tr>\n",
              "      <th>150929</th>\n",
              "      <td>15.0</td>\n",
              "    </tr>\n",
              "  </tbody>\n",
              "</table>\n",
              "<p>150930 rows × 1 columns</p>\n",
              "</div>\n",
              "      <button class=\"colab-df-convert\" onclick=\"convertToInteractive('df-5b7cc1a8-8323-420b-81ab-5d503d0785c3')\"\n",
              "              title=\"Convert this dataframe to an interactive table.\"\n",
              "              style=\"display:none;\">\n",
              "        \n",
              "  <svg xmlns=\"http://www.w3.org/2000/svg\" height=\"24px\"viewBox=\"0 0 24 24\"\n",
              "       width=\"24px\">\n",
              "    <path d=\"M0 0h24v24H0V0z\" fill=\"none\"/>\n",
              "    <path d=\"M18.56 5.44l.94 2.06.94-2.06 2.06-.94-2.06-.94-.94-2.06-.94 2.06-2.06.94zm-11 1L8.5 8.5l.94-2.06 2.06-.94-2.06-.94L8.5 2.5l-.94 2.06-2.06.94zm10 10l.94 2.06.94-2.06 2.06-.94-2.06-.94-.94-2.06-.94 2.06-2.06.94z\"/><path d=\"M17.41 7.96l-1.37-1.37c-.4-.4-.92-.59-1.43-.59-.52 0-1.04.2-1.43.59L10.3 9.45l-7.72 7.72c-.78.78-.78 2.05 0 2.83L4 21.41c.39.39.9.59 1.41.59.51 0 1.02-.2 1.41-.59l7.78-7.78 2.81-2.81c.8-.78.8-2.07 0-2.86zM5.41 20L4 18.59l7.72-7.72 1.47 1.35L5.41 20z\"/>\n",
              "  </svg>\n",
              "      </button>\n",
              "      \n",
              "  <style>\n",
              "    .colab-df-container {\n",
              "      display:flex;\n",
              "      flex-wrap:wrap;\n",
              "      gap: 12px;\n",
              "    }\n",
              "\n",
              "    .colab-df-convert {\n",
              "      background-color: #E8F0FE;\n",
              "      border: none;\n",
              "      border-radius: 50%;\n",
              "      cursor: pointer;\n",
              "      display: none;\n",
              "      fill: #1967D2;\n",
              "      height: 32px;\n",
              "      padding: 0 0 0 0;\n",
              "      width: 32px;\n",
              "    }\n",
              "\n",
              "    .colab-df-convert:hover {\n",
              "      background-color: #E2EBFA;\n",
              "      box-shadow: 0px 1px 2px rgba(60, 64, 67, 0.3), 0px 1px 3px 1px rgba(60, 64, 67, 0.15);\n",
              "      fill: #174EA6;\n",
              "    }\n",
              "\n",
              "    [theme=dark] .colab-df-convert {\n",
              "      background-color: #3B4455;\n",
              "      fill: #D2E3FC;\n",
              "    }\n",
              "\n",
              "    [theme=dark] .colab-df-convert:hover {\n",
              "      background-color: #434B5C;\n",
              "      box-shadow: 0px 1px 3px 1px rgba(0, 0, 0, 0.15);\n",
              "      filter: drop-shadow(0px 1px 2px rgba(0, 0, 0, 0.3));\n",
              "      fill: #FFFFFF;\n",
              "    }\n",
              "  </style>\n",
              "\n",
              "      <script>\n",
              "        const buttonEl =\n",
              "          document.querySelector('#df-5b7cc1a8-8323-420b-81ab-5d503d0785c3 button.colab-df-convert');\n",
              "        buttonEl.style.display =\n",
              "          google.colab.kernel.accessAllowed ? 'block' : 'none';\n",
              "\n",
              "        async function convertToInteractive(key) {\n",
              "          const element = document.querySelector('#df-5b7cc1a8-8323-420b-81ab-5d503d0785c3');\n",
              "          const dataTable =\n",
              "            await google.colab.kernel.invokeFunction('convertToInteractive',\n",
              "                                                     [key], {});\n",
              "          if (!dataTable) return;\n",
              "\n",
              "          const docLinkHtml = 'Like what you see? Visit the ' +\n",
              "            '<a target=\"_blank\" href=https://colab.research.google.com/notebooks/data_table.ipynb>data table notebook</a>'\n",
              "            + ' to learn more about interactive tables.';\n",
              "          element.innerHTML = '';\n",
              "          dataTable['output_type'] = 'display_data';\n",
              "          await google.colab.output.renderOutput(dataTable, element);\n",
              "          const docLink = document.createElement('div');\n",
              "          docLink.innerHTML = docLinkHtml;\n",
              "          element.appendChild(docLink);\n",
              "        }\n",
              "      </script>\n",
              "    </div>\n",
              "  </div>\n",
              "  "
            ]
          },
          "metadata": {},
          "execution_count": 78
        }
      ]
    },
    {
      "cell_type": "markdown",
      "metadata": {
        "id": "2b38bRcIpC8t"
      },
      "source": [
        "#### Отбор по  строкам. Версия 2. Все еще по названиям"
      ]
    },
    {
      "cell_type": "code",
      "metadata": {
        "id": "BUWt3uL7pC8w",
        "colab": {
          "base_uri": "https://localhost:8080/"
        },
        "outputId": "a7a6091e-fea6-41a7-bba3-d9b6e8bd2ce6"
      },
      "source": [
        "data.loc[0,:]"
      ],
      "execution_count": null,
      "outputs": [
        {
          "output_type": "execute_result",
          "data": {
            "text/plain": [
              "country                                                       US\n",
              "description    This tremendous 100% varietal wine hails from ...\n",
              "designation                                    Martha's Vineyard\n",
              "points                                                        96\n",
              "price                                                      235.0\n",
              "province                                              California\n",
              "region_1                                             Napa Valley\n",
              "region_2                                                    Napa\n",
              "variety                                       Cabernet Sauvignon\n",
              "winery                                                     Heitz\n",
              "Name: 0, dtype: object"
            ]
          },
          "metadata": {},
          "execution_count": 79
        }
      ]
    },
    {
      "cell_type": "markdown",
      "metadata": {
        "id": "QAU2UQ-jpC8y"
      },
      "source": [
        "#### Отбор по строчкам и столбцам"
      ]
    },
    {
      "cell_type": "code",
      "metadata": {
        "id": "cp6GiudGpC8y",
        "colab": {
          "base_uri": "https://localhost:8080/",
          "height": 231
        },
        "outputId": "02be8262-f4c4-4769-a8f3-70312e0b5d38"
      },
      "source": [
        "data.loc[0:5,['price', 'country']]"
      ],
      "execution_count": null,
      "outputs": [
        {
          "output_type": "execute_result",
          "data": {
            "text/plain": [
              "   price country\n",
              "0  235.0      US\n",
              "1  110.0   Spain\n",
              "2   90.0      US\n",
              "3   65.0      US\n",
              "4   66.0  France\n",
              "5   73.0   Spain"
            ],
            "text/html": [
              "\n",
              "  <div id=\"df-d4ecdded-5cd5-4e9c-998c-fb9ca32399ca\">\n",
              "    <div class=\"colab-df-container\">\n",
              "      <div>\n",
              "<style scoped>\n",
              "    .dataframe tbody tr th:only-of-type {\n",
              "        vertical-align: middle;\n",
              "    }\n",
              "\n",
              "    .dataframe tbody tr th {\n",
              "        vertical-align: top;\n",
              "    }\n",
              "\n",
              "    .dataframe thead th {\n",
              "        text-align: right;\n",
              "    }\n",
              "</style>\n",
              "<table border=\"1\" class=\"dataframe\">\n",
              "  <thead>\n",
              "    <tr style=\"text-align: right;\">\n",
              "      <th></th>\n",
              "      <th>price</th>\n",
              "      <th>country</th>\n",
              "    </tr>\n",
              "  </thead>\n",
              "  <tbody>\n",
              "    <tr>\n",
              "      <th>0</th>\n",
              "      <td>235.0</td>\n",
              "      <td>US</td>\n",
              "    </tr>\n",
              "    <tr>\n",
              "      <th>1</th>\n",
              "      <td>110.0</td>\n",
              "      <td>Spain</td>\n",
              "    </tr>\n",
              "    <tr>\n",
              "      <th>2</th>\n",
              "      <td>90.0</td>\n",
              "      <td>US</td>\n",
              "    </tr>\n",
              "    <tr>\n",
              "      <th>3</th>\n",
              "      <td>65.0</td>\n",
              "      <td>US</td>\n",
              "    </tr>\n",
              "    <tr>\n",
              "      <th>4</th>\n",
              "      <td>66.0</td>\n",
              "      <td>France</td>\n",
              "    </tr>\n",
              "    <tr>\n",
              "      <th>5</th>\n",
              "      <td>73.0</td>\n",
              "      <td>Spain</td>\n",
              "    </tr>\n",
              "  </tbody>\n",
              "</table>\n",
              "</div>\n",
              "      <button class=\"colab-df-convert\" onclick=\"convertToInteractive('df-d4ecdded-5cd5-4e9c-998c-fb9ca32399ca')\"\n",
              "              title=\"Convert this dataframe to an interactive table.\"\n",
              "              style=\"display:none;\">\n",
              "        \n",
              "  <svg xmlns=\"http://www.w3.org/2000/svg\" height=\"24px\"viewBox=\"0 0 24 24\"\n",
              "       width=\"24px\">\n",
              "    <path d=\"M0 0h24v24H0V0z\" fill=\"none\"/>\n",
              "    <path d=\"M18.56 5.44l.94 2.06.94-2.06 2.06-.94-2.06-.94-.94-2.06-.94 2.06-2.06.94zm-11 1L8.5 8.5l.94-2.06 2.06-.94-2.06-.94L8.5 2.5l-.94 2.06-2.06.94zm10 10l.94 2.06.94-2.06 2.06-.94-2.06-.94-.94-2.06-.94 2.06-2.06.94z\"/><path d=\"M17.41 7.96l-1.37-1.37c-.4-.4-.92-.59-1.43-.59-.52 0-1.04.2-1.43.59L10.3 9.45l-7.72 7.72c-.78.78-.78 2.05 0 2.83L4 21.41c.39.39.9.59 1.41.59.51 0 1.02-.2 1.41-.59l7.78-7.78 2.81-2.81c.8-.78.8-2.07 0-2.86zM5.41 20L4 18.59l7.72-7.72 1.47 1.35L5.41 20z\"/>\n",
              "  </svg>\n",
              "      </button>\n",
              "      \n",
              "  <style>\n",
              "    .colab-df-container {\n",
              "      display:flex;\n",
              "      flex-wrap:wrap;\n",
              "      gap: 12px;\n",
              "    }\n",
              "\n",
              "    .colab-df-convert {\n",
              "      background-color: #E8F0FE;\n",
              "      border: none;\n",
              "      border-radius: 50%;\n",
              "      cursor: pointer;\n",
              "      display: none;\n",
              "      fill: #1967D2;\n",
              "      height: 32px;\n",
              "      padding: 0 0 0 0;\n",
              "      width: 32px;\n",
              "    }\n",
              "\n",
              "    .colab-df-convert:hover {\n",
              "      background-color: #E2EBFA;\n",
              "      box-shadow: 0px 1px 2px rgba(60, 64, 67, 0.3), 0px 1px 3px 1px rgba(60, 64, 67, 0.15);\n",
              "      fill: #174EA6;\n",
              "    }\n",
              "\n",
              "    [theme=dark] .colab-df-convert {\n",
              "      background-color: #3B4455;\n",
              "      fill: #D2E3FC;\n",
              "    }\n",
              "\n",
              "    [theme=dark] .colab-df-convert:hover {\n",
              "      background-color: #434B5C;\n",
              "      box-shadow: 0px 1px 3px 1px rgba(0, 0, 0, 0.15);\n",
              "      filter: drop-shadow(0px 1px 2px rgba(0, 0, 0, 0.3));\n",
              "      fill: #FFFFFF;\n",
              "    }\n",
              "  </style>\n",
              "\n",
              "      <script>\n",
              "        const buttonEl =\n",
              "          document.querySelector('#df-d4ecdded-5cd5-4e9c-998c-fb9ca32399ca button.colab-df-convert');\n",
              "        buttonEl.style.display =\n",
              "          google.colab.kernel.accessAllowed ? 'block' : 'none';\n",
              "\n",
              "        async function convertToInteractive(key) {\n",
              "          const element = document.querySelector('#df-d4ecdded-5cd5-4e9c-998c-fb9ca32399ca');\n",
              "          const dataTable =\n",
              "            await google.colab.kernel.invokeFunction('convertToInteractive',\n",
              "                                                     [key], {});\n",
              "          if (!dataTable) return;\n",
              "\n",
              "          const docLinkHtml = 'Like what you see? Visit the ' +\n",
              "            '<a target=\"_blank\" href=https://colab.research.google.com/notebooks/data_table.ipynb>data table notebook</a>'\n",
              "            + ' to learn more about interactive tables.';\n",
              "          element.innerHTML = '';\n",
              "          dataTable['output_type'] = 'display_data';\n",
              "          await google.colab.output.renderOutput(dataTable, element);\n",
              "          const docLink = document.createElement('div');\n",
              "          docLink.innerHTML = docLinkHtml;\n",
              "          element.appendChild(docLink);\n",
              "        }\n",
              "      </script>\n",
              "    </div>\n",
              "  </div>\n",
              "  "
            ]
          },
          "metadata": {},
          "execution_count": 80
        }
      ]
    },
    {
      "cell_type": "markdown",
      "metadata": {
        "id": "jQmrisdYpC8z"
      },
      "source": [
        "#### Отбор по строчкам и столбцам. Версия 3. По номеру строк и столбцов"
      ]
    },
    {
      "cell_type": "code",
      "metadata": {
        "scrolled": false,
        "id": "Q7TzuGpRpC82",
        "colab": {
          "base_uri": "https://localhost:8080/",
          "height": 140
        },
        "outputId": "2792829c-ee98-4363-c29e-e610fc29926a"
      },
      "source": [
        "data.iloc[2:5, [5,7]]"
      ],
      "execution_count": null,
      "outputs": [
        {
          "output_type": "execute_result",
          "data": {
            "text/plain": [
              "     province           region_2\n",
              "2  California             Sonoma\n",
              "3      Oregon  Willamette Valley\n",
              "4    Provence                NaN"
            ],
            "text/html": [
              "\n",
              "  <div id=\"df-14541b54-f3a7-491f-8f4c-36572f4c22bc\">\n",
              "    <div class=\"colab-df-container\">\n",
              "      <div>\n",
              "<style scoped>\n",
              "    .dataframe tbody tr th:only-of-type {\n",
              "        vertical-align: middle;\n",
              "    }\n",
              "\n",
              "    .dataframe tbody tr th {\n",
              "        vertical-align: top;\n",
              "    }\n",
              "\n",
              "    .dataframe thead th {\n",
              "        text-align: right;\n",
              "    }\n",
              "</style>\n",
              "<table border=\"1\" class=\"dataframe\">\n",
              "  <thead>\n",
              "    <tr style=\"text-align: right;\">\n",
              "      <th></th>\n",
              "      <th>province</th>\n",
              "      <th>region_2</th>\n",
              "    </tr>\n",
              "  </thead>\n",
              "  <tbody>\n",
              "    <tr>\n",
              "      <th>2</th>\n",
              "      <td>California</td>\n",
              "      <td>Sonoma</td>\n",
              "    </tr>\n",
              "    <tr>\n",
              "      <th>3</th>\n",
              "      <td>Oregon</td>\n",
              "      <td>Willamette Valley</td>\n",
              "    </tr>\n",
              "    <tr>\n",
              "      <th>4</th>\n",
              "      <td>Provence</td>\n",
              "      <td>NaN</td>\n",
              "    </tr>\n",
              "  </tbody>\n",
              "</table>\n",
              "</div>\n",
              "      <button class=\"colab-df-convert\" onclick=\"convertToInteractive('df-14541b54-f3a7-491f-8f4c-36572f4c22bc')\"\n",
              "              title=\"Convert this dataframe to an interactive table.\"\n",
              "              style=\"display:none;\">\n",
              "        \n",
              "  <svg xmlns=\"http://www.w3.org/2000/svg\" height=\"24px\"viewBox=\"0 0 24 24\"\n",
              "       width=\"24px\">\n",
              "    <path d=\"M0 0h24v24H0V0z\" fill=\"none\"/>\n",
              "    <path d=\"M18.56 5.44l.94 2.06.94-2.06 2.06-.94-2.06-.94-.94-2.06-.94 2.06-2.06.94zm-11 1L8.5 8.5l.94-2.06 2.06-.94-2.06-.94L8.5 2.5l-.94 2.06-2.06.94zm10 10l.94 2.06.94-2.06 2.06-.94-2.06-.94-.94-2.06-.94 2.06-2.06.94z\"/><path d=\"M17.41 7.96l-1.37-1.37c-.4-.4-.92-.59-1.43-.59-.52 0-1.04.2-1.43.59L10.3 9.45l-7.72 7.72c-.78.78-.78 2.05 0 2.83L4 21.41c.39.39.9.59 1.41.59.51 0 1.02-.2 1.41-.59l7.78-7.78 2.81-2.81c.8-.78.8-2.07 0-2.86zM5.41 20L4 18.59l7.72-7.72 1.47 1.35L5.41 20z\"/>\n",
              "  </svg>\n",
              "      </button>\n",
              "      \n",
              "  <style>\n",
              "    .colab-df-container {\n",
              "      display:flex;\n",
              "      flex-wrap:wrap;\n",
              "      gap: 12px;\n",
              "    }\n",
              "\n",
              "    .colab-df-convert {\n",
              "      background-color: #E8F0FE;\n",
              "      border: none;\n",
              "      border-radius: 50%;\n",
              "      cursor: pointer;\n",
              "      display: none;\n",
              "      fill: #1967D2;\n",
              "      height: 32px;\n",
              "      padding: 0 0 0 0;\n",
              "      width: 32px;\n",
              "    }\n",
              "\n",
              "    .colab-df-convert:hover {\n",
              "      background-color: #E2EBFA;\n",
              "      box-shadow: 0px 1px 2px rgba(60, 64, 67, 0.3), 0px 1px 3px 1px rgba(60, 64, 67, 0.15);\n",
              "      fill: #174EA6;\n",
              "    }\n",
              "\n",
              "    [theme=dark] .colab-df-convert {\n",
              "      background-color: #3B4455;\n",
              "      fill: #D2E3FC;\n",
              "    }\n",
              "\n",
              "    [theme=dark] .colab-df-convert:hover {\n",
              "      background-color: #434B5C;\n",
              "      box-shadow: 0px 1px 3px 1px rgba(0, 0, 0, 0.15);\n",
              "      filter: drop-shadow(0px 1px 2px rgba(0, 0, 0, 0.3));\n",
              "      fill: #FFFFFF;\n",
              "    }\n",
              "  </style>\n",
              "\n",
              "      <script>\n",
              "        const buttonEl =\n",
              "          document.querySelector('#df-14541b54-f3a7-491f-8f4c-36572f4c22bc button.colab-df-convert');\n",
              "        buttonEl.style.display =\n",
              "          google.colab.kernel.accessAllowed ? 'block' : 'none';\n",
              "\n",
              "        async function convertToInteractive(key) {\n",
              "          const element = document.querySelector('#df-14541b54-f3a7-491f-8f4c-36572f4c22bc');\n",
              "          const dataTable =\n",
              "            await google.colab.kernel.invokeFunction('convertToInteractive',\n",
              "                                                     [key], {});\n",
              "          if (!dataTable) return;\n",
              "\n",
              "          const docLinkHtml = 'Like what you see? Visit the ' +\n",
              "            '<a target=\"_blank\" href=https://colab.research.google.com/notebooks/data_table.ipynb>data table notebook</a>'\n",
              "            + ' to learn more about interactive tables.';\n",
              "          element.innerHTML = '';\n",
              "          dataTable['output_type'] = 'display_data';\n",
              "          await google.colab.output.renderOutput(dataTable, element);\n",
              "          const docLink = document.createElement('div');\n",
              "          docLink.innerHTML = docLinkHtml;\n",
              "          element.appendChild(docLink);\n",
              "        }\n",
              "      </script>\n",
              "    </div>\n",
              "  </div>\n",
              "  "
            ]
          },
          "metadata": {},
          "execution_count": 81
        }
      ]
    },
    {
      "cell_type": "markdown",
      "metadata": {
        "id": "9eAcmOaapC82"
      },
      "source": [
        "## Задача 1\n",
        "\n",
        "Выберите первую строчку из датасета (вы его создавали в первом задании)\n",
        "\n"
      ]
    },
    {
      "cell_type": "code",
      "source": [
        "data.head(1)"
      ],
      "metadata": {
        "id": "kcfMp8Kd65fz",
        "colab": {
          "base_uri": "https://localhost:8080/",
          "height": 78
        },
        "outputId": "f6b30815-ef48-454f-adcd-7d994c990964"
      },
      "execution_count": null,
      "outputs": [
        {
          "output_type": "execute_result",
          "data": {
            "text/plain": [
              "  country                                        description  \\\n",
              "0      US  This tremendous 100% varietal wine hails from ...   \n",
              "\n",
              "         designation  points  price    province     region_1 region_2  \\\n",
              "0  Martha's Vineyard      96  235.0  California  Napa Valley     Napa   \n",
              "\n",
              "              variety winery  \n",
              "0  Cabernet Sauvignon  Heitz  "
            ],
            "text/html": [
              "\n",
              "  <div id=\"df-bbdd486e-6116-4504-b50f-f5ade0a7235c\">\n",
              "    <div class=\"colab-df-container\">\n",
              "      <div>\n",
              "<style scoped>\n",
              "    .dataframe tbody tr th:only-of-type {\n",
              "        vertical-align: middle;\n",
              "    }\n",
              "\n",
              "    .dataframe tbody tr th {\n",
              "        vertical-align: top;\n",
              "    }\n",
              "\n",
              "    .dataframe thead th {\n",
              "        text-align: right;\n",
              "    }\n",
              "</style>\n",
              "<table border=\"1\" class=\"dataframe\">\n",
              "  <thead>\n",
              "    <tr style=\"text-align: right;\">\n",
              "      <th></th>\n",
              "      <th>country</th>\n",
              "      <th>description</th>\n",
              "      <th>designation</th>\n",
              "      <th>points</th>\n",
              "      <th>price</th>\n",
              "      <th>province</th>\n",
              "      <th>region_1</th>\n",
              "      <th>region_2</th>\n",
              "      <th>variety</th>\n",
              "      <th>winery</th>\n",
              "    </tr>\n",
              "  </thead>\n",
              "  <tbody>\n",
              "    <tr>\n",
              "      <th>0</th>\n",
              "      <td>US</td>\n",
              "      <td>This tremendous 100% varietal wine hails from ...</td>\n",
              "      <td>Martha's Vineyard</td>\n",
              "      <td>96</td>\n",
              "      <td>235.0</td>\n",
              "      <td>California</td>\n",
              "      <td>Napa Valley</td>\n",
              "      <td>Napa</td>\n",
              "      <td>Cabernet Sauvignon</td>\n",
              "      <td>Heitz</td>\n",
              "    </tr>\n",
              "  </tbody>\n",
              "</table>\n",
              "</div>\n",
              "      <button class=\"colab-df-convert\" onclick=\"convertToInteractive('df-bbdd486e-6116-4504-b50f-f5ade0a7235c')\"\n",
              "              title=\"Convert this dataframe to an interactive table.\"\n",
              "              style=\"display:none;\">\n",
              "        \n",
              "  <svg xmlns=\"http://www.w3.org/2000/svg\" height=\"24px\"viewBox=\"0 0 24 24\"\n",
              "       width=\"24px\">\n",
              "    <path d=\"M0 0h24v24H0V0z\" fill=\"none\"/>\n",
              "    <path d=\"M18.56 5.44l.94 2.06.94-2.06 2.06-.94-2.06-.94-.94-2.06-.94 2.06-2.06.94zm-11 1L8.5 8.5l.94-2.06 2.06-.94-2.06-.94L8.5 2.5l-.94 2.06-2.06.94zm10 10l.94 2.06.94-2.06 2.06-.94-2.06-.94-.94-2.06-.94 2.06-2.06.94z\"/><path d=\"M17.41 7.96l-1.37-1.37c-.4-.4-.92-.59-1.43-.59-.52 0-1.04.2-1.43.59L10.3 9.45l-7.72 7.72c-.78.78-.78 2.05 0 2.83L4 21.41c.39.39.9.59 1.41.59.51 0 1.02-.2 1.41-.59l7.78-7.78 2.81-2.81c.8-.78.8-2.07 0-2.86zM5.41 20L4 18.59l7.72-7.72 1.47 1.35L5.41 20z\"/>\n",
              "  </svg>\n",
              "      </button>\n",
              "      \n",
              "  <style>\n",
              "    .colab-df-container {\n",
              "      display:flex;\n",
              "      flex-wrap:wrap;\n",
              "      gap: 12px;\n",
              "    }\n",
              "\n",
              "    .colab-df-convert {\n",
              "      background-color: #E8F0FE;\n",
              "      border: none;\n",
              "      border-radius: 50%;\n",
              "      cursor: pointer;\n",
              "      display: none;\n",
              "      fill: #1967D2;\n",
              "      height: 32px;\n",
              "      padding: 0 0 0 0;\n",
              "      width: 32px;\n",
              "    }\n",
              "\n",
              "    .colab-df-convert:hover {\n",
              "      background-color: #E2EBFA;\n",
              "      box-shadow: 0px 1px 2px rgba(60, 64, 67, 0.3), 0px 1px 3px 1px rgba(60, 64, 67, 0.15);\n",
              "      fill: #174EA6;\n",
              "    }\n",
              "\n",
              "    [theme=dark] .colab-df-convert {\n",
              "      background-color: #3B4455;\n",
              "      fill: #D2E3FC;\n",
              "    }\n",
              "\n",
              "    [theme=dark] .colab-df-convert:hover {\n",
              "      background-color: #434B5C;\n",
              "      box-shadow: 0px 1px 3px 1px rgba(0, 0, 0, 0.15);\n",
              "      filter: drop-shadow(0px 1px 2px rgba(0, 0, 0, 0.3));\n",
              "      fill: #FFFFFF;\n",
              "    }\n",
              "  </style>\n",
              "\n",
              "      <script>\n",
              "        const buttonEl =\n",
              "          document.querySelector('#df-bbdd486e-6116-4504-b50f-f5ade0a7235c button.colab-df-convert');\n",
              "        buttonEl.style.display =\n",
              "          google.colab.kernel.accessAllowed ? 'block' : 'none';\n",
              "\n",
              "        async function convertToInteractive(key) {\n",
              "          const element = document.querySelector('#df-bbdd486e-6116-4504-b50f-f5ade0a7235c');\n",
              "          const dataTable =\n",
              "            await google.colab.kernel.invokeFunction('convertToInteractive',\n",
              "                                                     [key], {});\n",
              "          if (!dataTable) return;\n",
              "\n",
              "          const docLinkHtml = 'Like what you see? Visit the ' +\n",
              "            '<a target=\"_blank\" href=https://colab.research.google.com/notebooks/data_table.ipynb>data table notebook</a>'\n",
              "            + ' to learn more about interactive tables.';\n",
              "          element.innerHTML = '';\n",
              "          dataTable['output_type'] = 'display_data';\n",
              "          await google.colab.output.renderOutput(dataTable, element);\n",
              "          const docLink = document.createElement('div');\n",
              "          docLink.innerHTML = docLinkHtml;\n",
              "          element.appendChild(docLink);\n",
              "        }\n",
              "      </script>\n",
              "    </div>\n",
              "  </div>\n",
              "  "
            ]
          },
          "metadata": {},
          "execution_count": 83
        }
      ]
    },
    {
      "cell_type": "markdown",
      "source": [
        "## Задача 2\n",
        "\n",
        "Сделайте срез (по номерам строк)"
      ],
      "metadata": {
        "id": "k8X2Hntx640-"
      }
    },
    {
      "cell_type": "code",
      "source": [
        "data[-5:-1]"
      ],
      "metadata": {
        "id": "oDeIihVU66B8",
        "colab": {
          "base_uri": "https://localhost:8080/",
          "height": 280
        },
        "outputId": "48a96f0d-3441-44df-b64f-5784b1d64c01"
      },
      "execution_count": null,
      "outputs": [
        {
          "output_type": "execute_result",
          "data": {
            "text/plain": [
              "       country                                        description  \\\n",
              "150925   Italy  Many people feel Fiano represents southern Ita...   \n",
              "150926  France  Offers an intriguing nose with ginger, lime an...   \n",
              "150927   Italy  This classic example comes from a cru vineyard...   \n",
              "150928  France  A perfect salmon shade, with scents of peaches...   \n",
              "\n",
              "            designation  points  price        province           region_1  \\\n",
              "150925              NaN      91   20.0  Southern Italy  Fiano di Avellino   \n",
              "150926   Cuvée Prestige      91   27.0       Champagne          Champagne   \n",
              "150927    Terre di Dora      91   20.0  Southern Italy  Fiano di Avellino   \n",
              "150928  Grand Brut Rosé      90   52.0       Champagne          Champagne   \n",
              "\n",
              "       region_2          variety                 winery  \n",
              "150925      NaN      White Blend  Feudi di San Gregorio  \n",
              "150926      NaN  Champagne Blend              H.Germain  \n",
              "150927      NaN      White Blend              Terredora  \n",
              "150928      NaN  Champagne Blend                 Gosset  "
            ],
            "text/html": [
              "\n",
              "  <div id=\"df-5be0181b-6a21-4f49-ad32-4de893a1edb1\">\n",
              "    <div class=\"colab-df-container\">\n",
              "      <div>\n",
              "<style scoped>\n",
              "    .dataframe tbody tr th:only-of-type {\n",
              "        vertical-align: middle;\n",
              "    }\n",
              "\n",
              "    .dataframe tbody tr th {\n",
              "        vertical-align: top;\n",
              "    }\n",
              "\n",
              "    .dataframe thead th {\n",
              "        text-align: right;\n",
              "    }\n",
              "</style>\n",
              "<table border=\"1\" class=\"dataframe\">\n",
              "  <thead>\n",
              "    <tr style=\"text-align: right;\">\n",
              "      <th></th>\n",
              "      <th>country</th>\n",
              "      <th>description</th>\n",
              "      <th>designation</th>\n",
              "      <th>points</th>\n",
              "      <th>price</th>\n",
              "      <th>province</th>\n",
              "      <th>region_1</th>\n",
              "      <th>region_2</th>\n",
              "      <th>variety</th>\n",
              "      <th>winery</th>\n",
              "    </tr>\n",
              "  </thead>\n",
              "  <tbody>\n",
              "    <tr>\n",
              "      <th>150925</th>\n",
              "      <td>Italy</td>\n",
              "      <td>Many people feel Fiano represents southern Ita...</td>\n",
              "      <td>NaN</td>\n",
              "      <td>91</td>\n",
              "      <td>20.0</td>\n",
              "      <td>Southern Italy</td>\n",
              "      <td>Fiano di Avellino</td>\n",
              "      <td>NaN</td>\n",
              "      <td>White Blend</td>\n",
              "      <td>Feudi di San Gregorio</td>\n",
              "    </tr>\n",
              "    <tr>\n",
              "      <th>150926</th>\n",
              "      <td>France</td>\n",
              "      <td>Offers an intriguing nose with ginger, lime an...</td>\n",
              "      <td>Cuvée Prestige</td>\n",
              "      <td>91</td>\n",
              "      <td>27.0</td>\n",
              "      <td>Champagne</td>\n",
              "      <td>Champagne</td>\n",
              "      <td>NaN</td>\n",
              "      <td>Champagne Blend</td>\n",
              "      <td>H.Germain</td>\n",
              "    </tr>\n",
              "    <tr>\n",
              "      <th>150927</th>\n",
              "      <td>Italy</td>\n",
              "      <td>This classic example comes from a cru vineyard...</td>\n",
              "      <td>Terre di Dora</td>\n",
              "      <td>91</td>\n",
              "      <td>20.0</td>\n",
              "      <td>Southern Italy</td>\n",
              "      <td>Fiano di Avellino</td>\n",
              "      <td>NaN</td>\n",
              "      <td>White Blend</td>\n",
              "      <td>Terredora</td>\n",
              "    </tr>\n",
              "    <tr>\n",
              "      <th>150928</th>\n",
              "      <td>France</td>\n",
              "      <td>A perfect salmon shade, with scents of peaches...</td>\n",
              "      <td>Grand Brut Rosé</td>\n",
              "      <td>90</td>\n",
              "      <td>52.0</td>\n",
              "      <td>Champagne</td>\n",
              "      <td>Champagne</td>\n",
              "      <td>NaN</td>\n",
              "      <td>Champagne Blend</td>\n",
              "      <td>Gosset</td>\n",
              "    </tr>\n",
              "  </tbody>\n",
              "</table>\n",
              "</div>\n",
              "      <button class=\"colab-df-convert\" onclick=\"convertToInteractive('df-5be0181b-6a21-4f49-ad32-4de893a1edb1')\"\n",
              "              title=\"Convert this dataframe to an interactive table.\"\n",
              "              style=\"display:none;\">\n",
              "        \n",
              "  <svg xmlns=\"http://www.w3.org/2000/svg\" height=\"24px\"viewBox=\"0 0 24 24\"\n",
              "       width=\"24px\">\n",
              "    <path d=\"M0 0h24v24H0V0z\" fill=\"none\"/>\n",
              "    <path d=\"M18.56 5.44l.94 2.06.94-2.06 2.06-.94-2.06-.94-.94-2.06-.94 2.06-2.06.94zm-11 1L8.5 8.5l.94-2.06 2.06-.94-2.06-.94L8.5 2.5l-.94 2.06-2.06.94zm10 10l.94 2.06.94-2.06 2.06-.94-2.06-.94-.94-2.06-.94 2.06-2.06.94z\"/><path d=\"M17.41 7.96l-1.37-1.37c-.4-.4-.92-.59-1.43-.59-.52 0-1.04.2-1.43.59L10.3 9.45l-7.72 7.72c-.78.78-.78 2.05 0 2.83L4 21.41c.39.39.9.59 1.41.59.51 0 1.02-.2 1.41-.59l7.78-7.78 2.81-2.81c.8-.78.8-2.07 0-2.86zM5.41 20L4 18.59l7.72-7.72 1.47 1.35L5.41 20z\"/>\n",
              "  </svg>\n",
              "      </button>\n",
              "      \n",
              "  <style>\n",
              "    .colab-df-container {\n",
              "      display:flex;\n",
              "      flex-wrap:wrap;\n",
              "      gap: 12px;\n",
              "    }\n",
              "\n",
              "    .colab-df-convert {\n",
              "      background-color: #E8F0FE;\n",
              "      border: none;\n",
              "      border-radius: 50%;\n",
              "      cursor: pointer;\n",
              "      display: none;\n",
              "      fill: #1967D2;\n",
              "      height: 32px;\n",
              "      padding: 0 0 0 0;\n",
              "      width: 32px;\n",
              "    }\n",
              "\n",
              "    .colab-df-convert:hover {\n",
              "      background-color: #E2EBFA;\n",
              "      box-shadow: 0px 1px 2px rgba(60, 64, 67, 0.3), 0px 1px 3px 1px rgba(60, 64, 67, 0.15);\n",
              "      fill: #174EA6;\n",
              "    }\n",
              "\n",
              "    [theme=dark] .colab-df-convert {\n",
              "      background-color: #3B4455;\n",
              "      fill: #D2E3FC;\n",
              "    }\n",
              "\n",
              "    [theme=dark] .colab-df-convert:hover {\n",
              "      background-color: #434B5C;\n",
              "      box-shadow: 0px 1px 3px 1px rgba(0, 0, 0, 0.15);\n",
              "      filter: drop-shadow(0px 1px 2px rgba(0, 0, 0, 0.3));\n",
              "      fill: #FFFFFF;\n",
              "    }\n",
              "  </style>\n",
              "\n",
              "      <script>\n",
              "        const buttonEl =\n",
              "          document.querySelector('#df-5be0181b-6a21-4f49-ad32-4de893a1edb1 button.colab-df-convert');\n",
              "        buttonEl.style.display =\n",
              "          google.colab.kernel.accessAllowed ? 'block' : 'none';\n",
              "\n",
              "        async function convertToInteractive(key) {\n",
              "          const element = document.querySelector('#df-5be0181b-6a21-4f49-ad32-4de893a1edb1');\n",
              "          const dataTable =\n",
              "            await google.colab.kernel.invokeFunction('convertToInteractive',\n",
              "                                                     [key], {});\n",
              "          if (!dataTable) return;\n",
              "\n",
              "          const docLinkHtml = 'Like what you see? Visit the ' +\n",
              "            '<a target=\"_blank\" href=https://colab.research.google.com/notebooks/data_table.ipynb>data table notebook</a>'\n",
              "            + ' to learn more about interactive tables.';\n",
              "          element.innerHTML = '';\n",
              "          dataTable['output_type'] = 'display_data';\n",
              "          await google.colab.output.renderOutput(dataTable, element);\n",
              "          const docLink = document.createElement('div');\n",
              "          docLink.innerHTML = docLinkHtml;\n",
              "          element.appendChild(docLink);\n",
              "        }\n",
              "      </script>\n",
              "    </div>\n",
              "  </div>\n",
              "  "
            ]
          },
          "metadata": {},
          "execution_count": 85
        }
      ]
    },
    {
      "cell_type": "markdown",
      "metadata": {
        "id": "agTeqHispC83"
      },
      "source": [
        "#### Отбор с условиями\n",
        "\n",
        "Так, а если мне нужны вина дороже $15 долларов? Как быть?"
      ]
    },
    {
      "cell_type": "code",
      "metadata": {
        "id": "elLBY-CBpC83"
      },
      "source": [
        "#задаем маску\n",
        "mask = data['price'] > 15"
      ],
      "execution_count": null,
      "outputs": []
    },
    {
      "cell_type": "code",
      "metadata": {
        "id": "W5uHJE8YpC84",
        "colab": {
          "base_uri": "https://localhost:8080/",
          "height": 621
        },
        "outputId": "f695f033-7537-4136-8ee9-1155d2214257"
      },
      "source": [
        "#и отбираем данные\n",
        "\n",
        "temp = data[mask]\n",
        "temp"
      ],
      "execution_count": null,
      "outputs": [
        {
          "output_type": "execute_result",
          "data": {
            "text/plain": [
              "       country                                        description  \\\n",
              "0           US  This tremendous 100% varietal wine hails from ...   \n",
              "1        Spain  Ripe aromas of fig, blackberry and cassis are ...   \n",
              "2           US  Mac Watson honors the memory of a wine once ma...   \n",
              "3           US  This spent 20 months in 30% new French oak, an...   \n",
              "4       France  This is the top wine from La Bégude, named aft...   \n",
              "...        ...                                                ...   \n",
              "150924  France  Really fine for a low-acid vintage, there's an...   \n",
              "150925   Italy  Many people feel Fiano represents southern Ita...   \n",
              "150926  France  Offers an intriguing nose with ginger, lime an...   \n",
              "150927   Italy  This classic example comes from a cru vineyard...   \n",
              "150928  France  A perfect salmon shade, with scents of peaches...   \n",
              "\n",
              "                                 designation  points  price        province  \\\n",
              "0                          Martha's Vineyard      96  235.0      California   \n",
              "1       Carodorum Selección Especial Reserva      96  110.0  Northern Spain   \n",
              "2              Special Selected Late Harvest      96   90.0      California   \n",
              "3                                    Reserve      96   65.0          Oregon   \n",
              "4                                 La Brûlade      95   66.0        Provence   \n",
              "...                                      ...     ...    ...             ...   \n",
              "150924                          Diamant Bleu      91   70.0       Champagne   \n",
              "150925                                   NaN      91   20.0  Southern Italy   \n",
              "150926                        Cuvée Prestige      91   27.0       Champagne   \n",
              "150927                         Terre di Dora      91   20.0  Southern Italy   \n",
              "150928                       Grand Brut Rosé      90   52.0       Champagne   \n",
              "\n",
              "                 region_1           region_2             variety  \\\n",
              "0             Napa Valley               Napa  Cabernet Sauvignon   \n",
              "1                    Toro                NaN       Tinta de Toro   \n",
              "2          Knights Valley             Sonoma     Sauvignon Blanc   \n",
              "3       Willamette Valley  Willamette Valley          Pinot Noir   \n",
              "4                  Bandol                NaN  Provence red blend   \n",
              "...                   ...                ...                 ...   \n",
              "150924          Champagne                NaN     Champagne Blend   \n",
              "150925  Fiano di Avellino                NaN         White Blend   \n",
              "150926          Champagne                NaN     Champagne Blend   \n",
              "150927  Fiano di Avellino                NaN         White Blend   \n",
              "150928          Champagne                NaN     Champagne Blend   \n",
              "\n",
              "                         winery  \n",
              "0                         Heitz  \n",
              "1       Bodega Carmen Rodríguez  \n",
              "2                      Macauley  \n",
              "3                         Ponzi  \n",
              "4          Domaine de la Bégude  \n",
              "...                         ...  \n",
              "150924  Heidsieck & Co Monopole  \n",
              "150925    Feudi di San Gregorio  \n",
              "150926                H.Germain  \n",
              "150927                Terredora  \n",
              "150928                   Gosset  \n",
              "\n",
              "[103342 rows x 10 columns]"
            ],
            "text/html": [
              "\n",
              "  <div id=\"df-34a2a164-1614-40e3-90f4-8b45b88ff969\">\n",
              "    <div class=\"colab-df-container\">\n",
              "      <div>\n",
              "<style scoped>\n",
              "    .dataframe tbody tr th:only-of-type {\n",
              "        vertical-align: middle;\n",
              "    }\n",
              "\n",
              "    .dataframe tbody tr th {\n",
              "        vertical-align: top;\n",
              "    }\n",
              "\n",
              "    .dataframe thead th {\n",
              "        text-align: right;\n",
              "    }\n",
              "</style>\n",
              "<table border=\"1\" class=\"dataframe\">\n",
              "  <thead>\n",
              "    <tr style=\"text-align: right;\">\n",
              "      <th></th>\n",
              "      <th>country</th>\n",
              "      <th>description</th>\n",
              "      <th>designation</th>\n",
              "      <th>points</th>\n",
              "      <th>price</th>\n",
              "      <th>province</th>\n",
              "      <th>region_1</th>\n",
              "      <th>region_2</th>\n",
              "      <th>variety</th>\n",
              "      <th>winery</th>\n",
              "    </tr>\n",
              "  </thead>\n",
              "  <tbody>\n",
              "    <tr>\n",
              "      <th>0</th>\n",
              "      <td>US</td>\n",
              "      <td>This tremendous 100% varietal wine hails from ...</td>\n",
              "      <td>Martha's Vineyard</td>\n",
              "      <td>96</td>\n",
              "      <td>235.0</td>\n",
              "      <td>California</td>\n",
              "      <td>Napa Valley</td>\n",
              "      <td>Napa</td>\n",
              "      <td>Cabernet Sauvignon</td>\n",
              "      <td>Heitz</td>\n",
              "    </tr>\n",
              "    <tr>\n",
              "      <th>1</th>\n",
              "      <td>Spain</td>\n",
              "      <td>Ripe aromas of fig, blackberry and cassis are ...</td>\n",
              "      <td>Carodorum Selección Especial Reserva</td>\n",
              "      <td>96</td>\n",
              "      <td>110.0</td>\n",
              "      <td>Northern Spain</td>\n",
              "      <td>Toro</td>\n",
              "      <td>NaN</td>\n",
              "      <td>Tinta de Toro</td>\n",
              "      <td>Bodega Carmen Rodríguez</td>\n",
              "    </tr>\n",
              "    <tr>\n",
              "      <th>2</th>\n",
              "      <td>US</td>\n",
              "      <td>Mac Watson honors the memory of a wine once ma...</td>\n",
              "      <td>Special Selected Late Harvest</td>\n",
              "      <td>96</td>\n",
              "      <td>90.0</td>\n",
              "      <td>California</td>\n",
              "      <td>Knights Valley</td>\n",
              "      <td>Sonoma</td>\n",
              "      <td>Sauvignon Blanc</td>\n",
              "      <td>Macauley</td>\n",
              "    </tr>\n",
              "    <tr>\n",
              "      <th>3</th>\n",
              "      <td>US</td>\n",
              "      <td>This spent 20 months in 30% new French oak, an...</td>\n",
              "      <td>Reserve</td>\n",
              "      <td>96</td>\n",
              "      <td>65.0</td>\n",
              "      <td>Oregon</td>\n",
              "      <td>Willamette Valley</td>\n",
              "      <td>Willamette Valley</td>\n",
              "      <td>Pinot Noir</td>\n",
              "      <td>Ponzi</td>\n",
              "    </tr>\n",
              "    <tr>\n",
              "      <th>4</th>\n",
              "      <td>France</td>\n",
              "      <td>This is the top wine from La Bégude, named aft...</td>\n",
              "      <td>La Brûlade</td>\n",
              "      <td>95</td>\n",
              "      <td>66.0</td>\n",
              "      <td>Provence</td>\n",
              "      <td>Bandol</td>\n",
              "      <td>NaN</td>\n",
              "      <td>Provence red blend</td>\n",
              "      <td>Domaine de la Bégude</td>\n",
              "    </tr>\n",
              "    <tr>\n",
              "      <th>...</th>\n",
              "      <td>...</td>\n",
              "      <td>...</td>\n",
              "      <td>...</td>\n",
              "      <td>...</td>\n",
              "      <td>...</td>\n",
              "      <td>...</td>\n",
              "      <td>...</td>\n",
              "      <td>...</td>\n",
              "      <td>...</td>\n",
              "      <td>...</td>\n",
              "    </tr>\n",
              "    <tr>\n",
              "      <th>150924</th>\n",
              "      <td>France</td>\n",
              "      <td>Really fine for a low-acid vintage, there's an...</td>\n",
              "      <td>Diamant Bleu</td>\n",
              "      <td>91</td>\n",
              "      <td>70.0</td>\n",
              "      <td>Champagne</td>\n",
              "      <td>Champagne</td>\n",
              "      <td>NaN</td>\n",
              "      <td>Champagne Blend</td>\n",
              "      <td>Heidsieck &amp; Co Monopole</td>\n",
              "    </tr>\n",
              "    <tr>\n",
              "      <th>150925</th>\n",
              "      <td>Italy</td>\n",
              "      <td>Many people feel Fiano represents southern Ita...</td>\n",
              "      <td>NaN</td>\n",
              "      <td>91</td>\n",
              "      <td>20.0</td>\n",
              "      <td>Southern Italy</td>\n",
              "      <td>Fiano di Avellino</td>\n",
              "      <td>NaN</td>\n",
              "      <td>White Blend</td>\n",
              "      <td>Feudi di San Gregorio</td>\n",
              "    </tr>\n",
              "    <tr>\n",
              "      <th>150926</th>\n",
              "      <td>France</td>\n",
              "      <td>Offers an intriguing nose with ginger, lime an...</td>\n",
              "      <td>Cuvée Prestige</td>\n",
              "      <td>91</td>\n",
              "      <td>27.0</td>\n",
              "      <td>Champagne</td>\n",
              "      <td>Champagne</td>\n",
              "      <td>NaN</td>\n",
              "      <td>Champagne Blend</td>\n",
              "      <td>H.Germain</td>\n",
              "    </tr>\n",
              "    <tr>\n",
              "      <th>150927</th>\n",
              "      <td>Italy</td>\n",
              "      <td>This classic example comes from a cru vineyard...</td>\n",
              "      <td>Terre di Dora</td>\n",
              "      <td>91</td>\n",
              "      <td>20.0</td>\n",
              "      <td>Southern Italy</td>\n",
              "      <td>Fiano di Avellino</td>\n",
              "      <td>NaN</td>\n",
              "      <td>White Blend</td>\n",
              "      <td>Terredora</td>\n",
              "    </tr>\n",
              "    <tr>\n",
              "      <th>150928</th>\n",
              "      <td>France</td>\n",
              "      <td>A perfect salmon shade, with scents of peaches...</td>\n",
              "      <td>Grand Brut Rosé</td>\n",
              "      <td>90</td>\n",
              "      <td>52.0</td>\n",
              "      <td>Champagne</td>\n",
              "      <td>Champagne</td>\n",
              "      <td>NaN</td>\n",
              "      <td>Champagne Blend</td>\n",
              "      <td>Gosset</td>\n",
              "    </tr>\n",
              "  </tbody>\n",
              "</table>\n",
              "<p>103342 rows × 10 columns</p>\n",
              "</div>\n",
              "      <button class=\"colab-df-convert\" onclick=\"convertToInteractive('df-34a2a164-1614-40e3-90f4-8b45b88ff969')\"\n",
              "              title=\"Convert this dataframe to an interactive table.\"\n",
              "              style=\"display:none;\">\n",
              "        \n",
              "  <svg xmlns=\"http://www.w3.org/2000/svg\" height=\"24px\"viewBox=\"0 0 24 24\"\n",
              "       width=\"24px\">\n",
              "    <path d=\"M0 0h24v24H0V0z\" fill=\"none\"/>\n",
              "    <path d=\"M18.56 5.44l.94 2.06.94-2.06 2.06-.94-2.06-.94-.94-2.06-.94 2.06-2.06.94zm-11 1L8.5 8.5l.94-2.06 2.06-.94-2.06-.94L8.5 2.5l-.94 2.06-2.06.94zm10 10l.94 2.06.94-2.06 2.06-.94-2.06-.94-.94-2.06-.94 2.06-2.06.94z\"/><path d=\"M17.41 7.96l-1.37-1.37c-.4-.4-.92-.59-1.43-.59-.52 0-1.04.2-1.43.59L10.3 9.45l-7.72 7.72c-.78.78-.78 2.05 0 2.83L4 21.41c.39.39.9.59 1.41.59.51 0 1.02-.2 1.41-.59l7.78-7.78 2.81-2.81c.8-.78.8-2.07 0-2.86zM5.41 20L4 18.59l7.72-7.72 1.47 1.35L5.41 20z\"/>\n",
              "  </svg>\n",
              "      </button>\n",
              "      \n",
              "  <style>\n",
              "    .colab-df-container {\n",
              "      display:flex;\n",
              "      flex-wrap:wrap;\n",
              "      gap: 12px;\n",
              "    }\n",
              "\n",
              "    .colab-df-convert {\n",
              "      background-color: #E8F0FE;\n",
              "      border: none;\n",
              "      border-radius: 50%;\n",
              "      cursor: pointer;\n",
              "      display: none;\n",
              "      fill: #1967D2;\n",
              "      height: 32px;\n",
              "      padding: 0 0 0 0;\n",
              "      width: 32px;\n",
              "    }\n",
              "\n",
              "    .colab-df-convert:hover {\n",
              "      background-color: #E2EBFA;\n",
              "      box-shadow: 0px 1px 2px rgba(60, 64, 67, 0.3), 0px 1px 3px 1px rgba(60, 64, 67, 0.15);\n",
              "      fill: #174EA6;\n",
              "    }\n",
              "\n",
              "    [theme=dark] .colab-df-convert {\n",
              "      background-color: #3B4455;\n",
              "      fill: #D2E3FC;\n",
              "    }\n",
              "\n",
              "    [theme=dark] .colab-df-convert:hover {\n",
              "      background-color: #434B5C;\n",
              "      box-shadow: 0px 1px 3px 1px rgba(0, 0, 0, 0.15);\n",
              "      filter: drop-shadow(0px 1px 2px rgba(0, 0, 0, 0.3));\n",
              "      fill: #FFFFFF;\n",
              "    }\n",
              "  </style>\n",
              "\n",
              "      <script>\n",
              "        const buttonEl =\n",
              "          document.querySelector('#df-34a2a164-1614-40e3-90f4-8b45b88ff969 button.colab-df-convert');\n",
              "        buttonEl.style.display =\n",
              "          google.colab.kernel.accessAllowed ? 'block' : 'none';\n",
              "\n",
              "        async function convertToInteractive(key) {\n",
              "          const element = document.querySelector('#df-34a2a164-1614-40e3-90f4-8b45b88ff969');\n",
              "          const dataTable =\n",
              "            await google.colab.kernel.invokeFunction('convertToInteractive',\n",
              "                                                     [key], {});\n",
              "          if (!dataTable) return;\n",
              "\n",
              "          const docLinkHtml = 'Like what you see? Visit the ' +\n",
              "            '<a target=\"_blank\" href=https://colab.research.google.com/notebooks/data_table.ipynb>data table notebook</a>'\n",
              "            + ' to learn more about interactive tables.';\n",
              "          element.innerHTML = '';\n",
              "          dataTable['output_type'] = 'display_data';\n",
              "          await google.colab.output.renderOutput(dataTable, element);\n",
              "          const docLink = document.createElement('div');\n",
              "          docLink.innerHTML = docLinkHtml;\n",
              "          element.appendChild(docLink);\n",
              "        }\n",
              "      </script>\n",
              "    </div>\n",
              "  </div>\n",
              "  "
            ]
          },
          "metadata": {},
          "execution_count": 87
        }
      ]
    },
    {
      "cell_type": "markdown",
      "metadata": {
        "id": "hNVNcfZOpC84"
      },
      "source": [
        "## Задача 3"
      ]
    },
    {
      "cell_type": "markdown",
      "metadata": {
        "id": "e_ynqYI5pC84"
      },
      "source": [
        "### Посмотрим на данные еще раз! Картинками :)"
      ]
    },
    {
      "cell_type": "markdown",
      "metadata": {
        "id": "cx44We6JpC84"
      },
      "source": [
        "Уменьшаем стресс и не идем знакомиться с бибилотеками для визуалиации, потому что...\n",
        "\n",
        "В библиотеке pandas есть инструмент для рисования!\n",
        "\n",
        "- df.plot() - метод для рисования\n",
        "\n",
        "Давайте попробуем  просто вызвать без всего и посмотрим, что выйдет."
      ]
    },
    {
      "cell_type": "code",
      "metadata": {
        "id": "UNVEzJx-pC85",
        "colab": {
          "base_uri": "https://localhost:8080/",
          "height": 281
        },
        "outputId": "f60e70ba-9259-4682-9cf3-15e5dbc3a05f"
      },
      "source": [
        "data.plot()"
      ],
      "execution_count": null,
      "outputs": [
        {
          "output_type": "execute_result",
          "data": {
            "text/plain": [
              "<AxesSubplot:>"
            ]
          },
          "metadata": {},
          "execution_count": 88
        },
        {
          "output_type": "display_data",
          "data": {
            "text/plain": [
              "<Figure size 432x288 with 1 Axes>"
            ],
            "image/png": "[encoded data removed]"
          },
          "metadata": {
            "needs_background": "light"
          }
        }
      ]
    },
    {
      "cell_type": "markdown",
      "metadata": {
        "id": "DaYcUUZFpC85"
      },
      "source": [
        "Не очень."
      ]
    },
    {
      "cell_type": "code",
      "metadata": {
        "id": "mi53trzhpC86",
        "colab": {
          "base_uri": "https://localhost:8080/",
          "height": 281
        },
        "outputId": "4b160a85-0363-42ab-b223-0136bf970e57"
      },
      "source": [
        "data['price'].plot()"
      ],
      "execution_count": null,
      "outputs": [
        {
          "output_type": "execute_result",
          "data": {
            "text/plain": [
              "<AxesSubplot:>"
            ]
          },
          "metadata": {},
          "execution_count": 89
        },
        {
          "output_type": "display_data",
          "data": {
            "text/plain": [
              "<Figure size 432x288 with 1 Axes>"
            ],
            "image/png": "[encoded data removed]"
          },
          "metadata": {
            "needs_background": "light"
          }
        }
      ]
    },
    {
      "cell_type": "code",
      "metadata": {
        "scrolled": true,
        "id": "t0hK0K4JpC87",
        "colab": {
          "base_uri": "https://localhost:8080/",
          "height": 281
        },
        "outputId": "660388c0-8e88-4dcd-f96d-c239863f9025"
      },
      "source": [
        "data['points'].plot()"
      ],
      "execution_count": null,
      "outputs": [
        {
          "output_type": "execute_result",
          "data": {
            "text/plain": [
              "<AxesSubplot:>"
            ]
          },
          "metadata": {},
          "execution_count": 90
        },
        {
          "output_type": "display_data",
          "data": {
            "text/plain": [
              "<Figure size 432x288 with 1 Axes>"
            ],
            "image/png": "[encoded data removed]"
          },
          "metadata": {
            "needs_background": "light"
          }
        }
      ]
    },
    {
      "cell_type": "markdown",
      "metadata": {
        "id": "KPG0eQf5pC87"
      },
      "source": [
        "Что-то все не очень. Давайте попробуем добиться какой-нибудь разумной визуализации столбца points."
      ]
    },
    {
      "cell_type": "code",
      "metadata": {
        "id": "rvtC1ZC9pC88",
        "colab": {
          "base_uri": "https://localhost:8080/",
          "height": 289
        },
        "outputId": "498fbb0e-12c1-4776-a898-20241b42e98c"
      },
      "source": [
        "data['points'].value_counts().plot(kind='bar')"
      ],
      "execution_count": null,
      "outputs": [
        {
          "output_type": "execute_result",
          "data": {
            "text/plain": [
              "<AxesSubplot:>"
            ]
          },
          "metadata": {},
          "execution_count": 91
        },
        {
          "output_type": "display_data",
          "data": {
            "text/plain": [
              "<Figure size 432x288 with 1 Axes>"
            ],
            "image/png": "[encoded data removed]"
          },
          "metadata": {
            "needs_background": "light"
          }
        }
      ]
    },
    {
      "cell_type": "markdown",
      "metadata": {
        "id": "MWpDd6PHpC8-"
      },
      "source": [
        "А что это новое за value_counts()? (Без него не советую запускать код выше, будет больно)"
      ]
    },
    {
      "cell_type": "code",
      "metadata": {
        "id": "BSxwM6EFpC8_",
        "colab": {
          "base_uri": "https://localhost:8080/"
        },
        "outputId": "da16f36e-5cc8-4c6e-ca7f-cc3c52255820"
      },
      "source": [
        "data['points'].value_counts()"
      ],
      "execution_count": null,
      "outputs": [
        {
          "output_type": "execute_result",
          "data": {
            "text/plain": [
              "87     20747\n",
              "88     17871\n",
              "90     15973\n",
              "86     15573\n",
              "89     12921\n",
              "85     12411\n",
              "84     10708\n",
              "91     10536\n",
              "92      9241\n",
              "83      6048\n",
              "93      6017\n",
              "82      4041\n",
              "94      3462\n",
              "95      1716\n",
              "81      1502\n",
              "80       898\n",
              "96       695\n",
              "97       365\n",
              "98       131\n",
              "99        50\n",
              "100       24\n",
              "Name: points, dtype: int64"
            ]
          },
          "metadata": {},
          "execution_count": 92
        }
      ]
    },
    {
      "cell_type": "code",
      "metadata": {
        "id": "L_ZUZ201pC8_",
        "colab": {
          "base_uri": "https://localhost:8080/",
          "height": 281
        },
        "outputId": "cb41b8d2-0324-4e49-82d2-1b8c55da87f6"
      },
      "source": [
        "data['points'].value_counts().plot(kind='barh')"
      ],
      "execution_count": null,
      "outputs": [
        {
          "output_type": "execute_result",
          "data": {
            "text/plain": [
              "<AxesSubplot:>"
            ]
          },
          "metadata": {},
          "execution_count": 93
        },
        {
          "output_type": "display_data",
          "data": {
            "text/plain": [
              "<Figure size 432x288 with 1 Axes>"
            ],
            "image/png": "[encoded data removed]"
          },
          "metadata": {
            "needs_background": "light"
          }
        }
      ]
    },
    {
      "cell_type": "code",
      "metadata": {
        "id": "GoLNQ2eVpC8_",
        "colab": {
          "base_uri": "https://localhost:8080/",
          "height": 281
        },
        "outputId": "056e5248-198d-4d82-878d-23d0b4543a82"
      },
      "source": [
        "data['points'].value_counts().plot(kind='line')"
      ],
      "execution_count": null,
      "outputs": [
        {
          "output_type": "execute_result",
          "data": {
            "text/plain": [
              "<AxesSubplot:>"
            ]
          },
          "metadata": {},
          "execution_count": 94
        },
        {
          "output_type": "display_data",
          "data": {
            "text/plain": [
              "<Figure size 432x288 with 1 Axes>"
            ],
            "image/png": "[encoded data removed]"
          },
          "metadata": {
            "needs_background": "light"
          }
        }
      ]
    },
    {
      "cell_type": "markdown",
      "metadata": {
        "id": "9jYm2ChqpC9H"
      },
      "source": [
        "Опять некрасиво. Потому что у нас индексы не отсортированы при value_counts()!\n",
        "\n",
        "Поправим"
      ]
    },
    {
      "cell_type": "code",
      "metadata": {
        "id": "xbO0pvjzpC9I",
        "colab": {
          "base_uri": "https://localhost:8080/",
          "height": 281
        },
        "outputId": "5e9bc4a9-ed69-4461-c409-53efb63beade"
      },
      "source": [
        "data['points'].value_counts().sort_index().plot(kind='line')"
      ],
      "execution_count": null,
      "outputs": [
        {
          "output_type": "execute_result",
          "data": {
            "text/plain": [
              "<AxesSubplot:>"
            ]
          },
          "metadata": {},
          "execution_count": 95
        },
        {
          "output_type": "display_data",
          "data": {
            "text/plain": [
              "<Figure size 432x288 with 1 Axes>"
            ],
            "image/png": "[encoded data removed]"
          },
          "metadata": {
            "needs_background": "light"
          }
        }
      ]
    },
    {
      "cell_type": "code",
      "metadata": {
        "id": "gQO8_zoPpC9I",
        "colab": {
          "base_uri": "https://localhost:8080/",
          "height": 281
        },
        "outputId": "3679596b-db82-4062-ad84-f0e83993bfe0"
      },
      "source": [
        "data['points'].value_counts().sort_index().plot(kind='area')"
      ],
      "execution_count": null,
      "outputs": [
        {
          "output_type": "execute_result",
          "data": {
            "text/plain": [
              "<AxesSubplot:>"
            ]
          },
          "metadata": {},
          "execution_count": 96
        },
        {
          "output_type": "display_data",
          "data": {
            "text/plain": [
              "<Figure size 432x288 with 1 Axes>"
            ],
            "image/png": "[encoded data removed]"
          },
          "metadata": {
            "needs_background": "light"
          }
        }
      ]
    },
    {
      "cell_type": "code",
      "metadata": {
        "id": "D-vxGhdhpC9J",
        "colab": {
          "base_uri": "https://localhost:8080/",
          "height": 281
        },
        "outputId": "0e36d0e9-f523-453a-dec2-91462b9c246a"
      },
      "source": [
        "data['points'].sort_index().plot(kind='hist')"
      ],
      "execution_count": null,
      "outputs": [
        {
          "output_type": "execute_result",
          "data": {
            "text/plain": [
              "<AxesSubplot:ylabel='Frequency'>"
            ]
          },
          "metadata": {},
          "execution_count": 97
        },
        {
          "output_type": "display_data",
          "data": {
            "text/plain": [
              "<Figure size 432x288 with 1 Axes>"
            ],
            "image/png": "[encoded data removed]"
          },
          "metadata": {
            "needs_background": "light"
          }
        }
      ]
    },
    {
      "cell_type": "code",
      "metadata": {
        "scrolled": true,
        "id": "BwDE78TlpC9J",
        "colab": {
          "base_uri": "https://localhost:8080/",
          "height": 281
        },
        "outputId": "8557b938-ce58-4d66-e95c-a53520b9dea8"
      },
      "source": [
        "data['points'].plot(kind='box')"
      ],
      "execution_count": null,
      "outputs": [
        {
          "output_type": "execute_result",
          "data": {
            "text/plain": [
              "<AxesSubplot:>"
            ]
          },
          "metadata": {},
          "execution_count": 98
        },
        {
          "output_type": "display_data",
          "data": {
            "text/plain": [
              "<Figure size 432x288 with 1 Axes>"
            ],
            "image/png": "[encoded data removed]"
          },
          "metadata": {
            "needs_background": "light"
          }
        }
      ]
    },
    {
      "cell_type": "markdown",
      "metadata": {
        "id": "dqjQv-x2pC9J"
      },
      "source": [
        "Ну вроде про один столбец разобрались. А как красиво сразу про все столбцы нарисовать?"
      ]
    },
    {
      "cell_type": "code",
      "metadata": {
        "id": "g6_v4I18pC9K",
        "colab": {
          "base_uri": "https://localhost:8080/",
          "height": 281
        },
        "outputId": "09a6a9d0-9fac-4cce-df0d-a420df994de5"
      },
      "source": [
        "data.plot(kind ='box')"
      ],
      "execution_count": null,
      "outputs": [
        {
          "output_type": "execute_result",
          "data": {
            "text/plain": [
              "<AxesSubplot:>"
            ]
          },
          "metadata": {},
          "execution_count": 99
        },
        {
          "output_type": "display_data",
          "data": {
            "text/plain": [
              "<Figure size 432x288 with 1 Axes>"
            ],
            "image/png": "[encoded data removed]"
          },
          "metadata": {
            "needs_background": "light"
          }
        }
      ]
    },
    {
      "cell_type": "code",
      "metadata": {
        "id": "aCfOM89YpC9K",
        "colab": {
          "base_uri": "https://localhost:8080/",
          "height": 314
        },
        "outputId": "2b0cb723-c217-4824-87c0-1d0c5ed96688"
      },
      "source": [
        "data.plot(kind='box', subplots=True)"
      ],
      "execution_count": null,
      "outputs": [
        {
          "output_type": "execute_result",
          "data": {
            "text/plain": [
              "points       AxesSubplot(0.125,0.125;0.352273x0.755)\n",
              "price     AxesSubplot(0.547727,0.125;0.352273x0.755)\n",
              "dtype: object"
            ]
          },
          "metadata": {},
          "execution_count": 100
        },
        {
          "output_type": "display_data",
          "data": {
            "text/plain": [
              "<Figure size 432x288 with 2 Axes>"
            ],
            "image/png": "[encoded data removed]"
          },
          "metadata": {
            "needs_background": "light"
          }
        }
      ]
    },
    {
      "cell_type": "markdown",
      "metadata": {
        "id": "9DGX1YZ1pC9P"
      },
      "source": [
        "А совместно как распределены цены и оценки сомелье?"
      ]
    },
    {
      "cell_type": "code",
      "metadata": {
        "scrolled": true,
        "id": "7hkOM6fNpC9P",
        "colab": {
          "base_uri": "https://localhost:8080/",
          "height": 295
        },
        "outputId": "dbc1622a-e4ea-4d6e-e09a-b91acb138567"
      },
      "source": [
        " data.plot(x='points', y='price', kind='scatter')"
      ],
      "execution_count": null,
      "outputs": [
        {
          "output_type": "execute_result",
          "data": {
            "text/plain": [
              "<AxesSubplot:xlabel='points', ylabel='price'>"
            ]
          },
          "metadata": {},
          "execution_count": 101
        },
        {
          "output_type": "display_data",
          "data": {
            "text/plain": [
              "<Figure size 432x288 with 1 Axes>"
            ],
            "image/png": "[encoded data removed]"
          },
          "metadata": {
            "needs_background": "light"
          }
        }
      ]
    },
    {
      "cell_type": "code",
      "metadata": {
        "id": "0TUmzGHgpC9R"
      },
      "source": [
        "%%capture\n",
        "\n",
        "#скачаем еще одну табличку: для каждого балла определено, сколько представиле каждого сорта вина набрало такой балл\n",
        "\n",
        "!wget https://www.dropbox.com/s/bz0z9m9mv2e8p16/dpo_1-2_top-five-wine-score-counts.csv\n",
        "\n",
        "wine_counts = pd.read_csv('dpo_1-2_top-five-wine-score-counts.csv')"
      ],
      "execution_count": null,
      "outputs": []
    },
    {
      "cell_type": "code",
      "source": [
        "wine_counts.head(3)"
      ],
      "metadata": {
        "colab": {
          "base_uri": "https://localhost:8080/",
          "height": 140
        },
        "id": "LPzaWFSwyiDT",
        "outputId": "dd16e110-6cb9-4342-d6c7-91b114b7437c"
      },
      "execution_count": null,
      "outputs": [
        {
          "output_type": "execute_result",
          "data": {
            "text/plain": [
              "   points  Bordeaux-style Red Blend  Cabernet Sauvignon  Chardonnay  \\\n",
              "0      80                       5.0                87.0        68.0   \n",
              "1      81                      18.0               159.0       150.0   \n",
              "2      82                      72.0               435.0       517.0   \n",
              "\n",
              "   Pinot Noir  Red Blend  \n",
              "0        36.0       72.0  \n",
              "1        83.0      107.0  \n",
              "2       295.0      223.0  "
            ],
            "text/html": [
              "\n",
              "  <div id=\"df-935345c8-b891-44d0-aeb3-5b23d67391f0\">\n",
              "    <div class=\"colab-df-container\">\n",
              "      <div>\n",
              "<style scoped>\n",
              "    .dataframe tbody tr th:only-of-type {\n",
              "        vertical-align: middle;\n",
              "    }\n",
              "\n",
              "    .dataframe tbody tr th {\n",
              "        vertical-align: top;\n",
              "    }\n",
              "\n",
              "    .dataframe thead th {\n",
              "        text-align: right;\n",
              "    }\n",
              "</style>\n",
              "<table border=\"1\" class=\"dataframe\">\n",
              "  <thead>\n",
              "    <tr style=\"text-align: right;\">\n",
              "      <th></th>\n",
              "      <th>points</th>\n",
              "      <th>Bordeaux-style Red Blend</th>\n",
              "      <th>Cabernet Sauvignon</th>\n",
              "      <th>Chardonnay</th>\n",
              "      <th>Pinot Noir</th>\n",
              "      <th>Red Blend</th>\n",
              "    </tr>\n",
              "  </thead>\n",
              "  <tbody>\n",
              "    <tr>\n",
              "      <th>0</th>\n",
              "      <td>80</td>\n",
              "      <td>5.0</td>\n",
              "      <td>87.0</td>\n",
              "      <td>68.0</td>\n",
              "      <td>36.0</td>\n",
              "      <td>72.0</td>\n",
              "    </tr>\n",
              "    <tr>\n",
              "      <th>1</th>\n",
              "      <td>81</td>\n",
              "      <td>18.0</td>\n",
              "      <td>159.0</td>\n",
              "      <td>150.0</td>\n",
              "      <td>83.0</td>\n",
              "      <td>107.0</td>\n",
              "    </tr>\n",
              "    <tr>\n",
              "      <th>2</th>\n",
              "      <td>82</td>\n",
              "      <td>72.0</td>\n",
              "      <td>435.0</td>\n",
              "      <td>517.0</td>\n",
              "      <td>295.0</td>\n",
              "      <td>223.0</td>\n",
              "    </tr>\n",
              "  </tbody>\n",
              "</table>\n",
              "</div>\n",
              "      <button class=\"colab-df-convert\" onclick=\"convertToInteractive('df-935345c8-b891-44d0-aeb3-5b23d67391f0')\"\n",
              "              title=\"Convert this dataframe to an interactive table.\"\n",
              "              style=\"display:none;\">\n",
              "        \n",
              "  <svg xmlns=\"http://www.w3.org/2000/svg\" height=\"24px\"viewBox=\"0 0 24 24\"\n",
              "       width=\"24px\">\n",
              "    <path d=\"M0 0h24v24H0V0z\" fill=\"none\"/>\n",
              "    <path d=\"M18.56 5.44l.94 2.06.94-2.06 2.06-.94-2.06-.94-.94-2.06-.94 2.06-2.06.94zm-11 1L8.5 8.5l.94-2.06 2.06-.94-2.06-.94L8.5 2.5l-.94 2.06-2.06.94zm10 10l.94 2.06.94-2.06 2.06-.94-2.06-.94-.94-2.06-.94 2.06-2.06.94z\"/><path d=\"M17.41 7.96l-1.37-1.37c-.4-.4-.92-.59-1.43-.59-.52 0-1.04.2-1.43.59L10.3 9.45l-7.72 7.72c-.78.78-.78 2.05 0 2.83L4 21.41c.39.39.9.59 1.41.59.51 0 1.02-.2 1.41-.59l7.78-7.78 2.81-2.81c.8-.78.8-2.07 0-2.86zM5.41 20L4 18.59l7.72-7.72 1.47 1.35L5.41 20z\"/>\n",
              "  </svg>\n",
              "      </button>\n",
              "      \n",
              "  <style>\n",
              "    .colab-df-container {\n",
              "      display:flex;\n",
              "      flex-wrap:wrap;\n",
              "      gap: 12px;\n",
              "    }\n",
              "\n",
              "    .colab-df-convert {\n",
              "      background-color: #E8F0FE;\n",
              "      border: none;\n",
              "      border-radius: 50%;\n",
              "      cursor: pointer;\n",
              "      display: none;\n",
              "      fill: #1967D2;\n",
              "      height: 32px;\n",
              "      padding: 0 0 0 0;\n",
              "      width: 32px;\n",
              "    }\n",
              "\n",
              "    .colab-df-convert:hover {\n",
              "      background-color: #E2EBFA;\n",
              "      box-shadow: 0px 1px 2px rgba(60, 64, 67, 0.3), 0px 1px 3px 1px rgba(60, 64, 67, 0.15);\n",
              "      fill: #174EA6;\n",
              "    }\n",
              "\n",
              "    [theme=dark] .colab-df-convert {\n",
              "      background-color: #3B4455;\n",
              "      fill: #D2E3FC;\n",
              "    }\n",
              "\n",
              "    [theme=dark] .colab-df-convert:hover {\n",
              "      background-color: #434B5C;\n",
              "      box-shadow: 0px 1px 3px 1px rgba(0, 0, 0, 0.15);\n",
              "      filter: drop-shadow(0px 1px 2px rgba(0, 0, 0, 0.3));\n",
              "      fill: #FFFFFF;\n",
              "    }\n",
              "  </style>\n",
              "\n",
              "      <script>\n",
              "        const buttonEl =\n",
              "          document.querySelector('#df-935345c8-b891-44d0-aeb3-5b23d67391f0 button.colab-df-convert');\n",
              "        buttonEl.style.display =\n",
              "          google.colab.kernel.accessAllowed ? 'block' : 'none';\n",
              "\n",
              "        async function convertToInteractive(key) {\n",
              "          const element = document.querySelector('#df-935345c8-b891-44d0-aeb3-5b23d67391f0');\n",
              "          const dataTable =\n",
              "            await google.colab.kernel.invokeFunction('convertToInteractive',\n",
              "                                                     [key], {});\n",
              "          if (!dataTable) return;\n",
              "\n",
              "          const docLinkHtml = 'Like what you see? Visit the ' +\n",
              "            '<a target=\"_blank\" href=https://colab.research.google.com/notebooks/data_table.ipynb>data table notebook</a>'\n",
              "            + ' to learn more about interactive tables.';\n",
              "          element.innerHTML = '';\n",
              "          dataTable['output_type'] = 'display_data';\n",
              "          await google.colab.output.renderOutput(dataTable, element);\n",
              "          const docLink = document.createElement('div');\n",
              "          docLink.innerHTML = docLinkHtml;\n",
              "          element.appendChild(docLink);\n",
              "        }\n",
              "      </script>\n",
              "    </div>\n",
              "  </div>\n",
              "  "
            ]
          },
          "metadata": {},
          "execution_count": 104
        }
      ]
    },
    {
      "cell_type": "code",
      "source": [
        "len(wine_counts)"
      ],
      "metadata": {
        "colab": {
          "base_uri": "https://localhost:8080/"
        },
        "id": "CWNvJvgTy8DW",
        "outputId": "78842515-2780-49b4-d4d3-8aac2ae30959"
      },
      "execution_count": null,
      "outputs": [
        {
          "output_type": "execute_result",
          "data": {
            "text/plain": [
              "21"
            ]
          },
          "metadata": {},
          "execution_count": 108
        }
      ]
    },
    {
      "cell_type": "code",
      "metadata": {
        "id": "YzeL7O6npC9T",
        "colab": {
          "base_uri": "https://localhost:8080/",
          "height": 295
        },
        "outputId": "d19ef0a9-4bc9-44ad-bb64-3f7e41f3b70a"
      },
      "source": [
        "wine_counts.plot.line(x='points')"
      ],
      "execution_count": null,
      "outputs": [
        {
          "output_type": "execute_result",
          "data": {
            "text/plain": [
              "<AxesSubplot:xlabel='points'>"
            ]
          },
          "metadata": {},
          "execution_count": 105
        },
        {
          "output_type": "display_data",
          "data": {
            "text/plain": [
              "<Figure size 432x288 with 1 Axes>"
            ],
            "image/png": "[encoded data removed]"
          },
          "metadata": {
            "needs_background": "light"
          }
        }
      ]
    },
    {
      "cell_type": "code",
      "metadata": {
        "id": "nxG9qHGvpC9T",
        "colab": {
          "base_uri": "https://localhost:8080/",
          "height": 295
        },
        "outputId": "d27563d1-07d7-4902-c446-13d8c94135be"
      },
      "source": [
        "wine_counts.plot.area(x='points')"
      ],
      "execution_count": null,
      "outputs": [
        {
          "output_type": "execute_result",
          "data": {
            "text/plain": [
              "<AxesSubplot:xlabel='points'>"
            ]
          },
          "metadata": {},
          "execution_count": 106
        },
        {
          "output_type": "display_data",
          "data": {
            "text/plain": [
              "<Figure size 432x288 with 1 Axes>"
            ],
            "image/png": "[encoded data removed]"
          },
          "metadata": {
            "needs_background": "light"
          }
        }
      ]
    },
    {
      "cell_type": "code",
      "metadata": {
        "id": "1ruWo0d_pC9U",
        "colab": {
          "base_uri": "https://localhost:8080/",
          "height": 303
        },
        "outputId": "8b9edcee-988d-4e7b-c896-02da5d195712"
      },
      "source": [
        "wine_counts.plot.bar(x='points', stacked=True)"
      ],
      "execution_count": null,
      "outputs": [
        {
          "output_type": "execute_result",
          "data": {
            "text/plain": [
              "<AxesSubplot:xlabel='points'>"
            ]
          },
          "metadata": {},
          "execution_count": 107
        },
        {
          "output_type": "display_data",
          "data": {
            "text/plain": [
              "<Figure size 432x288 with 1 Axes>"
            ],
            "image/png": "[encoded data removed]"
          },
          "metadata": {
            "needs_background": "light"
          }
        }
      ]
    },
    {
      "cell_type": "markdown",
      "metadata": {
        "id": "HP_3uj2IpC9U"
      },
      "source": [
        "## Задача 4\n",
        "\n",
        "Нарисовать barplot для столбца 'country' топ-10 стран производителей.\n",
        "\n",
        "1) Нужно взять столбец country <br>\n",
        "2) Применить к нему метод value_counts() <br>\n",
        "3) Потом применить к нему метод head(10) <br>\n",
        "4) Потом применить метод plot(kind='bar') <br>"
      ]
    },
    {
      "cell_type": "code",
      "metadata": {
        "id": "jRydD2OdpC9U",
        "colab": {
          "base_uri": "https://localhost:8080/",
          "height": 336
        },
        "outputId": "193e1b6d-8c12-40f2-a070-876487f2ac9d"
      },
      "source": [
        "data['country'].value_counts().head(10).plot(kind = 'bar')"
      ],
      "execution_count": null,
      "outputs": [
        {
          "output_type": "execute_result",
          "data": {
            "text/plain": [
              "<AxesSubplot:>"
            ]
          },
          "metadata": {},
          "execution_count": 118
        },
        {
          "output_type": "display_data",
          "data": {
            "text/plain": [
              "<Figure size 432x288 with 1 Axes>"
            ],
            "image/png": "[encoded data removed]"
          },
          "metadata": {
            "needs_background": "light"
          }
        }
      ]
    },
    {
      "cell_type": "markdown",
      "metadata": {
        "id": "IcYg0g9GEzV8"
      },
      "source": [
        "# Часть 3  - Бинарная классификация (10 баллов)\n",
        "\n",
        "Теперь возьмем другой датасет, и обучим модель для предсказания оттока сотрудников. То есть по различным характеристикам сотрудника - количество лет в компании, зарплате, частоте командировок, и т.д., будем определять насколько вероятно, что этот сотрудник из компании уйдет."
      ]
    },
    {
      "cell_type": "markdown",
      "metadata": {
        "id": "KcjdGUhAEzV-"
      },
      "source": [
        "## 1. Загрузить данные для обучения"
      ]
    },
    {
      "cell_type": "markdown",
      "metadata": {
        "id": "urvhYHE1EzV_"
      },
      "source": [
        "**Шаг 1.1. Загружаем библиотеки**\n",
        "\n"
      ]
    },
    {
      "cell_type": "code",
      "metadata": {
        "id": "RYNgvUZupC9W"
      },
      "source": [
        "#эти библиотеки мы уже загружали, но загрузим еще раз :)\n",
        "\n",
        "import pandas as pd\n",
        "\n",
        "import matplotlib.pyplot as plt\n",
        "%matplotlib inline"
      ],
      "execution_count": null,
      "outputs": []
    },
    {
      "cell_type": "markdown",
      "metadata": {
        "id": "TXOuYgvCEzWE"
      },
      "source": [
        "Нам понадобится библиотека **scikit-learn** -- инструмент для построения моделей машинного обучения. Из **scikit-learn** выберем несколько готовых функции для расчёта метрик качества классификации."
      ]
    },
    {
      "cell_type": "code",
      "metadata": {
        "_cell_guid": "cfdaacbc-23a3-423d-8d4d-120939ac7383",
        "id": "h7hEiturEzWG"
      },
      "source": [
        "from sklearn.metrics import confusion_matrix, average_precision_score # метрики качества"
      ],
      "execution_count": null,
      "outputs": []
    },
    {
      "cell_type": "markdown",
      "metadata": {
        "id": "45JqEZNwEzWN"
      },
      "source": [
        "**Шаг 1.2. Загрузим данные**\n",
        "\n",
        "Чтобы загрузить данные, будем использовать функцию **`pd.read_csv()`** из библиотеки `pandas`."
      ]
    },
    {
      "cell_type": "code",
      "metadata": {
        "id": "VjdT0K4R7_lT"
      },
      "source": [
        "%%capture\n",
        "\n",
        "!wget https://www.dropbox.com/s/94jagqc91ekw3kf/data.csv"
      ],
      "execution_count": null,
      "outputs": []
    },
    {
      "cell_type": "code",
      "metadata": {
        "_cell_guid": "3ab4c525-a5cb-4183-9468-c1dd005c4c78",
        "id": "04QX5xNgEzWO"
      },
      "source": [
        "data = pd.read_csv('data.csv', index_col=0)"
      ],
      "execution_count": null,
      "outputs": []
    },
    {
      "cell_type": "code",
      "metadata": {
        "id": "SJz-Go0spC9Y",
        "colab": {
          "base_uri": "https://localhost:8080/",
          "height": 347
        },
        "outputId": "fbdcb511-323a-4abb-89aa-940b4b04c379"
      },
      "source": [
        "data.head()"
      ],
      "execution_count": null,
      "outputs": [
        {
          "output_type": "execute_result",
          "data": {
            "text/plain": [
              "   Age     BusinessTravel              Department  DistanceFromHome  \\\n",
              "0   40      Travel_Rarely  Research & Development                 2   \n",
              "1   31      Travel_Rarely  Research & Development                28   \n",
              "2   35  Travel_Frequently  Research & Development                 3   \n",
              "3   33      Travel_Rarely  Research & Development                 2   \n",
              "4   32      Travel_Rarely  Research & Development                 2   \n",
              "\n",
              "   Education    EducationField  Gender                JobRole MaritalStatus  \\\n",
              "0          3           Medical    Male      Research Director        Single   \n",
              "1          4  Technical Degree  Female        Sales Executive       Married   \n",
              "2          3           Medical  Female  Laboratory Technician       Married   \n",
              "3          2           Medical    Male        Sales Executive        Single   \n",
              "4          3           Medical    Male     Research Scientist       Married   \n",
              "\n",
              "   MonthlyIncome  NumCompaniesWorked  PercentSalaryHike  StandardHours  \\\n",
              "0          47750                 3.0                 15              8   \n",
              "1         127420                 1.0                 11              8   \n",
              "2          22580                 1.0                 11              8   \n",
              "3          24400                 0.0                 18              8   \n",
              "4          57470                 1.0                 13              8   \n",
              "\n",
              "   StockOptionLevel  TotalWorkingYears  TrainingTimesLastYear  YearsAtCompany  \\\n",
              "0                 1               15.0                      3               5   \n",
              "1                 0               10.0                      4              10   \n",
              "2                 1                2.0                      2               2   \n",
              "3                 3                4.0                      4               3   \n",
              "4                 0                8.0                      0               8   \n",
              "\n",
              "   YearsSinceLastPromotion  YearsWithCurrManager  Attrition  \n",
              "0                        1                     0          1  \n",
              "1                        0                     2          0  \n",
              "2                        2                     2          0  \n",
              "3                        0                     2          0  \n",
              "4                        0                     7          0  "
            ],
            "text/html": [
              "\n",
              "  <div id=\"df-4fc1863a-1151-4876-bc9c-d46656c197f1\">\n",
              "    <div class=\"colab-df-container\">\n",
              "      <div>\n",
              "<style scoped>\n",
              "    .dataframe tbody tr th:only-of-type {\n",
              "        vertical-align: middle;\n",
              "    }\n",
              "\n",
              "    .dataframe tbody tr th {\n",
              "        vertical-align: top;\n",
              "    }\n",
              "\n",
              "    .dataframe thead th {\n",
              "        text-align: right;\n",
              "    }\n",
              "</style>\n",
              "<table border=\"1\" class=\"dataframe\">\n",
              "  <thead>\n",
              "    <tr style=\"text-align: right;\">\n",
              "      <th></th>\n",
              "      <th>Age</th>\n",
              "      <th>BusinessTravel</th>\n",
              "      <th>Department</th>\n",
              "      <th>DistanceFromHome</th>\n",
              "      <th>Education</th>\n",
              "      <th>EducationField</th>\n",
              "      <th>Gender</th>\n",
              "      <th>JobRole</th>\n",
              "      <th>MaritalStatus</th>\n",
              "      <th>MonthlyIncome</th>\n",
              "      <th>NumCompaniesWorked</th>\n",
              "      <th>PercentSalaryHike</th>\n",
              "      <th>StandardHours</th>\n",
              "      <th>StockOptionLevel</th>\n",
              "      <th>TotalWorkingYears</th>\n",
              "      <th>TrainingTimesLastYear</th>\n",
              "      <th>YearsAtCompany</th>\n",
              "      <th>YearsSinceLastPromotion</th>\n",
              "      <th>YearsWithCurrManager</th>\n",
              "      <th>Attrition</th>\n",
              "    </tr>\n",
              "  </thead>\n",
              "  <tbody>\n",
              "    <tr>\n",
              "      <th>0</th>\n",
              "      <td>40</td>\n",
              "      <td>Travel_Rarely</td>\n",
              "      <td>Research &amp; Development</td>\n",
              "      <td>2</td>\n",
              "      <td>3</td>\n",
              "      <td>Medical</td>\n",
              "      <td>Male</td>\n",
              "      <td>Research Director</td>\n",
              "      <td>Single</td>\n",
              "      <td>47750</td>\n",
              "      <td>3.0</td>\n",
              "      <td>15</td>\n",
              "      <td>8</td>\n",
              "      <td>1</td>\n",
              "      <td>15.0</td>\n",
              "      <td>3</td>\n",
              "      <td>5</td>\n",
              "      <td>1</td>\n",
              "      <td>0</td>\n",
              "      <td>1</td>\n",
              "    </tr>\n",
              "    <tr>\n",
              "      <th>1</th>\n",
              "      <td>31</td>\n",
              "      <td>Travel_Rarely</td>\n",
              "      <td>Research &amp; Development</td>\n",
              "      <td>28</td>\n",
              "      <td>4</td>\n",
              "      <td>Technical Degree</td>\n",
              "      <td>Female</td>\n",
              "      <td>Sales Executive</td>\n",
              "      <td>Married</td>\n",
              "      <td>127420</td>\n",
              "      <td>1.0</td>\n",
              "      <td>11</td>\n",
              "      <td>8</td>\n",
              "      <td>0</td>\n",
              "      <td>10.0</td>\n",
              "      <td>4</td>\n",
              "      <td>10</td>\n",
              "      <td>0</td>\n",
              "      <td>2</td>\n",
              "      <td>0</td>\n",
              "    </tr>\n",
              "    <tr>\n",
              "      <th>2</th>\n",
              "      <td>35</td>\n",
              "      <td>Travel_Frequently</td>\n",
              "      <td>Research &amp; Development</td>\n",
              "      <td>3</td>\n",
              "      <td>3</td>\n",
              "      <td>Medical</td>\n",
              "      <td>Female</td>\n",
              "      <td>Laboratory Technician</td>\n",
              "      <td>Married</td>\n",
              "      <td>22580</td>\n",
              "      <td>1.0</td>\n",
              "      <td>11</td>\n",
              "      <td>8</td>\n",
              "      <td>1</td>\n",
              "      <td>2.0</td>\n",
              "      <td>2</td>\n",
              "      <td>2</td>\n",
              "      <td>2</td>\n",
              "      <td>2</td>\n",
              "      <td>0</td>\n",
              "    </tr>\n",
              "    <tr>\n",
              "      <th>3</th>\n",
              "      <td>33</td>\n",
              "      <td>Travel_Rarely</td>\n",
              "      <td>Research &amp; Development</td>\n",
              "      <td>2</td>\n",
              "      <td>2</td>\n",
              "      <td>Medical</td>\n",
              "      <td>Male</td>\n",
              "      <td>Sales Executive</td>\n",
              "      <td>Single</td>\n",
              "      <td>24400</td>\n",
              "      <td>0.0</td>\n",
              "      <td>18</td>\n",
              "      <td>8</td>\n",
              "      <td>3</td>\n",
              "      <td>4.0</td>\n",
              "      <td>4</td>\n",
              "      <td>3</td>\n",
              "      <td>0</td>\n",
              "      <td>2</td>\n",
              "      <td>0</td>\n",
              "    </tr>\n",
              "    <tr>\n",
              "      <th>4</th>\n",
              "      <td>32</td>\n",
              "      <td>Travel_Rarely</td>\n",
              "      <td>Research &amp; Development</td>\n",
              "      <td>2</td>\n",
              "      <td>3</td>\n",
              "      <td>Medical</td>\n",
              "      <td>Male</td>\n",
              "      <td>Research Scientist</td>\n",
              "      <td>Married</td>\n",
              "      <td>57470</td>\n",
              "      <td>1.0</td>\n",
              "      <td>13</td>\n",
              "      <td>8</td>\n",
              "      <td>0</td>\n",
              "      <td>8.0</td>\n",
              "      <td>0</td>\n",
              "      <td>8</td>\n",
              "      <td>0</td>\n",
              "      <td>7</td>\n",
              "      <td>0</td>\n",
              "    </tr>\n",
              "  </tbody>\n",
              "</table>\n",
              "</div>\n",
              "      <button class=\"colab-df-convert\" onclick=\"convertToInteractive('df-4fc1863a-1151-4876-bc9c-d46656c197f1')\"\n",
              "              title=\"Convert this dataframe to an interactive table.\"\n",
              "              style=\"display:none;\">\n",
              "        \n",
              "  <svg xmlns=\"http://www.w3.org/2000/svg\" height=\"24px\"viewBox=\"0 0 24 24\"\n",
              "       width=\"24px\">\n",
              "    <path d=\"M0 0h24v24H0V0z\" fill=\"none\"/>\n",
              "    <path d=\"M18.56 5.44l.94 2.06.94-2.06 2.06-.94-2.06-.94-.94-2.06-.94 2.06-2.06.94zm-11 1L8.5 8.5l.94-2.06 2.06-.94-2.06-.94L8.5 2.5l-.94 2.06-2.06.94zm10 10l.94 2.06.94-2.06 2.06-.94-2.06-.94-.94-2.06-.94 2.06-2.06.94z\"/><path d=\"M17.41 7.96l-1.37-1.37c-.4-.4-.92-.59-1.43-.59-.52 0-1.04.2-1.43.59L10.3 9.45l-7.72 7.72c-.78.78-.78 2.05 0 2.83L4 21.41c.39.39.9.59 1.41.59.51 0 1.02-.2 1.41-.59l7.78-7.78 2.81-2.81c.8-.78.8-2.07 0-2.86zM5.41 20L4 18.59l7.72-7.72 1.47 1.35L5.41 20z\"/>\n",
              "  </svg>\n",
              "      </button>\n",
              "      \n",
              "  <style>\n",
              "    .colab-df-container {\n",
              "      display:flex;\n",
              "      flex-wrap:wrap;\n",
              "      gap: 12px;\n",
              "    }\n",
              "\n",
              "    .colab-df-convert {\n",
              "      background-color: #E8F0FE;\n",
              "      border: none;\n",
              "      border-radius: 50%;\n",
              "      cursor: pointer;\n",
              "      display: none;\n",
              "      fill: #1967D2;\n",
              "      height: 32px;\n",
              "      padding: 0 0 0 0;\n",
              "      width: 32px;\n",
              "    }\n",
              "\n",
              "    .colab-df-convert:hover {\n",
              "      background-color: #E2EBFA;\n",
              "      box-shadow: 0px 1px 2px rgba(60, 64, 67, 0.3), 0px 1px 3px 1px rgba(60, 64, 67, 0.15);\n",
              "      fill: #174EA6;\n",
              "    }\n",
              "\n",
              "    [theme=dark] .colab-df-convert {\n",
              "      background-color: #3B4455;\n",
              "      fill: #D2E3FC;\n",
              "    }\n",
              "\n",
              "    [theme=dark] .colab-df-convert:hover {\n",
              "      background-color: #434B5C;\n",
              "      box-shadow: 0px 1px 3px 1px rgba(0, 0, 0, 0.15);\n",
              "      filter: drop-shadow(0px 1px 2px rgba(0, 0, 0, 0.3));\n",
              "      fill: #FFFFFF;\n",
              "    }\n",
              "  </style>\n",
              "\n",
              "      <script>\n",
              "        const buttonEl =\n",
              "          document.querySelector('#df-4fc1863a-1151-4876-bc9c-d46656c197f1 button.colab-df-convert');\n",
              "        buttonEl.style.display =\n",
              "          google.colab.kernel.accessAllowed ? 'block' : 'none';\n",
              "\n",
              "        async function convertToInteractive(key) {\n",
              "          const element = document.querySelector('#df-4fc1863a-1151-4876-bc9c-d46656c197f1');\n",
              "          const dataTable =\n",
              "            await google.colab.kernel.invokeFunction('convertToInteractive',\n",
              "                                                     [key], {});\n",
              "          if (!dataTable) return;\n",
              "\n",
              "          const docLinkHtml = 'Like what you see? Visit the ' +\n",
              "            '<a target=\"_blank\" href=https://colab.research.google.com/notebooks/data_table.ipynb>data table notebook</a>'\n",
              "            + ' to learn more about interactive tables.';\n",
              "          element.innerHTML = '';\n",
              "          dataTable['output_type'] = 'display_data';\n",
              "          await google.colab.output.renderOutput(dataTable, element);\n",
              "          const docLink = document.createElement('div');\n",
              "          docLink.innerHTML = docLinkHtml;\n",
              "          element.appendChild(docLink);\n",
              "        }\n",
              "      </script>\n",
              "    </div>\n",
              "  </div>\n",
              "  "
            ]
          },
          "metadata": {},
          "execution_count": 124
        }
      ]
    },
    {
      "cell_type": "code",
      "source": [
        "len(data)"
      ],
      "metadata": {
        "colab": {
          "base_uri": "https://localhost:8080/"
        },
        "id": "DoLj1UV26BaI",
        "outputId": "4c622fe3-2c96-41fa-d0b0-66720e09f954"
      },
      "execution_count": null,
      "outputs": [
        {
          "output_type": "execute_result",
          "data": {
            "text/plain": [
              "2205"
            ]
          },
          "metadata": {},
          "execution_count": 125
        }
      ]
    },
    {
      "cell_type": "markdown",
      "metadata": {
        "id": "LKl3gf9epC9Y"
      },
      "source": [
        "Сразу разделим данные на обучающую и тестовую выборки с помощью метода `train_test_split`."
      ]
    },
    {
      "cell_type": "code",
      "metadata": {
        "id": "2_16TbeapC9Z"
      },
      "source": [
        "from sklearn.model_selection import train_test_split\n",
        "\n",
        "training_data, test_data = train_test_split(data, test_size=.2) # 20% данных выделяем для теста"
      ],
      "execution_count": null,
      "outputs": []
    },
    {
      "cell_type": "markdown",
      "metadata": {
        "id": "eOKk6s2HEzWT"
      },
      "source": [
        "**Шаг 1.3. Посмотрим общую статистику по данным**\n",
        "\n",
        "Посмотрим на технические параметры загруженных данных для обучения. Для этого вызовем метод **`describe()`** для набора данных *`training_data`*\n",
        "\n",
        "Для удобства отображения мы транспонируем результат: меняем местами столбцы и строки."
      ]
    },
    {
      "cell_type": "code",
      "metadata": {
        "id": "TfBJaZRtEzWU",
        "colab": {
          "base_uri": "https://localhost:8080/",
          "height": 475
        },
        "outputId": "cd8c4459-5052-4182-8f10-a54093f5cf0b"
      },
      "source": [
        "training_data.describe().T"
      ],
      "execution_count": null,
      "outputs": [
        {
          "output_type": "execute_result",
          "data": {
            "text/plain": [
              "                          count          mean           std      min      25%  \\\n",
              "Age                      1764.0     36.705782      9.185252     18.0     30.0   \n",
              "DistanceFromHome         1764.0      9.370181      8.114792      1.0      2.0   \n",
              "Education                1764.0      2.895692      1.039985      1.0      2.0   \n",
              "MonthlyIncome            1764.0  65747.743764  47914.102720  10510.0  29022.5   \n",
              "NumCompaniesWorked       1754.0      2.691562      2.486717      0.0      1.0   \n",
              "PercentSalaryHike        1764.0     15.133220      3.601513     11.0     12.0   \n",
              "StandardHours            1764.0      8.000000      0.000000      8.0      8.0   \n",
              "StockOptionLevel         1764.0      0.816327      0.870024      0.0      0.0   \n",
              "TotalWorkingYears        1758.0     11.283845      7.939776      0.0      6.0   \n",
              "TrainingTimesLastYear    1764.0      2.779478      1.311241      0.0      2.0   \n",
              "YearsAtCompany           1764.0      7.082200      6.312934      0.0      3.0   \n",
              "YearsSinceLastPromotion  1764.0      2.228458      3.346922      0.0      0.0   \n",
              "YearsWithCurrManager     1764.0      4.170068      3.636253      0.0      2.0   \n",
              "Attrition                1764.0      0.163832      0.370228      0.0      0.0   \n",
              "\n",
              "                             50%      75%       max  \n",
              "Age                         35.0     42.0      60.0  \n",
              "DistanceFromHome             7.0     15.0      29.0  \n",
              "Education                    3.0      4.0       5.0  \n",
              "MonthlyIncome            49655.0  85780.0  199990.0  \n",
              "NumCompaniesWorked           2.0      4.0       9.0  \n",
              "PercentSalaryHike           14.0     18.0      25.0  \n",
              "StandardHours                8.0      8.0       8.0  \n",
              "StockOptionLevel             1.0      1.0       3.0  \n",
              "TotalWorkingYears           10.0     15.0      40.0  \n",
              "TrainingTimesLastYear        3.0      3.0       6.0  \n",
              "YearsAtCompany               5.0     10.0      40.0  \n",
              "YearsSinceLastPromotion      1.0      3.0      15.0  \n",
              "YearsWithCurrManager         3.0      7.0      17.0  \n",
              "Attrition                    0.0      0.0       1.0  "
            ],
            "text/html": [
              "\n",
              "  <div id=\"df-fb750cd8-c459-434e-9769-02cf914a3b29\">\n",
              "    <div class=\"colab-df-container\">\n",
              "      <div>\n",
              "<style scoped>\n",
              "    .dataframe tbody tr th:only-of-type {\n",
              "        vertical-align: middle;\n",
              "    }\n",
              "\n",
              "    .dataframe tbody tr th {\n",
              "        vertical-align: top;\n",
              "    }\n",
              "\n",
              "    .dataframe thead th {\n",
              "        text-align: right;\n",
              "    }\n",
              "</style>\n",
              "<table border=\"1\" class=\"dataframe\">\n",
              "  <thead>\n",
              "    <tr style=\"text-align: right;\">\n",
              "      <th></th>\n",
              "      <th>count</th>\n",
              "      <th>mean</th>\n",
              "      <th>std</th>\n",
              "      <th>min</th>\n",
              "      <th>25%</th>\n",
              "      <th>50%</th>\n",
              "      <th>75%</th>\n",
              "      <th>max</th>\n",
              "    </tr>\n",
              "  </thead>\n",
              "  <tbody>\n",
              "    <tr>\n",
              "      <th>Age</th>\n",
              "      <td>1764.0</td>\n",
              "      <td>36.705782</td>\n",
              "      <td>9.185252</td>\n",
              "      <td>18.0</td>\n",
              "      <td>30.0</td>\n",
              "      <td>35.0</td>\n",
              "      <td>42.0</td>\n",
              "      <td>60.0</td>\n",
              "    </tr>\n",
              "    <tr>\n",
              "      <th>DistanceFromHome</th>\n",
              "      <td>1764.0</td>\n",
              "      <td>9.370181</td>\n",
              "      <td>8.114792</td>\n",
              "      <td>1.0</td>\n",
              "      <td>2.0</td>\n",
              "      <td>7.0</td>\n",
              "      <td>15.0</td>\n",
              "      <td>29.0</td>\n",
              "    </tr>\n",
              "    <tr>\n",
              "      <th>Education</th>\n",
              "      <td>1764.0</td>\n",
              "      <td>2.895692</td>\n",
              "      <td>1.039985</td>\n",
              "      <td>1.0</td>\n",
              "      <td>2.0</td>\n",
              "      <td>3.0</td>\n",
              "      <td>4.0</td>\n",
              "      <td>5.0</td>\n",
              "    </tr>\n",
              "    <tr>\n",
              "      <th>MonthlyIncome</th>\n",
              "      <td>1764.0</td>\n",
              "      <td>65747.743764</td>\n",
              "      <td>47914.102720</td>\n",
              "      <td>10510.0</td>\n",
              "      <td>29022.5</td>\n",
              "      <td>49655.0</td>\n",
              "      <td>85780.0</td>\n",
              "      <td>199990.0</td>\n",
              "    </tr>\n",
              "    <tr>\n",
              "      <th>NumCompaniesWorked</th>\n",
              "      <td>1754.0</td>\n",
              "      <td>2.691562</td>\n",
              "      <td>2.486717</td>\n",
              "      <td>0.0</td>\n",
              "      <td>1.0</td>\n",
              "      <td>2.0</td>\n",
              "      <td>4.0</td>\n",
              "      <td>9.0</td>\n",
              "    </tr>\n",
              "    <tr>\n",
              "      <th>PercentSalaryHike</th>\n",
              "      <td>1764.0</td>\n",
              "      <td>15.133220</td>\n",
              "      <td>3.601513</td>\n",
              "      <td>11.0</td>\n",
              "      <td>12.0</td>\n",
              "      <td>14.0</td>\n",
              "      <td>18.0</td>\n",
              "      <td>25.0</td>\n",
              "    </tr>\n",
              "    <tr>\n",
              "      <th>StandardHours</th>\n",
              "      <td>1764.0</td>\n",
              "      <td>8.000000</td>\n",
              "      <td>0.000000</td>\n",
              "      <td>8.0</td>\n",
              "      <td>8.0</td>\n",
              "      <td>8.0</td>\n",
              "      <td>8.0</td>\n",
              "      <td>8.0</td>\n",
              "    </tr>\n",
              "    <tr>\n",
              "      <th>StockOptionLevel</th>\n",
              "      <td>1764.0</td>\n",
              "      <td>0.816327</td>\n",
              "      <td>0.870024</td>\n",
              "      <td>0.0</td>\n",
              "      <td>0.0</td>\n",
              "      <td>1.0</td>\n",
              "      <td>1.0</td>\n",
              "      <td>3.0</td>\n",
              "    </tr>\n",
              "    <tr>\n",
              "      <th>TotalWorkingYears</th>\n",
              "      <td>1758.0</td>\n",
              "      <td>11.283845</td>\n",
              "      <td>7.939776</td>\n",
              "      <td>0.0</td>\n",
              "      <td>6.0</td>\n",
              "      <td>10.0</td>\n",
              "      <td>15.0</td>\n",
              "      <td>40.0</td>\n",
              "    </tr>\n",
              "    <tr>\n",
              "      <th>TrainingTimesLastYear</th>\n",
              "      <td>1764.0</td>\n",
              "      <td>2.779478</td>\n",
              "      <td>1.311241</td>\n",
              "      <td>0.0</td>\n",
              "      <td>2.0</td>\n",
              "      <td>3.0</td>\n",
              "      <td>3.0</td>\n",
              "      <td>6.0</td>\n",
              "    </tr>\n",
              "    <tr>\n",
              "      <th>YearsAtCompany</th>\n",
              "      <td>1764.0</td>\n",
              "      <td>7.082200</td>\n",
              "      <td>6.312934</td>\n",
              "      <td>0.0</td>\n",
              "      <td>3.0</td>\n",
              "      <td>5.0</td>\n",
              "      <td>10.0</td>\n",
              "      <td>40.0</td>\n",
              "    </tr>\n",
              "    <tr>\n",
              "      <th>YearsSinceLastPromotion</th>\n",
              "      <td>1764.0</td>\n",
              "      <td>2.228458</td>\n",
              "      <td>3.346922</td>\n",
              "      <td>0.0</td>\n",
              "      <td>0.0</td>\n",
              "      <td>1.0</td>\n",
              "      <td>3.0</td>\n",
              "      <td>15.0</td>\n",
              "    </tr>\n",
              "    <tr>\n",
              "      <th>YearsWithCurrManager</th>\n",
              "      <td>1764.0</td>\n",
              "      <td>4.170068</td>\n",
              "      <td>3.636253</td>\n",
              "      <td>0.0</td>\n",
              "      <td>2.0</td>\n",
              "      <td>3.0</td>\n",
              "      <td>7.0</td>\n",
              "      <td>17.0</td>\n",
              "    </tr>\n",
              "    <tr>\n",
              "      <th>Attrition</th>\n",
              "      <td>1764.0</td>\n",
              "      <td>0.163832</td>\n",
              "      <td>0.370228</td>\n",
              "      <td>0.0</td>\n",
              "      <td>0.0</td>\n",
              "      <td>0.0</td>\n",
              "      <td>0.0</td>\n",
              "      <td>1.0</td>\n",
              "    </tr>\n",
              "  </tbody>\n",
              "</table>\n",
              "</div>\n",
              "      <button class=\"colab-df-convert\" onclick=\"convertToInteractive('df-fb750cd8-c459-434e-9769-02cf914a3b29')\"\n",
              "              title=\"Convert this dataframe to an interactive table.\"\n",
              "              style=\"display:none;\">\n",
              "        \n",
              "  <svg xmlns=\"http://www.w3.org/2000/svg\" height=\"24px\"viewBox=\"0 0 24 24\"\n",
              "       width=\"24px\">\n",
              "    <path d=\"M0 0h24v24H0V0z\" fill=\"none\"/>\n",
              "    <path d=\"M18.56 5.44l.94 2.06.94-2.06 2.06-.94-2.06-.94-.94-2.06-.94 2.06-2.06.94zm-11 1L8.5 8.5l.94-2.06 2.06-.94-2.06-.94L8.5 2.5l-.94 2.06-2.06.94zm10 10l.94 2.06.94-2.06 2.06-.94-2.06-.94-.94-2.06-.94 2.06-2.06.94z\"/><path d=\"M17.41 7.96l-1.37-1.37c-.4-.4-.92-.59-1.43-.59-.52 0-1.04.2-1.43.59L10.3 9.45l-7.72 7.72c-.78.78-.78 2.05 0 2.83L4 21.41c.39.39.9.59 1.41.59.51 0 1.02-.2 1.41-.59l7.78-7.78 2.81-2.81c.8-.78.8-2.07 0-2.86zM5.41 20L4 18.59l7.72-7.72 1.47 1.35L5.41 20z\"/>\n",
              "  </svg>\n",
              "      </button>\n",
              "      \n",
              "  <style>\n",
              "    .colab-df-container {\n",
              "      display:flex;\n",
              "      flex-wrap:wrap;\n",
              "      gap: 12px;\n",
              "    }\n",
              "\n",
              "    .colab-df-convert {\n",
              "      background-color: #E8F0FE;\n",
              "      border: none;\n",
              "      border-radius: 50%;\n",
              "      cursor: pointer;\n",
              "      display: none;\n",
              "      fill: #1967D2;\n",
              "      height: 32px;\n",
              "      padding: 0 0 0 0;\n",
              "      width: 32px;\n",
              "    }\n",
              "\n",
              "    .colab-df-convert:hover {\n",
              "      background-color: #E2EBFA;\n",
              "      box-shadow: 0px 1px 2px rgba(60, 64, 67, 0.3), 0px 1px 3px 1px rgba(60, 64, 67, 0.15);\n",
              "      fill: #174EA6;\n",
              "    }\n",
              "\n",
              "    [theme=dark] .colab-df-convert {\n",
              "      background-color: #3B4455;\n",
              "      fill: #D2E3FC;\n",
              "    }\n",
              "\n",
              "    [theme=dark] .colab-df-convert:hover {\n",
              "      background-color: #434B5C;\n",
              "      box-shadow: 0px 1px 3px 1px rgba(0, 0, 0, 0.15);\n",
              "      filter: drop-shadow(0px 1px 2px rgba(0, 0, 0, 0.3));\n",
              "      fill: #FFFFFF;\n",
              "    }\n",
              "  </style>\n",
              "\n",
              "      <script>\n",
              "        const buttonEl =\n",
              "          document.querySelector('#df-fb750cd8-c459-434e-9769-02cf914a3b29 button.colab-df-convert');\n",
              "        buttonEl.style.display =\n",
              "          google.colab.kernel.accessAllowed ? 'block' : 'none';\n",
              "\n",
              "        async function convertToInteractive(key) {\n",
              "          const element = document.querySelector('#df-fb750cd8-c459-434e-9769-02cf914a3b29');\n",
              "          const dataTable =\n",
              "            await google.colab.kernel.invokeFunction('convertToInteractive',\n",
              "                                                     [key], {});\n",
              "          if (!dataTable) return;\n",
              "\n",
              "          const docLinkHtml = 'Like what you see? Visit the ' +\n",
              "            '<a target=\"_blank\" href=https://colab.research.google.com/notebooks/data_table.ipynb>data table notebook</a>'\n",
              "            + ' to learn more about interactive tables.';\n",
              "          element.innerHTML = '';\n",
              "          dataTable['output_type'] = 'display_data';\n",
              "          await google.colab.output.renderOutput(dataTable, element);\n",
              "          const docLink = document.createElement('div');\n",
              "          docLink.innerHTML = docLinkHtml;\n",
              "          element.appendChild(docLink);\n",
              "        }\n",
              "      </script>\n",
              "    </div>\n",
              "  </div>\n",
              "  "
            ]
          },
          "metadata": {},
          "execution_count": 127
        }
      ]
    },
    {
      "cell_type": "markdown",
      "metadata": {
        "id": "DF2PMyNzEzWb"
      },
      "source": [
        "**Шаг 1.4. Проверяем данные на наличие пропусков и типов переменных**\n",
        "\n",
        "Начнем с проверки общей информации о данных.\n",
        "Для того чтобы это сделать, нужно обратиться вызвать у переменной *training_data* метод **info()**.\n"
      ]
    },
    {
      "cell_type": "code",
      "metadata": {
        "id": "cXy9ifqGEzWd",
        "colab": {
          "base_uri": "https://localhost:8080/"
        },
        "outputId": "73198084-cc9e-4fa5-bee0-ca1c825b6e9f"
      },
      "source": [
        "training_data.info()"
      ],
      "execution_count": null,
      "outputs": [
        {
          "output_type": "stream",
          "name": "stdout",
          "text": [
            "<class 'pandas.core.frame.DataFrame'>\n",
            "Int64Index: 1764 entries, 1720 to 805\n",
            "Data columns (total 20 columns):\n",
            " #   Column                   Non-Null Count  Dtype  \n",
            "---  ------                   --------------  -----  \n",
            " 0   Age                      1764 non-null   int64  \n",
            " 1   BusinessTravel           1764 non-null   object \n",
            " 2   Department               1764 non-null   object \n",
            " 3   DistanceFromHome         1764 non-null   int64  \n",
            " 4   Education                1764 non-null   int64  \n",
            " 5   EducationField           1764 non-null   object \n",
            " 6   Gender                   1764 non-null   object \n",
            " 7   JobRole                  1764 non-null   object \n",
            " 8   MaritalStatus            1764 non-null   object \n",
            " 9   MonthlyIncome            1764 non-null   int64  \n",
            " 10  NumCompaniesWorked       1754 non-null   float64\n",
            " 11  PercentSalaryHike        1764 non-null   int64  \n",
            " 12  StandardHours            1764 non-null   int64  \n",
            " 13  StockOptionLevel         1764 non-null   int64  \n",
            " 14  TotalWorkingYears        1758 non-null   float64\n",
            " 15  TrainingTimesLastYear    1764 non-null   int64  \n",
            " 16  YearsAtCompany           1764 non-null   int64  \n",
            " 17  YearsSinceLastPromotion  1764 non-null   int64  \n",
            " 18  YearsWithCurrManager     1764 non-null   int64  \n",
            " 19  Attrition                1764 non-null   int64  \n",
            "dtypes: float64(2), int64(12), object(6)\n",
            "memory usage: 289.4+ KB\n"
          ]
        }
      ]
    },
    {
      "cell_type": "markdown",
      "metadata": {
        "id": "1uXokDhWEzWh"
      },
      "source": [
        "**Шаг 1.5. Заполнение пропусков**\n",
        "\n",
        "Рассчитаем средние значения признаков в обучающей выборке, и заполним полученными\n",
        "числами пропуски как в **тестовом наборе** данных, так и в **самой обучающей выборке**.\n",
        "\n",
        "Мы будем заполнять средними значениями из обучающей выборки, так как при решении реальной задачи нам будут доступны только данные для обучения.\n",
        "\n",
        "Для получения средних значений вызовем метод **`mean()`**. По умолчанию метод считает средним значения по столбцам. После выполнения ячейки средние значения записаны в переменной *`train_mean`*\n",
        "\n"
      ]
    },
    {
      "cell_type": "code",
      "metadata": {
        "id": "fzuZkYu6EzWi",
        "colab": {
          "base_uri": "https://localhost:8080/"
        },
        "outputId": "8b5012a3-5d76-4fd8-946f-7cdf3a35d401"
      },
      "source": [
        "train_mean = training_data.mean()\n",
        "train_mean"
      ],
      "execution_count": null,
      "outputs": [
        {
          "output_type": "stream",
          "name": "stderr",
          "text": [
            "<ipython-input-129-b11afdd52d7b>:1: FutureWarning: Dropping of nuisance columns in DataFrame reductions (with 'numeric_only=None') is deprecated; in a future version this will raise TypeError.  Select only valid columns before calling the reduction.\n",
            "  train_mean = training_data.mean()\n"
          ]
        },
        {
          "output_type": "execute_result",
          "data": {
            "text/plain": [
              "Age                           36.705782\n",
              "DistanceFromHome               9.370181\n",
              "Education                      2.895692\n",
              "MonthlyIncome              65747.743764\n",
              "NumCompaniesWorked             2.691562\n",
              "PercentSalaryHike             15.133220\n",
              "StandardHours                  8.000000\n",
              "StockOptionLevel               0.816327\n",
              "TotalWorkingYears             11.283845\n",
              "TrainingTimesLastYear          2.779478\n",
              "YearsAtCompany                 7.082200\n",
              "YearsSinceLastPromotion        2.228458\n",
              "YearsWithCurrManager           4.170068\n",
              "Attrition                      0.163832\n",
              "dtype: float64"
            ]
          },
          "metadata": {},
          "execution_count": 129
        }
      ]
    },
    {
      "cell_type": "markdown",
      "metadata": {
        "id": "Z1A9mmF-EzWl"
      },
      "source": [
        "Для заполнения средним значением, передадим на вход методу **`fillna()`** полученный ранее набор средних значений для каждого столбца. Опция `inplace=True` говорит, что мы запишем изменения прямо в существующий массив, а не создадим новый."
      ]
    },
    {
      "cell_type": "code",
      "metadata": {
        "id": "cA1ztF62EzWm"
      },
      "source": [
        "training_data.fillna(train_mean, inplace=True)"
      ],
      "execution_count": null,
      "outputs": []
    },
    {
      "cell_type": "markdown",
      "metadata": {
        "id": "k76kOx_HEzWu"
      },
      "source": [
        "**Шаг 1.6. Работаем с целевой переменной**\n",
        "\n",
        "Нам нужно выделить в отдельную переменную *training_values* столбец из нашей таблицы, который соответствует определенной выше целевой переменной. Для этого мы у таблицы *training_data* в квадратных скобках указываем имя нужного столбца. В нашем случае это имя записано в переменной *target_variable_name*."
      ]
    },
    {
      "cell_type": "code",
      "metadata": {
        "id": "f_m1rFb8EzWx"
      },
      "source": [
        "target_variable_name = 'Attrition'"
      ],
      "execution_count": null,
      "outputs": []
    },
    {
      "cell_type": "code",
      "metadata": {
        "id": "CxuYUAfOEzW0"
      },
      "source": [
        "training_values = training_data[target_variable_name]"
      ],
      "execution_count": null,
      "outputs": []
    },
    {
      "cell_type": "markdown",
      "metadata": {
        "id": "2G1ZDIknEzW3"
      },
      "source": [
        "Отделим входные переменные от выходной (целевой), чтобы можно было построить модель предсказания целевой переменной по входным. Для это нужно у переменной *`training_data`* вызвать метод **`drop()`**."
      ]
    },
    {
      "cell_type": "code",
      "metadata": {
        "id": "sT2ZBdniEzW4"
      },
      "source": [
        "training_points = training_data.drop(target_variable_name, axis=1)"
      ],
      "execution_count": null,
      "outputs": []
    },
    {
      "cell_type": "code",
      "metadata": {
        "id": "o1bzhE6-EzW7",
        "colab": {
          "base_uri": "https://localhost:8080/"
        },
        "outputId": "84c4a0bf-04b8-499d-8011-b6bbe35c67d5"
      },
      "source": [
        "training_points.shape"
      ],
      "execution_count": null,
      "outputs": [
        {
          "output_type": "execute_result",
          "data": {
            "text/plain": [
              "(1764, 19)"
            ]
          },
          "metadata": {},
          "execution_count": 164
        }
      ]
    },
    {
      "cell_type": "markdown",
      "metadata": {
        "id": "wiCMwsCZpC9i"
      },
      "source": [
        "**Шаг 1.7. Повторяем для тестовых данных**\n",
        "\n",
        "С тестовыми данными нужно повторять те же самые преобразования, что были и на трейне.\n",
        "\n",
        "Например, пропущенные значения в тестсете надо заполнять средними значениями из ТРЕЙНА, а не из теста.\n",
        "\n",
        "Повторите шаги из пункта **1.5** и  **1.6** для тестовых данных."
      ]
    },
    {
      "cell_type": "code",
      "source": [
        "test_data.mean()"
      ],
      "metadata": {
        "colab": {
          "base_uri": "https://localhost:8080/"
        },
        "id": "3kqUW1ZW7jlO",
        "outputId": "f8871c72-67ba-4bf7-dafd-7e0d9a299548"
      },
      "execution_count": null,
      "outputs": [
        {
          "output_type": "stream",
          "name": "stderr",
          "text": [
            "<ipython-input-165-1675d0e222fb>:1: FutureWarning: Dropping of nuisance columns in DataFrame reductions (with 'numeric_only=None') is deprecated; in a future version this will raise TypeError.  Select only valid columns before calling the reduction.\n",
            "  test_data.mean()\n"
          ]
        },
        {
          "output_type": "execute_result",
          "data": {
            "text/plain": [
              "Age                           36.526077\n",
              "DistanceFromHome               9.566893\n",
              "Education                      2.895692\n",
              "MonthlyIncome              62768.888889\n",
              "NumCompaniesWorked             2.477273\n",
              "PercentSalaryHike             15.514739\n",
              "StandardHours                  8.000000\n",
              "StockOptionLevel               0.845805\n",
              "TotalWorkingYears             10.986395\n",
              "TrainingTimesLastYear          2.873016\n",
              "YearsAtCompany                 7.061224\n",
              "YearsSinceLastPromotion        2.213152\n",
              "YearsWithCurrManager           4.102041\n",
              "Attrition                      0.151927\n",
              "dtype: float64"
            ]
          },
          "metadata": {},
          "execution_count": 165
        }
      ]
    },
    {
      "cell_type": "code",
      "metadata": {
        "id": "bF-tFqn4pC9j",
        "colab": {
          "base_uri": "https://localhost:8080/"
        },
        "outputId": "adc4626d-6f1a-4078-f16b-60b690c4410a"
      },
      "source": [
        "test_data.fillna(test_data.mean(), inplace=True)"
      ],
      "execution_count": null,
      "outputs": [
        {
          "output_type": "stream",
          "name": "stderr",
          "text": [
            "<ipython-input-166-370090a82db3>:1: FutureWarning: Dropping of nuisance columns in DataFrame reductions (with 'numeric_only=None') is deprecated; in a future version this will raise TypeError.  Select only valid columns before calling the reduction.\n",
            "  test_data.fillna(test_data.mean(), inplace=True)\n"
          ]
        }
      ]
    },
    {
      "cell_type": "code",
      "source": [
        "test_data"
      ],
      "metadata": {
        "colab": {
          "base_uri": "https://localhost:8080/",
          "height": 641
        },
        "id": "A5EDepXW9Ue_",
        "outputId": "a695bb33-dea5-4258-bc19-31660d1f14e6"
      },
      "execution_count": null,
      "outputs": [
        {
          "output_type": "execute_result",
          "data": {
            "text/plain": [
              "      Age     BusinessTravel              Department  DistanceFromHome  \\\n",
              "724    32  Travel_Frequently  Research & Development                10   \n",
              "1072   28      Travel_Rarely  Research & Development                29   \n",
              "450    35  Travel_Frequently                   Sales                 8   \n",
              "2095   34      Travel_Rarely                   Sales                 2   \n",
              "1038   28         Non-Travel  Research & Development                19   \n",
              "...   ...                ...                     ...               ...   \n",
              "982    40      Travel_Rarely  Research & Development                 1   \n",
              "1248   29  Travel_Frequently  Research & Development                28   \n",
              "273    19  Travel_Frequently  Research & Development                10   \n",
              "789    29  Travel_Frequently  Research & Development                16   \n",
              "933    52      Travel_Rarely                   Sales                 1   \n",
              "\n",
              "      Education EducationField  Gender                    JobRole  \\\n",
              "724           3        Medical  Female     Manufacturing Director   \n",
              "1072          2  Life Sciences    Male      Laboratory Technician   \n",
              "450           2      Marketing  Female      Laboratory Technician   \n",
              "2095          3      Marketing    Male       Sales Representative   \n",
              "1038          4  Life Sciences  Female      Laboratory Technician   \n",
              "...         ...            ...     ...                        ...   \n",
              "982           1  Life Sciences    Male  Healthcare Representative   \n",
              "1248          3        Medical  Female         Research Scientist   \n",
              "273           2  Life Sciences    Male  Healthcare Representative   \n",
              "789           4        Medical    Male      Laboratory Technician   \n",
              "933           3  Life Sciences    Male            Sales Executive   \n",
              "\n",
              "     MaritalStatus  MonthlyIncome  NumCompaniesWorked  PercentSalaryHike  \\\n",
              "724         Single         165980                 1.0                 13   \n",
              "1072       Married          68520                 1.0                 18   \n",
              "450       Divorced          36900                 1.0                 13   \n",
              "2095        Single         103120                 1.0                 12   \n",
              "1038        Single          52380                 1.0                 17   \n",
              "...            ...            ...                 ...                ...   \n",
              "982         Single          22130                 1.0                 17   \n",
              "1248        Single          44340                 5.0                 17   \n",
              "273         Single          41870                 0.0                 22   \n",
              "789         Single          65130                 1.0                 11   \n",
              "933         Single          59740                 7.0                 18   \n",
              "\n",
              "      StandardHours  StockOptionLevel  TotalWorkingYears  \\\n",
              "724               8                 0               10.0   \n",
              "1072              8                 1                1.0   \n",
              "450               8                 1               10.0   \n",
              "2095              8                 0                6.0   \n",
              "1038              8                 1               10.0   \n",
              "...             ...               ...                ...   \n",
              "982               8                 0               21.0   \n",
              "1248              8                 3                7.0   \n",
              "273               8                 1                1.0   \n",
              "789               8                 1               10.0   \n",
              "933               8                 1               18.0   \n",
              "\n",
              "      TrainingTimesLastYear  YearsAtCompany  YearsSinceLastPromotion  \\\n",
              "724                       2              10                        6   \n",
              "1072                      2               1                        0   \n",
              "450                       2              10                        7   \n",
              "2095                      2               6                        1   \n",
              "1038                      4              10                        1   \n",
              "...                     ...             ...                      ...   \n",
              "982                       4              20                        4   \n",
              "1248                      1               5                        0   \n",
              "273                       4               0                        0   \n",
              "789                       2              10                        0   \n",
              "933                       6               8                        4   \n",
              "\n",
              "      YearsWithCurrManager  Attrition  \n",
              "724                      7          1  \n",
              "1072                     0          0  \n",
              "450                      8          1  \n",
              "2095                     3          0  \n",
              "1038                     9          1  \n",
              "...                    ...        ...  \n",
              "982                      9          0  \n",
              "1248                     0          1  \n",
              "273                      0          1  \n",
              "789                      9          0  \n",
              "933                      0          0  \n",
              "\n",
              "[441 rows x 20 columns]"
            ],
            "text/html": [
              "\n",
              "  <div id=\"df-0ccc8746-c840-458c-b291-9b10467f0122\">\n",
              "    <div class=\"colab-df-container\">\n",
              "      <div>\n",
              "<style scoped>\n",
              "    .dataframe tbody tr th:only-of-type {\n",
              "        vertical-align: middle;\n",
              "    }\n",
              "\n",
              "    .dataframe tbody tr th {\n",
              "        vertical-align: top;\n",
              "    }\n",
              "\n",
              "    .dataframe thead th {\n",
              "        text-align: right;\n",
              "    }\n",
              "</style>\n",
              "<table border=\"1\" class=\"dataframe\">\n",
              "  <thead>\n",
              "    <tr style=\"text-align: right;\">\n",
              "      <th></th>\n",
              "      <th>Age</th>\n",
              "      <th>BusinessTravel</th>\n",
              "      <th>Department</th>\n",
              "      <th>DistanceFromHome</th>\n",
              "      <th>Education</th>\n",
              "      <th>EducationField</th>\n",
              "      <th>Gender</th>\n",
              "      <th>JobRole</th>\n",
              "      <th>MaritalStatus</th>\n",
              "      <th>MonthlyIncome</th>\n",
              "      <th>NumCompaniesWorked</th>\n",
              "      <th>PercentSalaryHike</th>\n",
              "      <th>StandardHours</th>\n",
              "      <th>StockOptionLevel</th>\n",
              "      <th>TotalWorkingYears</th>\n",
              "      <th>TrainingTimesLastYear</th>\n",
              "      <th>YearsAtCompany</th>\n",
              "      <th>YearsSinceLastPromotion</th>\n",
              "      <th>YearsWithCurrManager</th>\n",
              "      <th>Attrition</th>\n",
              "    </tr>\n",
              "  </thead>\n",
              "  <tbody>\n",
              "    <tr>\n",
              "      <th>724</th>\n",
              "      <td>32</td>\n",
              "      <td>Travel_Frequently</td>\n",
              "      <td>Research &amp; Development</td>\n",
              "      <td>10</td>\n",
              "      <td>3</td>\n",
              "      <td>Medical</td>\n",
              "      <td>Female</td>\n",
              "      <td>Manufacturing Director</td>\n",
              "      <td>Single</td>\n",
              "      <td>165980</td>\n",
              "      <td>1.0</td>\n",
              "      <td>13</td>\n",
              "      <td>8</td>\n",
              "      <td>0</td>\n",
              "      <td>10.0</td>\n",
              "      <td>2</td>\n",
              "      <td>10</td>\n",
              "      <td>6</td>\n",
              "      <td>7</td>\n",
              "      <td>1</td>\n",
              "    </tr>\n",
              "    <tr>\n",
              "      <th>1072</th>\n",
              "      <td>28</td>\n",
              "      <td>Travel_Rarely</td>\n",
              "      <td>Research &amp; Development</td>\n",
              "      <td>29</td>\n",
              "      <td>2</td>\n",
              "      <td>Life Sciences</td>\n",
              "      <td>Male</td>\n",
              "      <td>Laboratory Technician</td>\n",
              "      <td>Married</td>\n",
              "      <td>68520</td>\n",
              "      <td>1.0</td>\n",
              "      <td>18</td>\n",
              "      <td>8</td>\n",
              "      <td>1</td>\n",
              "      <td>1.0</td>\n",
              "      <td>2</td>\n",
              "      <td>1</td>\n",
              "      <td>0</td>\n",
              "      <td>0</td>\n",
              "      <td>0</td>\n",
              "    </tr>\n",
              "    <tr>\n",
              "      <th>450</th>\n",
              "      <td>35</td>\n",
              "      <td>Travel_Frequently</td>\n",
              "      <td>Sales</td>\n",
              "      <td>8</td>\n",
              "      <td>2</td>\n",
              "      <td>Marketing</td>\n",
              "      <td>Female</td>\n",
              "      <td>Laboratory Technician</td>\n",
              "      <td>Divorced</td>\n",
              "      <td>36900</td>\n",
              "      <td>1.0</td>\n",
              "      <td>13</td>\n",
              "      <td>8</td>\n",
              "      <td>1</td>\n",
              "      <td>10.0</td>\n",
              "      <td>2</td>\n",
              "      <td>10</td>\n",
              "      <td>7</td>\n",
              "      <td>8</td>\n",
              "      <td>1</td>\n",
              "    </tr>\n",
              "    <tr>\n",
              "      <th>2095</th>\n",
              "      <td>34</td>\n",
              "      <td>Travel_Rarely</td>\n",
              "      <td>Sales</td>\n",
              "      <td>2</td>\n",
              "      <td>3</td>\n",
              "      <td>Marketing</td>\n",
              "      <td>Male</td>\n",
              "      <td>Sales Representative</td>\n",
              "      <td>Single</td>\n",
              "      <td>103120</td>\n",
              "      <td>1.0</td>\n",
              "      <td>12</td>\n",
              "      <td>8</td>\n",
              "      <td>0</td>\n",
              "      <td>6.0</td>\n",
              "      <td>2</td>\n",
              "      <td>6</td>\n",
              "      <td>1</td>\n",
              "      <td>3</td>\n",
              "      <td>0</td>\n",
              "    </tr>\n",
              "    <tr>\n",
              "      <th>1038</th>\n",
              "      <td>28</td>\n",
              "      <td>Non-Travel</td>\n",
              "      <td>Research &amp; Development</td>\n",
              "      <td>19</td>\n",
              "      <td>4</td>\n",
              "      <td>Life Sciences</td>\n",
              "      <td>Female</td>\n",
              "      <td>Laboratory Technician</td>\n",
              "      <td>Single</td>\n",
              "      <td>52380</td>\n",
              "      <td>1.0</td>\n",
              "      <td>17</td>\n",
              "      <td>8</td>\n",
              "      <td>1</td>\n",
              "      <td>10.0</td>\n",
              "      <td>4</td>\n",
              "      <td>10</td>\n",
              "      <td>1</td>\n",
              "      <td>9</td>\n",
              "      <td>1</td>\n",
              "    </tr>\n",
              "    <tr>\n",
              "      <th>...</th>\n",
              "      <td>...</td>\n",
              "      <td>...</td>\n",
              "      <td>...</td>\n",
              "      <td>...</td>\n",
              "      <td>...</td>\n",
              "      <td>...</td>\n",
              "      <td>...</td>\n",
              "      <td>...</td>\n",
              "      <td>...</td>\n",
              "      <td>...</td>\n",
              "      <td>...</td>\n",
              "      <td>...</td>\n",
              "      <td>...</td>\n",
              "      <td>...</td>\n",
              "      <td>...</td>\n",
              "      <td>...</td>\n",
              "      <td>...</td>\n",
              "      <td>...</td>\n",
              "      <td>...</td>\n",
              "      <td>...</td>\n",
              "    </tr>\n",
              "    <tr>\n",
              "      <th>982</th>\n",
              "      <td>40</td>\n",
              "      <td>Travel_Rarely</td>\n",
              "      <td>Research &amp; Development</td>\n",
              "      <td>1</td>\n",
              "      <td>1</td>\n",
              "      <td>Life Sciences</td>\n",
              "      <td>Male</td>\n",
              "      <td>Healthcare Representative</td>\n",
              "      <td>Single</td>\n",
              "      <td>22130</td>\n",
              "      <td>1.0</td>\n",
              "      <td>17</td>\n",
              "      <td>8</td>\n",
              "      <td>0</td>\n",
              "      <td>21.0</td>\n",
              "      <td>4</td>\n",
              "      <td>20</td>\n",
              "      <td>4</td>\n",
              "      <td>9</td>\n",
              "      <td>0</td>\n",
              "    </tr>\n",
              "    <tr>\n",
              "      <th>1248</th>\n",
              "      <td>29</td>\n",
              "      <td>Travel_Frequently</td>\n",
              "      <td>Research &amp; Development</td>\n",
              "      <td>28</td>\n",
              "      <td>3</td>\n",
              "      <td>Medical</td>\n",
              "      <td>Female</td>\n",
              "      <td>Research Scientist</td>\n",
              "      <td>Single</td>\n",
              "      <td>44340</td>\n",
              "      <td>5.0</td>\n",
              "      <td>17</td>\n",
              "      <td>8</td>\n",
              "      <td>3</td>\n",
              "      <td>7.0</td>\n",
              "      <td>1</td>\n",
              "      <td>5</td>\n",
              "      <td>0</td>\n",
              "      <td>0</td>\n",
              "      <td>1</td>\n",
              "    </tr>\n",
              "    <tr>\n",
              "      <th>273</th>\n",
              "      <td>19</td>\n",
              "      <td>Travel_Frequently</td>\n",
              "      <td>Research &amp; Development</td>\n",
              "      <td>10</td>\n",
              "      <td>2</td>\n",
              "      <td>Life Sciences</td>\n",
              "      <td>Male</td>\n",
              "      <td>Healthcare Representative</td>\n",
              "      <td>Single</td>\n",
              "      <td>41870</td>\n",
              "      <td>0.0</td>\n",
              "      <td>22</td>\n",
              "      <td>8</td>\n",
              "      <td>1</td>\n",
              "      <td>1.0</td>\n",
              "      <td>4</td>\n",
              "      <td>0</td>\n",
              "      <td>0</td>\n",
              "      <td>0</td>\n",
              "      <td>1</td>\n",
              "    </tr>\n",
              "    <tr>\n",
              "      <th>789</th>\n",
              "      <td>29</td>\n",
              "      <td>Travel_Frequently</td>\n",
              "      <td>Research &amp; Development</td>\n",
              "      <td>16</td>\n",
              "      <td>4</td>\n",
              "      <td>Medical</td>\n",
              "      <td>Male</td>\n",
              "      <td>Laboratory Technician</td>\n",
              "      <td>Single</td>\n",
              "      <td>65130</td>\n",
              "      <td>1.0</td>\n",
              "      <td>11</td>\n",
              "      <td>8</td>\n",
              "      <td>1</td>\n",
              "      <td>10.0</td>\n",
              "      <td>2</td>\n",
              "      <td>10</td>\n",
              "      <td>0</td>\n",
              "      <td>9</td>\n",
              "      <td>0</td>\n",
              "    </tr>\n",
              "    <tr>\n",
              "      <th>933</th>\n",
              "      <td>52</td>\n",
              "      <td>Travel_Rarely</td>\n",
              "      <td>Sales</td>\n",
              "      <td>1</td>\n",
              "      <td>3</td>\n",
              "      <td>Life Sciences</td>\n",
              "      <td>Male</td>\n",
              "      <td>Sales Executive</td>\n",
              "      <td>Single</td>\n",
              "      <td>59740</td>\n",
              "      <td>7.0</td>\n",
              "      <td>18</td>\n",
              "      <td>8</td>\n",
              "      <td>1</td>\n",
              "      <td>18.0</td>\n",
              "      <td>6</td>\n",
              "      <td>8</td>\n",
              "      <td>4</td>\n",
              "      <td>0</td>\n",
              "      <td>0</td>\n",
              "    </tr>\n",
              "  </tbody>\n",
              "</table>\n",
              "<p>441 rows × 20 columns</p>\n",
              "</div>\n",
              "      <button class=\"colab-df-convert\" onclick=\"convertToInteractive('df-0ccc8746-c840-458c-b291-9b10467f0122')\"\n",
              "              title=\"Convert this dataframe to an interactive table.\"\n",
              "              style=\"display:none;\">\n",
              "        \n",
              "  <svg xmlns=\"http://www.w3.org/2000/svg\" height=\"24px\"viewBox=\"0 0 24 24\"\n",
              "       width=\"24px\">\n",
              "    <path d=\"M0 0h24v24H0V0z\" fill=\"none\"/>\n",
              "    <path d=\"M18.56 5.44l.94 2.06.94-2.06 2.06-.94-2.06-.94-.94-2.06-.94 2.06-2.06.94zm-11 1L8.5 8.5l.94-2.06 2.06-.94-2.06-.94L8.5 2.5l-.94 2.06-2.06.94zm10 10l.94 2.06.94-2.06 2.06-.94-2.06-.94-.94-2.06-.94 2.06-2.06.94z\"/><path d=\"M17.41 7.96l-1.37-1.37c-.4-.4-.92-.59-1.43-.59-.52 0-1.04.2-1.43.59L10.3 9.45l-7.72 7.72c-.78.78-.78 2.05 0 2.83L4 21.41c.39.39.9.59 1.41.59.51 0 1.02-.2 1.41-.59l7.78-7.78 2.81-2.81c.8-.78.8-2.07 0-2.86zM5.41 20L4 18.59l7.72-7.72 1.47 1.35L5.41 20z\"/>\n",
              "  </svg>\n",
              "      </button>\n",
              "      \n",
              "  <style>\n",
              "    .colab-df-container {\n",
              "      display:flex;\n",
              "      flex-wrap:wrap;\n",
              "      gap: 12px;\n",
              "    }\n",
              "\n",
              "    .colab-df-convert {\n",
              "      background-color: #E8F0FE;\n",
              "      border: none;\n",
              "      border-radius: 50%;\n",
              "      cursor: pointer;\n",
              "      display: none;\n",
              "      fill: #1967D2;\n",
              "      height: 32px;\n",
              "      padding: 0 0 0 0;\n",
              "      width: 32px;\n",
              "    }\n",
              "\n",
              "    .colab-df-convert:hover {\n",
              "      background-color: #E2EBFA;\n",
              "      box-shadow: 0px 1px 2px rgba(60, 64, 67, 0.3), 0px 1px 3px 1px rgba(60, 64, 67, 0.15);\n",
              "      fill: #174EA6;\n",
              "    }\n",
              "\n",
              "    [theme=dark] .colab-df-convert {\n",
              "      background-color: #3B4455;\n",
              "      fill: #D2E3FC;\n",
              "    }\n",
              "\n",
              "    [theme=dark] .colab-df-convert:hover {\n",
              "      background-color: #434B5C;\n",
              "      box-shadow: 0px 1px 3px 1px rgba(0, 0, 0, 0.15);\n",
              "      filter: drop-shadow(0px 1px 2px rgba(0, 0, 0, 0.3));\n",
              "      fill: #FFFFFF;\n",
              "    }\n",
              "  </style>\n",
              "\n",
              "      <script>\n",
              "        const buttonEl =\n",
              "          document.querySelector('#df-0ccc8746-c840-458c-b291-9b10467f0122 button.colab-df-convert');\n",
              "        buttonEl.style.display =\n",
              "          google.colab.kernel.accessAllowed ? 'block' : 'none';\n",
              "\n",
              "        async function convertToInteractive(key) {\n",
              "          const element = document.querySelector('#df-0ccc8746-c840-458c-b291-9b10467f0122');\n",
              "          const dataTable =\n",
              "            await google.colab.kernel.invokeFunction('convertToInteractive',\n",
              "                                                     [key], {});\n",
              "          if (!dataTable) return;\n",
              "\n",
              "          const docLinkHtml = 'Like what you see? Visit the ' +\n",
              "            '<a target=\"_blank\" href=https://colab.research.google.com/notebooks/data_table.ipynb>data table notebook</a>'\n",
              "            + ' to learn more about interactive tables.';\n",
              "          element.innerHTML = '';\n",
              "          dataTable['output_type'] = 'display_data';\n",
              "          await google.colab.output.renderOutput(dataTable, element);\n",
              "          const docLink = document.createElement('div');\n",
              "          docLink.innerHTML = docLinkHtml;\n",
              "          element.appendChild(docLink);\n",
              "        }\n",
              "      </script>\n",
              "    </div>\n",
              "  </div>\n",
              "  "
            ]
          },
          "metadata": {},
          "execution_count": 167
        }
      ]
    },
    {
      "cell_type": "code",
      "metadata": {
        "id": "hyhtlVmLpC9j"
      },
      "source": [
        "test_values = test_data[target_variable_name]\n",
        "test_points = test_data.drop(target_variable_name, axis = 1)"
      ],
      "execution_count": null,
      "outputs": []
    },
    {
      "cell_type": "markdown",
      "metadata": {
        "id": "hajJMzK6EzXR"
      },
      "source": [
        "## Шаг 2.  Обработать текстовые переменные"
      ]
    },
    {
      "cell_type": "markdown",
      "metadata": {
        "id": "hZLpZTRgEzXT"
      },
      "source": [
        "В наших данных есть значения типа object. В нашем случае, это текстовые признаки. Чтобы можно было подавать их на вход алгоритму, нам необходимо закодировать их. Мы будем использовать самый простой метод **LabelEncoder()** из библиотеки **sklearn**.\n"
      ]
    },
    {
      "cell_type": "code",
      "source": [
        "training_points.info()"
      ],
      "metadata": {
        "colab": {
          "base_uri": "https://localhost:8080/"
        },
        "id": "lwWDN41N8kd4",
        "outputId": "00c8ff23-297c-477a-8973-0d3a2e6247f1"
      },
      "execution_count": null,
      "outputs": [
        {
          "output_type": "stream",
          "name": "stdout",
          "text": [
            "<class 'pandas.core.frame.DataFrame'>\n",
            "Int64Index: 1764 entries, 1720 to 805\n",
            "Data columns (total 19 columns):\n",
            " #   Column                   Non-Null Count  Dtype  \n",
            "---  ------                   --------------  -----  \n",
            " 0   Age                      1764 non-null   int64  \n",
            " 1   BusinessTravel           1764 non-null   object \n",
            " 2   Department               1764 non-null   object \n",
            " 3   DistanceFromHome         1764 non-null   int64  \n",
            " 4   Education                1764 non-null   int64  \n",
            " 5   EducationField           1764 non-null   object \n",
            " 6   Gender                   1764 non-null   object \n",
            " 7   JobRole                  1764 non-null   object \n",
            " 8   MaritalStatus            1764 non-null   object \n",
            " 9   MonthlyIncome            1764 non-null   int64  \n",
            " 10  NumCompaniesWorked       1764 non-null   float64\n",
            " 11  PercentSalaryHike        1764 non-null   int64  \n",
            " 12  StandardHours            1764 non-null   int64  \n",
            " 13  StockOptionLevel         1764 non-null   int64  \n",
            " 14  TotalWorkingYears        1764 non-null   float64\n",
            " 15  TrainingTimesLastYear    1764 non-null   int64  \n",
            " 16  YearsAtCompany           1764 non-null   int64  \n",
            " 17  YearsSinceLastPromotion  1764 non-null   int64  \n",
            " 18  YearsWithCurrManager     1764 non-null   int64  \n",
            "dtypes: float64(2), int64(11), object(6)\n",
            "memory usage: 275.6+ KB\n"
          ]
        }
      ]
    },
    {
      "cell_type": "code",
      "metadata": {
        "id": "l9_yKCb0EzXV"
      },
      "source": [
        "from sklearn.preprocessing import LabelEncoder"
      ],
      "execution_count": null,
      "outputs": []
    },
    {
      "cell_type": "code",
      "metadata": {
        "id": "po3c0OmhEzXZ"
      },
      "source": [
        "text_features = ['BusinessTravel', 'Department', 'EducationField',\n",
        "                 'Gender', 'JobRole', 'MaritalStatus']"
      ],
      "execution_count": null,
      "outputs": []
    },
    {
      "cell_type": "code",
      "metadata": {
        "id": "5XgGFoQDEzXc"
      },
      "source": [
        "label_encoder = LabelEncoder()"
      ],
      "execution_count": null,
      "outputs": []
    },
    {
      "cell_type": "code",
      "metadata": {
        "id": "oN_9PjwFEzXe"
      },
      "source": [
        "for col in text_features:\n",
        "    training_points[col] = label_encoder.fit_transform(training_points[col]) + 1\n",
        "    test_points[col]     = label_encoder.transform(test_points[col]) + 1"
      ],
      "execution_count": null,
      "outputs": []
    },
    {
      "cell_type": "markdown",
      "metadata": {
        "id": "jz07J1T-EzXh"
      },
      "source": [
        "##   3. Обучить модель на обучающей выборке"
      ]
    },
    {
      "cell_type": "markdown",
      "metadata": {
        "id": "r_3EoI8kEzXi"
      },
      "source": [
        "В библиотеке **xgboost**, программной библиотеке на языке python, реализован градиентный бустинг над решающими деревьями как для задачи регрессии, так и для задачи классификации."
      ]
    },
    {
      "cell_type": "code",
      "metadata": {
        "id": "9NQo5SwYEzXj"
      },
      "source": [
        "from sklearn.linear_model import LogisticRegression"
      ],
      "execution_count": null,
      "outputs": []
    },
    {
      "cell_type": "code",
      "metadata": {
        "id": "0R582Or9EzXm"
      },
      "source": [
        "logreg_model = LogisticRegression()"
      ],
      "execution_count": null,
      "outputs": []
    },
    {
      "cell_type": "markdown",
      "metadata": {
        "id": "loL-huuEEzXq"
      },
      "source": [
        "**Шаг 3.1. Обучить модель**\n",
        "\n",
        "Теперь, когда мы создали прототип модели, можем ее обучить с помощью обучающей выборки.\n",
        "\n",
        "Для этого вызываем метод **fit()**."
      ]
    },
    {
      "cell_type": "code",
      "metadata": {
        "id": "0nxg0VmPEzXr",
        "colab": {
          "base_uri": "https://localhost:8080/"
        },
        "outputId": "27497573-a560-400d-f835-a16509d39422"
      },
      "source": [
        "logreg_model.fit(training_points, training_values)"
      ],
      "execution_count": null,
      "outputs": [
        {
          "output_type": "execute_result",
          "data": {
            "text/plain": [
              "LogisticRegression()"
            ]
          },
          "metadata": {},
          "execution_count": 236
        }
      ]
    },
    {
      "cell_type": "markdown",
      "metadata": {
        "id": "1cMONbqsEzXv"
      },
      "source": [
        "**Шаг 3.2. Получить предсказания модели.**"
      ]
    },
    {
      "cell_type": "code",
      "metadata": {
        "id": "cVQjXdz9EzXx"
      },
      "source": [
        "#предсказываем непосредственно классы\n",
        "train_predictions = logreg_model.predict(training_points)\n",
        "test_predictions  = logreg_model.predict(test_points)\n",
        "\n",
        "#предсказываем вероятности\n",
        "train_probas = logreg_model.predict_proba(training_points)[:,1] #  выбираем, последний столбец, поскольку нужны вероятности принадлежности к первому классу\n",
        "test_probas  = logreg_model.predict_proba(test_points)[:,1]\n"
      ],
      "execution_count": null,
      "outputs": []
    },
    {
      "cell_type": "code",
      "source": [
        "pd.Series(train_predictions).value_counts()"
      ],
      "metadata": {
        "colab": {
          "base_uri": "https://localhost:8080/"
        },
        "id": "eAJHmaNJE5Tg",
        "outputId": "18cbd118-b661-4fa9-f5b1-9f63ed5ed5d7"
      },
      "execution_count": null,
      "outputs": [
        {
          "output_type": "execute_result",
          "data": {
            "text/plain": [
              "0    1764\n",
              "dtype: int64"
            ]
          },
          "metadata": {},
          "execution_count": 238
        }
      ]
    },
    {
      "cell_type": "code",
      "source": [
        "pd.Series(test_predictions).value_counts()"
      ],
      "metadata": {
        "colab": {
          "base_uri": "https://localhost:8080/"
        },
        "id": "nhWMo3X1FHL7",
        "outputId": "b2cf2dc4-2b14-47ac-aa9d-f1ac747da61a"
      },
      "execution_count": null,
      "outputs": [
        {
          "output_type": "execute_result",
          "data": {
            "text/plain": [
              "0    441\n",
              "dtype: int64"
            ]
          },
          "metadata": {},
          "execution_count": 239
        }
      ]
    },
    {
      "cell_type": "markdown",
      "metadata": {
        "id": "tjPMf0cwEzX1"
      },
      "source": [
        "**Шаг 3.3. Получить метрики на тестовом и трейновом датасете.**"
      ]
    },
    {
      "cell_type": "markdown",
      "metadata": {
        "id": "KtrqLXMYpC9r"
      },
      "source": [
        "Посчитаем значение метрики `accuracy` для модели на тренировочном и тестовом датасете."
      ]
    },
    {
      "cell_type": "code",
      "metadata": {
        "id": "DqQDdPoopC9r",
        "colab": {
          "base_uri": "https://localhost:8080/"
        },
        "outputId": "731b3545-7d28-424c-a5de-1f5fa136af90"
      },
      "source": [
        "from sklearn.metrics import accuracy_score\n",
        "\n",
        "print('Train accuracy', accuracy_score(training_values, train_predictions))\n",
        "print('Test accuracy', accuracy_score(test_values, test_predictions))"
      ],
      "execution_count": null,
      "outputs": [
        {
          "output_type": "stream",
          "name": "stdout",
          "text": [
            "Train accuracy 0.8361678004535147\n",
            "Test accuracy 0.8480725623582767\n"
          ]
        }
      ]
    },
    {
      "cell_type": "markdown",
      "metadata": {
        "id": "5vP9aIYgpC9r"
      },
      "source": [
        "Как видно, качество на трейне почти такое же как на тесте. Однако `accuracy` - не совсем правильная метрика в нашем случае, поскольку у нас несбалансированная классификация - единичик гораздо меньше чем ноликов.\n",
        "\n",
        "В этом случае стоит использовать другие метрики - `precision`, `recall`, `roc_auc`. Посчитайте эти 3 метрики, для модели на тренировочной и тестовой выборке.\n",
        "\n",
        "Методы для подсчета этих метрик уже есть в `sklearn`, вам лишь нужно их найти! Обратите внимание, для подсчета roc_auc нужны не предсказания, а **вероятности предсказания**."
      ]
    },
    {
      "cell_type": "code",
      "metadata": {
        "id": "IwKaOKJrpC9s"
      },
      "source": [
        "from sklearn.metrics import recall_score, precision_score, roc_auc_score"
      ],
      "execution_count": null,
      "outputs": []
    },
    {
      "cell_type": "code",
      "source": [
        "print(f'Train_Recall = {recall_score(y_true = training_values, y_pred = train_predictions)}')\n",
        "print(f'Test_Recall = {recall_score(y_true = test_values, y_pred = test_predictions)}')"
      ],
      "metadata": {
        "colab": {
          "base_uri": "https://localhost:8080/"
        },
        "id": "wq7QYafJAObY",
        "outputId": "f9be70de-8b2d-48b4-d6d8-87be67a60db5"
      },
      "execution_count": null,
      "outputs": [
        {
          "output_type": "stream",
          "name": "stdout",
          "text": [
            "Train_Recall = 0.0\n",
            "Test_Recall = 0.0\n"
          ]
        }
      ]
    },
    {
      "cell_type": "code",
      "source": [
        "print(f'Train_Precission = {precision_score(y_true = training_values, y_pred = train_predictions, zero_division = 0)}')\n",
        "print(f'Test_Precission = {precision_score(y_true = test_values, y_pred = test_predictions, zero_division = 0)}')"
      ],
      "metadata": {
        "colab": {
          "base_uri": "https://localhost:8080/"
        },
        "id": "8MqMlJWZAc4X",
        "outputId": "2a06b784-94c4-487b-86cc-cb520cd2fd2d"
      },
      "execution_count": null,
      "outputs": [
        {
          "output_type": "stream",
          "name": "stdout",
          "text": [
            "Train_Precission = 0.0\n",
            "Test_Precission = 0.0\n"
          ]
        }
      ]
    },
    {
      "cell_type": "code",
      "source": [
        "print(f'Roc_Auc_Score_Train = {roc_auc_score(training_values, train_probas):.3f}')\n",
        "print(f'Roc_Auc_Score_Test  = {roc_auc_score(test_values, test_probas):.3f}')"
      ],
      "metadata": {
        "colab": {
          "base_uri": "https://localhost:8080/"
        },
        "id": "2juaz85sCCZW",
        "outputId": "722ec19b-4e9a-4238-e34c-4eb34c77cb26"
      },
      "execution_count": null,
      "outputs": [
        {
          "output_type": "stream",
          "name": "stdout",
          "text": [
            "Roc_Auc_Score_Train = 0.688\n",
            "Roc_Auc_Score_Test  = 0.692\n"
          ]
        }
      ]
    },
    {
      "cell_type": "markdown",
      "metadata": {
        "id": "3AWjMlovpC9s"
      },
      "source": [
        "##   4. Обучите более сильную модель - бонус (5 баллов)"
      ]
    },
    {
      "cell_type": "markdown",
      "metadata": {
        "id": "wr8JwfBjpC9s"
      },
      "source": [
        "В предыдущем пункте мы использовали базовую модель для классификации - логистической регрессии. Как вы уже знаете (или еще узнаете), есть более сильные модели для обучения на табличных данных, например, - градиентный бустинг. Воспользуйтесь библиотекой `xgboost`, чтобы создать модель градиентного бустинга, и повторите для нее все шаги из предыдущего пункта (в частности подсчет метрик). Сравните ее с моделью логистической регрессии.\n",
        "\n",
        "*Внимание: если вы работаете локально, вам потребуется установить библиотеку xgboost, что не всегда легко, так что советуем выполнять этот пункт на Гугл Колабе.*"
      ]
    },
    {
      "cell_type": "code",
      "metadata": {
        "id": "_WsIhne6pC9s"
      },
      "source": [
        "from xgboost import XGBClassifier\n",
        "\n",
        "xgboost_model = XGBClassifier()"
      ],
      "execution_count": null,
      "outputs": []
    },
    {
      "cell_type": "code",
      "source": [
        "xgboost_model.fit(training_points, training_values)"
      ],
      "metadata": {
        "colab": {
          "base_uri": "https://localhost:8080/"
        },
        "id": "abJBGNokDXSv",
        "outputId": "a8b651c8-890b-4a12-b45a-59ee52fe5f8b"
      },
      "execution_count": null,
      "outputs": [
        {
          "output_type": "execute_result",
          "data": {
            "text/plain": [
              "XGBClassifier()"
            ]
          },
          "metadata": {},
          "execution_count": 246
        }
      ]
    },
    {
      "cell_type": "code",
      "source": [
        "training_pred = xgboost_model.predict(training_points)\n",
        "testing_pred = xgboost_model.predict(test_points)\n",
        "\n",
        "train_probas = xgboost_model.predict_proba(training_points)[:, 1]\n",
        "test_probas  = xgboost_model.predict_proba(test_points)[:, 1]"
      ],
      "metadata": {
        "id": "04h6NRvTDfJw"
      },
      "execution_count": null,
      "outputs": []
    },
    {
      "cell_type": "code",
      "source": [
        "pd.Series(training_pred).value_counts()"
      ],
      "metadata": {
        "colab": {
          "base_uri": "https://localhost:8080/"
        },
        "id": "kPVnYV16Fi5X",
        "outputId": "e5bad144-fc4b-45e4-e96b-c8688254f210"
      },
      "execution_count": null,
      "outputs": [
        {
          "output_type": "execute_result",
          "data": {
            "text/plain": [
              "0    1633\n",
              "1     131\n",
              "dtype: int64"
            ]
          },
          "metadata": {},
          "execution_count": 248
        }
      ]
    },
    {
      "cell_type": "code",
      "source": [
        "pd.Series(testing_pred).value_counts()"
      ],
      "metadata": {
        "colab": {
          "base_uri": "https://localhost:8080/"
        },
        "id": "BM2rzbVqFnqk",
        "outputId": "6140996b-dd9f-4ba0-abd5-5aff7be22eec"
      },
      "execution_count": null,
      "outputs": [
        {
          "output_type": "execute_result",
          "data": {
            "text/plain": [
              "0    415\n",
              "1     26\n",
              "dtype: int64"
            ]
          },
          "metadata": {},
          "execution_count": 249
        }
      ]
    },
    {
      "cell_type": "code",
      "source": [
        "print(f'Train_Recall = {recall_score(y_true = training_values, y_pred = training_pred)}')\n",
        "print(f'Test_Recall = {recall_score(y_true = test_values, y_pred = testing_pred)}')"
      ],
      "metadata": {
        "colab": {
          "base_uri": "https://localhost:8080/"
        },
        "id": "_U6_nIIhD0vC",
        "outputId": "9b3eebd4-529c-4f87-def7-4904b8279c72"
      },
      "execution_count": null,
      "outputs": [
        {
          "output_type": "stream",
          "name": "stdout",
          "text": [
            "Train_Recall = 0.4083044982698962\n",
            "Test_Recall = 0.31343283582089554\n"
          ]
        }
      ]
    },
    {
      "cell_type": "code",
      "source": [
        "print(f'Train_Precission = {precision_score(y_true = training_values, y_pred = training_pred, zero_division = 0)}')\n",
        "print(f'Test_Precission = {precision_score(y_true = test_values, y_pred = testing_pred, zero_division = 0)}')"
      ],
      "metadata": {
        "colab": {
          "base_uri": "https://localhost:8080/"
        },
        "id": "TmYeOF10EBxF",
        "outputId": "1dabeed3-ee65-4cb8-cb9c-a12a7ebc7f75"
      },
      "execution_count": null,
      "outputs": [
        {
          "output_type": "stream",
          "name": "stdout",
          "text": [
            "Train_Precission = 0.9007633587786259\n",
            "Test_Precission = 0.8076923076923077\n"
          ]
        }
      ]
    },
    {
      "cell_type": "code",
      "source": [
        "print(f'Roc_Auc_Score_Train = {roc_auc_score(training_values, train_probas):.3f}')\n",
        "print(f'Roc_Auc_Score_Test  = {roc_auc_score(test_values, test_probas):.3f}')"
      ],
      "metadata": {
        "colab": {
          "base_uri": "https://localhost:8080/"
        },
        "id": "TQHyoyRnEC9i",
        "outputId": "9a8124ea-6757-46bc-c5c3-cfea41c936a5"
      },
      "execution_count": null,
      "outputs": [
        {
          "output_type": "stream",
          "name": "stdout",
          "text": [
            "Roc_Auc_Score_Train = 0.938\n",
            "Roc_Auc_Score_Test  = 0.806\n"
          ]
        }
      ]
    },
    {
      "cell_type": "code",
      "source": [],
      "metadata": {
        "id": "edyv7jotEhHC"
      },
      "execution_count": null,
      "outputs": []
    }
  ]
}